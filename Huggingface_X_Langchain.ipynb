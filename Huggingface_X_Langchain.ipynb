{
  "nbformat": 4,
  "nbformat_minor": 0,
  "metadata": {
    "colab": {
      "provenance": [],
      "gpuType": "T4",
      "include_colab_link": true
    },
    "kernelspec": {
      "name": "python3",
      "display_name": "Python 3"
    },
    "language_info": {
      "name": "python"
    },
    "accelerator": "GPU",
    "widgets": {
      "application/vnd.jupyter.widget-state+json": {
        "88151a067f40497d9a28545ebe930d36": {
          "model_module": "@jupyter-widgets/controls",
          "model_name": "HBoxModel",
          "model_module_version": "1.5.0",
          "state": {
            "_dom_classes": [],
            "_model_module": "@jupyter-widgets/controls",
            "_model_module_version": "1.5.0",
            "_model_name": "HBoxModel",
            "_view_count": null,
            "_view_module": "@jupyter-widgets/controls",
            "_view_module_version": "1.5.0",
            "_view_name": "HBoxView",
            "box_style": "",
            "children": [
              "IPY_MODEL_613539dcd7314fc2a41c38ff0152eb8d",
              "IPY_MODEL_4378aafa1e8e49b1a7cb876253504e4a",
              "IPY_MODEL_c39a3711f134456ebd2bc32a5120c72a"
            ],
            "layout": "IPY_MODEL_2ed8359868b344d7969ce7854dd764bd"
          }
        },
        "613539dcd7314fc2a41c38ff0152eb8d": {
          "model_module": "@jupyter-widgets/controls",
          "model_name": "HTMLModel",
          "model_module_version": "1.5.0",
          "state": {
            "_dom_classes": [],
            "_model_module": "@jupyter-widgets/controls",
            "_model_module_version": "1.5.0",
            "_model_name": "HTMLModel",
            "_view_count": null,
            "_view_module": "@jupyter-widgets/controls",
            "_view_module_version": "1.5.0",
            "_view_name": "HTMLView",
            "description": "",
            "description_tooltip": null,
            "layout": "IPY_MODEL_ed73ca4febc343c3ae387b8dcac4e052",
            "placeholder": "​",
            "style": "IPY_MODEL_a807013b18bc49109a9cd50b2dd6da3e",
            "value": "config.json: 100%"
          }
        },
        "4378aafa1e8e49b1a7cb876253504e4a": {
          "model_module": "@jupyter-widgets/controls",
          "model_name": "FloatProgressModel",
          "model_module_version": "1.5.0",
          "state": {
            "_dom_classes": [],
            "_model_module": "@jupyter-widgets/controls",
            "_model_module_version": "1.5.0",
            "_model_name": "FloatProgressModel",
            "_view_count": null,
            "_view_module": "@jupyter-widgets/controls",
            "_view_module_version": "1.5.0",
            "_view_name": "ProgressView",
            "bar_style": "success",
            "description": "",
            "description_tooltip": null,
            "layout": "IPY_MODEL_086f10f80d6343e39757b4ebbb3730af",
            "max": 608,
            "min": 0,
            "orientation": "horizontal",
            "style": "IPY_MODEL_513b38a77beb4a82b0ea06ba6902c567",
            "value": 608
          }
        },
        "c39a3711f134456ebd2bc32a5120c72a": {
          "model_module": "@jupyter-widgets/controls",
          "model_name": "HTMLModel",
          "model_module_version": "1.5.0",
          "state": {
            "_dom_classes": [],
            "_model_module": "@jupyter-widgets/controls",
            "_model_module_version": "1.5.0",
            "_model_name": "HTMLModel",
            "_view_count": null,
            "_view_module": "@jupyter-widgets/controls",
            "_view_module_version": "1.5.0",
            "_view_name": "HTMLView",
            "description": "",
            "description_tooltip": null,
            "layout": "IPY_MODEL_54c9f2faf67c4a409de4ec6a2c9f48ca",
            "placeholder": "​",
            "style": "IPY_MODEL_ee81be4d189e43a38eeebc634c2f59df",
            "value": " 608/608 [00:00&lt;00:00, 36.7kB/s]"
          }
        },
        "2ed8359868b344d7969ce7854dd764bd": {
          "model_module": "@jupyter-widgets/base",
          "model_name": "LayoutModel",
          "model_module_version": "1.2.0",
          "state": {
            "_model_module": "@jupyter-widgets/base",
            "_model_module_version": "1.2.0",
            "_model_name": "LayoutModel",
            "_view_count": null,
            "_view_module": "@jupyter-widgets/base",
            "_view_module_version": "1.2.0",
            "_view_name": "LayoutView",
            "align_content": null,
            "align_items": null,
            "align_self": null,
            "border": null,
            "bottom": null,
            "display": null,
            "flex": null,
            "flex_flow": null,
            "grid_area": null,
            "grid_auto_columns": null,
            "grid_auto_flow": null,
            "grid_auto_rows": null,
            "grid_column": null,
            "grid_gap": null,
            "grid_row": null,
            "grid_template_areas": null,
            "grid_template_columns": null,
            "grid_template_rows": null,
            "height": null,
            "justify_content": null,
            "justify_items": null,
            "left": null,
            "margin": null,
            "max_height": null,
            "max_width": null,
            "min_height": null,
            "min_width": null,
            "object_fit": null,
            "object_position": null,
            "order": null,
            "overflow": null,
            "overflow_x": null,
            "overflow_y": null,
            "padding": null,
            "right": null,
            "top": null,
            "visibility": null,
            "width": null
          }
        },
        "ed73ca4febc343c3ae387b8dcac4e052": {
          "model_module": "@jupyter-widgets/base",
          "model_name": "LayoutModel",
          "model_module_version": "1.2.0",
          "state": {
            "_model_module": "@jupyter-widgets/base",
            "_model_module_version": "1.2.0",
            "_model_name": "LayoutModel",
            "_view_count": null,
            "_view_module": "@jupyter-widgets/base",
            "_view_module_version": "1.2.0",
            "_view_name": "LayoutView",
            "align_content": null,
            "align_items": null,
            "align_self": null,
            "border": null,
            "bottom": null,
            "display": null,
            "flex": null,
            "flex_flow": null,
            "grid_area": null,
            "grid_auto_columns": null,
            "grid_auto_flow": null,
            "grid_auto_rows": null,
            "grid_column": null,
            "grid_gap": null,
            "grid_row": null,
            "grid_template_areas": null,
            "grid_template_columns": null,
            "grid_template_rows": null,
            "height": null,
            "justify_content": null,
            "justify_items": null,
            "left": null,
            "margin": null,
            "max_height": null,
            "max_width": null,
            "min_height": null,
            "min_width": null,
            "object_fit": null,
            "object_position": null,
            "order": null,
            "overflow": null,
            "overflow_x": null,
            "overflow_y": null,
            "padding": null,
            "right": null,
            "top": null,
            "visibility": null,
            "width": null
          }
        },
        "a807013b18bc49109a9cd50b2dd6da3e": {
          "model_module": "@jupyter-widgets/controls",
          "model_name": "DescriptionStyleModel",
          "model_module_version": "1.5.0",
          "state": {
            "_model_module": "@jupyter-widgets/controls",
            "_model_module_version": "1.5.0",
            "_model_name": "DescriptionStyleModel",
            "_view_count": null,
            "_view_module": "@jupyter-widgets/base",
            "_view_module_version": "1.2.0",
            "_view_name": "StyleView",
            "description_width": ""
          }
        },
        "086f10f80d6343e39757b4ebbb3730af": {
          "model_module": "@jupyter-widgets/base",
          "model_name": "LayoutModel",
          "model_module_version": "1.2.0",
          "state": {
            "_model_module": "@jupyter-widgets/base",
            "_model_module_version": "1.2.0",
            "_model_name": "LayoutModel",
            "_view_count": null,
            "_view_module": "@jupyter-widgets/base",
            "_view_module_version": "1.2.0",
            "_view_name": "LayoutView",
            "align_content": null,
            "align_items": null,
            "align_self": null,
            "border": null,
            "bottom": null,
            "display": null,
            "flex": null,
            "flex_flow": null,
            "grid_area": null,
            "grid_auto_columns": null,
            "grid_auto_flow": null,
            "grid_auto_rows": null,
            "grid_column": null,
            "grid_gap": null,
            "grid_row": null,
            "grid_template_areas": null,
            "grid_template_columns": null,
            "grid_template_rows": null,
            "height": null,
            "justify_content": null,
            "justify_items": null,
            "left": null,
            "margin": null,
            "max_height": null,
            "max_width": null,
            "min_height": null,
            "min_width": null,
            "object_fit": null,
            "object_position": null,
            "order": null,
            "overflow": null,
            "overflow_x": null,
            "overflow_y": null,
            "padding": null,
            "right": null,
            "top": null,
            "visibility": null,
            "width": null
          }
        },
        "513b38a77beb4a82b0ea06ba6902c567": {
          "model_module": "@jupyter-widgets/controls",
          "model_name": "ProgressStyleModel",
          "model_module_version": "1.5.0",
          "state": {
            "_model_module": "@jupyter-widgets/controls",
            "_model_module_version": "1.5.0",
            "_model_name": "ProgressStyleModel",
            "_view_count": null,
            "_view_module": "@jupyter-widgets/base",
            "_view_module_version": "1.2.0",
            "_view_name": "StyleView",
            "bar_color": null,
            "description_width": ""
          }
        },
        "54c9f2faf67c4a409de4ec6a2c9f48ca": {
          "model_module": "@jupyter-widgets/base",
          "model_name": "LayoutModel",
          "model_module_version": "1.2.0",
          "state": {
            "_model_module": "@jupyter-widgets/base",
            "_model_module_version": "1.2.0",
            "_model_name": "LayoutModel",
            "_view_count": null,
            "_view_module": "@jupyter-widgets/base",
            "_view_module_version": "1.2.0",
            "_view_name": "LayoutView",
            "align_content": null,
            "align_items": null,
            "align_self": null,
            "border": null,
            "bottom": null,
            "display": null,
            "flex": null,
            "flex_flow": null,
            "grid_area": null,
            "grid_auto_columns": null,
            "grid_auto_flow": null,
            "grid_auto_rows": null,
            "grid_column": null,
            "grid_gap": null,
            "grid_row": null,
            "grid_template_areas": null,
            "grid_template_columns": null,
            "grid_template_rows": null,
            "height": null,
            "justify_content": null,
            "justify_items": null,
            "left": null,
            "margin": null,
            "max_height": null,
            "max_width": null,
            "min_height": null,
            "min_width": null,
            "object_fit": null,
            "object_position": null,
            "order": null,
            "overflow": null,
            "overflow_x": null,
            "overflow_y": null,
            "padding": null,
            "right": null,
            "top": null,
            "visibility": null,
            "width": null
          }
        },
        "ee81be4d189e43a38eeebc634c2f59df": {
          "model_module": "@jupyter-widgets/controls",
          "model_name": "DescriptionStyleModel",
          "model_module_version": "1.5.0",
          "state": {
            "_model_module": "@jupyter-widgets/controls",
            "_model_module_version": "1.5.0",
            "_model_name": "DescriptionStyleModel",
            "_view_count": null,
            "_view_module": "@jupyter-widgets/base",
            "_view_module_version": "1.2.0",
            "_view_name": "StyleView",
            "description_width": ""
          }
        },
        "45b468f8e48f45468b6c04d3c58fdb4a": {
          "model_module": "@jupyter-widgets/controls",
          "model_name": "HBoxModel",
          "model_module_version": "1.5.0",
          "state": {
            "_dom_classes": [],
            "_model_module": "@jupyter-widgets/controls",
            "_model_module_version": "1.5.0",
            "_model_name": "HBoxModel",
            "_view_count": null,
            "_view_module": "@jupyter-widgets/controls",
            "_view_module_version": "1.5.0",
            "_view_name": "HBoxView",
            "box_style": "",
            "children": [
              "IPY_MODEL_fda77799c7cb45ae8326b2c6afd88f42",
              "IPY_MODEL_edd8ff909f584ba6b3119a4d7b0d030c",
              "IPY_MODEL_9dc8b21e47144fe182713e075e31ddf3"
            ],
            "layout": "IPY_MODEL_1cafbd147e524a8eb3f7f1b02c900272"
          }
        },
        "fda77799c7cb45ae8326b2c6afd88f42": {
          "model_module": "@jupyter-widgets/controls",
          "model_name": "HTMLModel",
          "model_module_version": "1.5.0",
          "state": {
            "_dom_classes": [],
            "_model_module": "@jupyter-widgets/controls",
            "_model_module_version": "1.5.0",
            "_model_name": "HTMLModel",
            "_view_count": null,
            "_view_module": "@jupyter-widgets/controls",
            "_view_module_version": "1.5.0",
            "_view_name": "HTMLView",
            "description": "",
            "description_tooltip": null,
            "layout": "IPY_MODEL_25667c63a51f44c8a44b938247856e47",
            "placeholder": "​",
            "style": "IPY_MODEL_0536192e6e15459da6a63cda27787de4",
            "value": "model.safetensors: 100%"
          }
        },
        "edd8ff909f584ba6b3119a4d7b0d030c": {
          "model_module": "@jupyter-widgets/controls",
          "model_name": "FloatProgressModel",
          "model_module_version": "1.5.0",
          "state": {
            "_dom_classes": [],
            "_model_module": "@jupyter-widgets/controls",
            "_model_module_version": "1.5.0",
            "_model_name": "FloatProgressModel",
            "_view_count": null,
            "_view_module": "@jupyter-widgets/controls",
            "_view_module_version": "1.5.0",
            "_view_name": "ProgressView",
            "bar_style": "success",
            "description": "",
            "description_tooltip": null,
            "layout": "IPY_MODEL_b1690bf4fb974454ae2d7a6280ef4036",
            "max": 2200119864,
            "min": 0,
            "orientation": "horizontal",
            "style": "IPY_MODEL_aca992e4f7de44cd9f5381f8737d7703",
            "value": 2200119864
          }
        },
        "9dc8b21e47144fe182713e075e31ddf3": {
          "model_module": "@jupyter-widgets/controls",
          "model_name": "HTMLModel",
          "model_module_version": "1.5.0",
          "state": {
            "_dom_classes": [],
            "_model_module": "@jupyter-widgets/controls",
            "_model_module_version": "1.5.0",
            "_model_name": "HTMLModel",
            "_view_count": null,
            "_view_module": "@jupyter-widgets/controls",
            "_view_module_version": "1.5.0",
            "_view_name": "HTMLView",
            "description": "",
            "description_tooltip": null,
            "layout": "IPY_MODEL_3a0ea4f7d5054d4d8118ec6d636d2d42",
            "placeholder": "​",
            "style": "IPY_MODEL_0b265b250a014d1a8c8ef952a6196cc0",
            "value": " 2.20G/2.20G [00:12&lt;00:00, 253MB/s]"
          }
        },
        "1cafbd147e524a8eb3f7f1b02c900272": {
          "model_module": "@jupyter-widgets/base",
          "model_name": "LayoutModel",
          "model_module_version": "1.2.0",
          "state": {
            "_model_module": "@jupyter-widgets/base",
            "_model_module_version": "1.2.0",
            "_model_name": "LayoutModel",
            "_view_count": null,
            "_view_module": "@jupyter-widgets/base",
            "_view_module_version": "1.2.0",
            "_view_name": "LayoutView",
            "align_content": null,
            "align_items": null,
            "align_self": null,
            "border": null,
            "bottom": null,
            "display": null,
            "flex": null,
            "flex_flow": null,
            "grid_area": null,
            "grid_auto_columns": null,
            "grid_auto_flow": null,
            "grid_auto_rows": null,
            "grid_column": null,
            "grid_gap": null,
            "grid_row": null,
            "grid_template_areas": null,
            "grid_template_columns": null,
            "grid_template_rows": null,
            "height": null,
            "justify_content": null,
            "justify_items": null,
            "left": null,
            "margin": null,
            "max_height": null,
            "max_width": null,
            "min_height": null,
            "min_width": null,
            "object_fit": null,
            "object_position": null,
            "order": null,
            "overflow": null,
            "overflow_x": null,
            "overflow_y": null,
            "padding": null,
            "right": null,
            "top": null,
            "visibility": null,
            "width": null
          }
        },
        "25667c63a51f44c8a44b938247856e47": {
          "model_module": "@jupyter-widgets/base",
          "model_name": "LayoutModel",
          "model_module_version": "1.2.0",
          "state": {
            "_model_module": "@jupyter-widgets/base",
            "_model_module_version": "1.2.0",
            "_model_name": "LayoutModel",
            "_view_count": null,
            "_view_module": "@jupyter-widgets/base",
            "_view_module_version": "1.2.0",
            "_view_name": "LayoutView",
            "align_content": null,
            "align_items": null,
            "align_self": null,
            "border": null,
            "bottom": null,
            "display": null,
            "flex": null,
            "flex_flow": null,
            "grid_area": null,
            "grid_auto_columns": null,
            "grid_auto_flow": null,
            "grid_auto_rows": null,
            "grid_column": null,
            "grid_gap": null,
            "grid_row": null,
            "grid_template_areas": null,
            "grid_template_columns": null,
            "grid_template_rows": null,
            "height": null,
            "justify_content": null,
            "justify_items": null,
            "left": null,
            "margin": null,
            "max_height": null,
            "max_width": null,
            "min_height": null,
            "min_width": null,
            "object_fit": null,
            "object_position": null,
            "order": null,
            "overflow": null,
            "overflow_x": null,
            "overflow_y": null,
            "padding": null,
            "right": null,
            "top": null,
            "visibility": null,
            "width": null
          }
        },
        "0536192e6e15459da6a63cda27787de4": {
          "model_module": "@jupyter-widgets/controls",
          "model_name": "DescriptionStyleModel",
          "model_module_version": "1.5.0",
          "state": {
            "_model_module": "@jupyter-widgets/controls",
            "_model_module_version": "1.5.0",
            "_model_name": "DescriptionStyleModel",
            "_view_count": null,
            "_view_module": "@jupyter-widgets/base",
            "_view_module_version": "1.2.0",
            "_view_name": "StyleView",
            "description_width": ""
          }
        },
        "b1690bf4fb974454ae2d7a6280ef4036": {
          "model_module": "@jupyter-widgets/base",
          "model_name": "LayoutModel",
          "model_module_version": "1.2.0",
          "state": {
            "_model_module": "@jupyter-widgets/base",
            "_model_module_version": "1.2.0",
            "_model_name": "LayoutModel",
            "_view_count": null,
            "_view_module": "@jupyter-widgets/base",
            "_view_module_version": "1.2.0",
            "_view_name": "LayoutView",
            "align_content": null,
            "align_items": null,
            "align_self": null,
            "border": null,
            "bottom": null,
            "display": null,
            "flex": null,
            "flex_flow": null,
            "grid_area": null,
            "grid_auto_columns": null,
            "grid_auto_flow": null,
            "grid_auto_rows": null,
            "grid_column": null,
            "grid_gap": null,
            "grid_row": null,
            "grid_template_areas": null,
            "grid_template_columns": null,
            "grid_template_rows": null,
            "height": null,
            "justify_content": null,
            "justify_items": null,
            "left": null,
            "margin": null,
            "max_height": null,
            "max_width": null,
            "min_height": null,
            "min_width": null,
            "object_fit": null,
            "object_position": null,
            "order": null,
            "overflow": null,
            "overflow_x": null,
            "overflow_y": null,
            "padding": null,
            "right": null,
            "top": null,
            "visibility": null,
            "width": null
          }
        },
        "aca992e4f7de44cd9f5381f8737d7703": {
          "model_module": "@jupyter-widgets/controls",
          "model_name": "ProgressStyleModel",
          "model_module_version": "1.5.0",
          "state": {
            "_model_module": "@jupyter-widgets/controls",
            "_model_module_version": "1.5.0",
            "_model_name": "ProgressStyleModel",
            "_view_count": null,
            "_view_module": "@jupyter-widgets/base",
            "_view_module_version": "1.2.0",
            "_view_name": "StyleView",
            "bar_color": null,
            "description_width": ""
          }
        },
        "3a0ea4f7d5054d4d8118ec6d636d2d42": {
          "model_module": "@jupyter-widgets/base",
          "model_name": "LayoutModel",
          "model_module_version": "1.2.0",
          "state": {
            "_model_module": "@jupyter-widgets/base",
            "_model_module_version": "1.2.0",
            "_model_name": "LayoutModel",
            "_view_count": null,
            "_view_module": "@jupyter-widgets/base",
            "_view_module_version": "1.2.0",
            "_view_name": "LayoutView",
            "align_content": null,
            "align_items": null,
            "align_self": null,
            "border": null,
            "bottom": null,
            "display": null,
            "flex": null,
            "flex_flow": null,
            "grid_area": null,
            "grid_auto_columns": null,
            "grid_auto_flow": null,
            "grid_auto_rows": null,
            "grid_column": null,
            "grid_gap": null,
            "grid_row": null,
            "grid_template_areas": null,
            "grid_template_columns": null,
            "grid_template_rows": null,
            "height": null,
            "justify_content": null,
            "justify_items": null,
            "left": null,
            "margin": null,
            "max_height": null,
            "max_width": null,
            "min_height": null,
            "min_width": null,
            "object_fit": null,
            "object_position": null,
            "order": null,
            "overflow": null,
            "overflow_x": null,
            "overflow_y": null,
            "padding": null,
            "right": null,
            "top": null,
            "visibility": null,
            "width": null
          }
        },
        "0b265b250a014d1a8c8ef952a6196cc0": {
          "model_module": "@jupyter-widgets/controls",
          "model_name": "DescriptionStyleModel",
          "model_module_version": "1.5.0",
          "state": {
            "_model_module": "@jupyter-widgets/controls",
            "_model_module_version": "1.5.0",
            "_model_name": "DescriptionStyleModel",
            "_view_count": null,
            "_view_module": "@jupyter-widgets/base",
            "_view_module_version": "1.2.0",
            "_view_name": "StyleView",
            "description_width": ""
          }
        },
        "af901fddf55e496c8ecd180f49eb465a": {
          "model_module": "@jupyter-widgets/controls",
          "model_name": "HBoxModel",
          "model_module_version": "1.5.0",
          "state": {
            "_dom_classes": [],
            "_model_module": "@jupyter-widgets/controls",
            "_model_module_version": "1.5.0",
            "_model_name": "HBoxModel",
            "_view_count": null,
            "_view_module": "@jupyter-widgets/controls",
            "_view_module_version": "1.5.0",
            "_view_name": "HBoxView",
            "box_style": "",
            "children": [
              "IPY_MODEL_12aa93d61ad84611b30b64e9d19abb89",
              "IPY_MODEL_fcb139cc7bc6467d9c473d3d120c2080",
              "IPY_MODEL_1245ddc3b4a94a9a812412463fe4b9dd"
            ],
            "layout": "IPY_MODEL_1a3b4e94174a4c59a006c99593d85b33"
          }
        },
        "12aa93d61ad84611b30b64e9d19abb89": {
          "model_module": "@jupyter-widgets/controls",
          "model_name": "HTMLModel",
          "model_module_version": "1.5.0",
          "state": {
            "_dom_classes": [],
            "_model_module": "@jupyter-widgets/controls",
            "_model_module_version": "1.5.0",
            "_model_name": "HTMLModel",
            "_view_count": null,
            "_view_module": "@jupyter-widgets/controls",
            "_view_module_version": "1.5.0",
            "_view_name": "HTMLView",
            "description": "",
            "description_tooltip": null,
            "layout": "IPY_MODEL_9e68868358294f15b341f929995f5430",
            "placeholder": "​",
            "style": "IPY_MODEL_672bb4e35d2241bd932f0e35c29e2850",
            "value": "generation_config.json: 100%"
          }
        },
        "fcb139cc7bc6467d9c473d3d120c2080": {
          "model_module": "@jupyter-widgets/controls",
          "model_name": "FloatProgressModel",
          "model_module_version": "1.5.0",
          "state": {
            "_dom_classes": [],
            "_model_module": "@jupyter-widgets/controls",
            "_model_module_version": "1.5.0",
            "_model_name": "FloatProgressModel",
            "_view_count": null,
            "_view_module": "@jupyter-widgets/controls",
            "_view_module_version": "1.5.0",
            "_view_name": "ProgressView",
            "bar_style": "success",
            "description": "",
            "description_tooltip": null,
            "layout": "IPY_MODEL_6b31e832d2034bffa21af08d947fca09",
            "max": 124,
            "min": 0,
            "orientation": "horizontal",
            "style": "IPY_MODEL_d9f8e30d44654b17bf20fc388955afde",
            "value": 124
          }
        },
        "1245ddc3b4a94a9a812412463fe4b9dd": {
          "model_module": "@jupyter-widgets/controls",
          "model_name": "HTMLModel",
          "model_module_version": "1.5.0",
          "state": {
            "_dom_classes": [],
            "_model_module": "@jupyter-widgets/controls",
            "_model_module_version": "1.5.0",
            "_model_name": "HTMLModel",
            "_view_count": null,
            "_view_module": "@jupyter-widgets/controls",
            "_view_module_version": "1.5.0",
            "_view_name": "HTMLView",
            "description": "",
            "description_tooltip": null,
            "layout": "IPY_MODEL_41e2cc51032c4bfb82263996e3232798",
            "placeholder": "​",
            "style": "IPY_MODEL_b24dd73b02db46a884d5a05f36c5acd9",
            "value": " 124/124 [00:00&lt;00:00, 13.1kB/s]"
          }
        },
        "1a3b4e94174a4c59a006c99593d85b33": {
          "model_module": "@jupyter-widgets/base",
          "model_name": "LayoutModel",
          "model_module_version": "1.2.0",
          "state": {
            "_model_module": "@jupyter-widgets/base",
            "_model_module_version": "1.2.0",
            "_model_name": "LayoutModel",
            "_view_count": null,
            "_view_module": "@jupyter-widgets/base",
            "_view_module_version": "1.2.0",
            "_view_name": "LayoutView",
            "align_content": null,
            "align_items": null,
            "align_self": null,
            "border": null,
            "bottom": null,
            "display": null,
            "flex": null,
            "flex_flow": null,
            "grid_area": null,
            "grid_auto_columns": null,
            "grid_auto_flow": null,
            "grid_auto_rows": null,
            "grid_column": null,
            "grid_gap": null,
            "grid_row": null,
            "grid_template_areas": null,
            "grid_template_columns": null,
            "grid_template_rows": null,
            "height": null,
            "justify_content": null,
            "justify_items": null,
            "left": null,
            "margin": null,
            "max_height": null,
            "max_width": null,
            "min_height": null,
            "min_width": null,
            "object_fit": null,
            "object_position": null,
            "order": null,
            "overflow": null,
            "overflow_x": null,
            "overflow_y": null,
            "padding": null,
            "right": null,
            "top": null,
            "visibility": null,
            "width": null
          }
        },
        "9e68868358294f15b341f929995f5430": {
          "model_module": "@jupyter-widgets/base",
          "model_name": "LayoutModel",
          "model_module_version": "1.2.0",
          "state": {
            "_model_module": "@jupyter-widgets/base",
            "_model_module_version": "1.2.0",
            "_model_name": "LayoutModel",
            "_view_count": null,
            "_view_module": "@jupyter-widgets/base",
            "_view_module_version": "1.2.0",
            "_view_name": "LayoutView",
            "align_content": null,
            "align_items": null,
            "align_self": null,
            "border": null,
            "bottom": null,
            "display": null,
            "flex": null,
            "flex_flow": null,
            "grid_area": null,
            "grid_auto_columns": null,
            "grid_auto_flow": null,
            "grid_auto_rows": null,
            "grid_column": null,
            "grid_gap": null,
            "grid_row": null,
            "grid_template_areas": null,
            "grid_template_columns": null,
            "grid_template_rows": null,
            "height": null,
            "justify_content": null,
            "justify_items": null,
            "left": null,
            "margin": null,
            "max_height": null,
            "max_width": null,
            "min_height": null,
            "min_width": null,
            "object_fit": null,
            "object_position": null,
            "order": null,
            "overflow": null,
            "overflow_x": null,
            "overflow_y": null,
            "padding": null,
            "right": null,
            "top": null,
            "visibility": null,
            "width": null
          }
        },
        "672bb4e35d2241bd932f0e35c29e2850": {
          "model_module": "@jupyter-widgets/controls",
          "model_name": "DescriptionStyleModel",
          "model_module_version": "1.5.0",
          "state": {
            "_model_module": "@jupyter-widgets/controls",
            "_model_module_version": "1.5.0",
            "_model_name": "DescriptionStyleModel",
            "_view_count": null,
            "_view_module": "@jupyter-widgets/base",
            "_view_module_version": "1.2.0",
            "_view_name": "StyleView",
            "description_width": ""
          }
        },
        "6b31e832d2034bffa21af08d947fca09": {
          "model_module": "@jupyter-widgets/base",
          "model_name": "LayoutModel",
          "model_module_version": "1.2.0",
          "state": {
            "_model_module": "@jupyter-widgets/base",
            "_model_module_version": "1.2.0",
            "_model_name": "LayoutModel",
            "_view_count": null,
            "_view_module": "@jupyter-widgets/base",
            "_view_module_version": "1.2.0",
            "_view_name": "LayoutView",
            "align_content": null,
            "align_items": null,
            "align_self": null,
            "border": null,
            "bottom": null,
            "display": null,
            "flex": null,
            "flex_flow": null,
            "grid_area": null,
            "grid_auto_columns": null,
            "grid_auto_flow": null,
            "grid_auto_rows": null,
            "grid_column": null,
            "grid_gap": null,
            "grid_row": null,
            "grid_template_areas": null,
            "grid_template_columns": null,
            "grid_template_rows": null,
            "height": null,
            "justify_content": null,
            "justify_items": null,
            "left": null,
            "margin": null,
            "max_height": null,
            "max_width": null,
            "min_height": null,
            "min_width": null,
            "object_fit": null,
            "object_position": null,
            "order": null,
            "overflow": null,
            "overflow_x": null,
            "overflow_y": null,
            "padding": null,
            "right": null,
            "top": null,
            "visibility": null,
            "width": null
          }
        },
        "d9f8e30d44654b17bf20fc388955afde": {
          "model_module": "@jupyter-widgets/controls",
          "model_name": "ProgressStyleModel",
          "model_module_version": "1.5.0",
          "state": {
            "_model_module": "@jupyter-widgets/controls",
            "_model_module_version": "1.5.0",
            "_model_name": "ProgressStyleModel",
            "_view_count": null,
            "_view_module": "@jupyter-widgets/base",
            "_view_module_version": "1.2.0",
            "_view_name": "StyleView",
            "bar_color": null,
            "description_width": ""
          }
        },
        "41e2cc51032c4bfb82263996e3232798": {
          "model_module": "@jupyter-widgets/base",
          "model_name": "LayoutModel",
          "model_module_version": "1.2.0",
          "state": {
            "_model_module": "@jupyter-widgets/base",
            "_model_module_version": "1.2.0",
            "_model_name": "LayoutModel",
            "_view_count": null,
            "_view_module": "@jupyter-widgets/base",
            "_view_module_version": "1.2.0",
            "_view_name": "LayoutView",
            "align_content": null,
            "align_items": null,
            "align_self": null,
            "border": null,
            "bottom": null,
            "display": null,
            "flex": null,
            "flex_flow": null,
            "grid_area": null,
            "grid_auto_columns": null,
            "grid_auto_flow": null,
            "grid_auto_rows": null,
            "grid_column": null,
            "grid_gap": null,
            "grid_row": null,
            "grid_template_areas": null,
            "grid_template_columns": null,
            "grid_template_rows": null,
            "height": null,
            "justify_content": null,
            "justify_items": null,
            "left": null,
            "margin": null,
            "max_height": null,
            "max_width": null,
            "min_height": null,
            "min_width": null,
            "object_fit": null,
            "object_position": null,
            "order": null,
            "overflow": null,
            "overflow_x": null,
            "overflow_y": null,
            "padding": null,
            "right": null,
            "top": null,
            "visibility": null,
            "width": null
          }
        },
        "b24dd73b02db46a884d5a05f36c5acd9": {
          "model_module": "@jupyter-widgets/controls",
          "model_name": "DescriptionStyleModel",
          "model_module_version": "1.5.0",
          "state": {
            "_model_module": "@jupyter-widgets/controls",
            "_model_module_version": "1.5.0",
            "_model_name": "DescriptionStyleModel",
            "_view_count": null,
            "_view_module": "@jupyter-widgets/base",
            "_view_module_version": "1.2.0",
            "_view_name": "StyleView",
            "description_width": ""
          }
        },
        "dc7769d540db43c68b949dd46f4cc57f": {
          "model_module": "@jupyter-widgets/controls",
          "model_name": "HBoxModel",
          "model_module_version": "1.5.0",
          "state": {
            "_dom_classes": [],
            "_model_module": "@jupyter-widgets/controls",
            "_model_module_version": "1.5.0",
            "_model_name": "HBoxModel",
            "_view_count": null,
            "_view_module": "@jupyter-widgets/controls",
            "_view_module_version": "1.5.0",
            "_view_name": "HBoxView",
            "box_style": "",
            "children": [
              "IPY_MODEL_704da1f51b444efe86a3e41b5a42d56f",
              "IPY_MODEL_4230df8a225b47c6acd80632e81222b5",
              "IPY_MODEL_2af4e7b548ea4ef18906125619cf964a"
            ],
            "layout": "IPY_MODEL_68b2e6b6189c4af9bc780da54893b30b"
          }
        },
        "704da1f51b444efe86a3e41b5a42d56f": {
          "model_module": "@jupyter-widgets/controls",
          "model_name": "HTMLModel",
          "model_module_version": "1.5.0",
          "state": {
            "_dom_classes": [],
            "_model_module": "@jupyter-widgets/controls",
            "_model_module_version": "1.5.0",
            "_model_name": "HTMLModel",
            "_view_count": null,
            "_view_module": "@jupyter-widgets/controls",
            "_view_module_version": "1.5.0",
            "_view_name": "HTMLView",
            "description": "",
            "description_tooltip": null,
            "layout": "IPY_MODEL_437f7528d648455e8c6dd7ae2ce41082",
            "placeholder": "​",
            "style": "IPY_MODEL_e96bccad36e04c708bb484c3756eec9c",
            "value": "tokenizer_config.json: 100%"
          }
        },
        "4230df8a225b47c6acd80632e81222b5": {
          "model_module": "@jupyter-widgets/controls",
          "model_name": "FloatProgressModel",
          "model_module_version": "1.5.0",
          "state": {
            "_dom_classes": [],
            "_model_module": "@jupyter-widgets/controls",
            "_model_module_version": "1.5.0",
            "_model_name": "FloatProgressModel",
            "_view_count": null,
            "_view_module": "@jupyter-widgets/controls",
            "_view_module_version": "1.5.0",
            "_view_name": "ProgressView",
            "bar_style": "success",
            "description": "",
            "description_tooltip": null,
            "layout": "IPY_MODEL_143e9c3db78047a89a402f7f40780c7f",
            "max": 1289,
            "min": 0,
            "orientation": "horizontal",
            "style": "IPY_MODEL_0867c7708738418fad5c7b1c57205169",
            "value": 1289
          }
        },
        "2af4e7b548ea4ef18906125619cf964a": {
          "model_module": "@jupyter-widgets/controls",
          "model_name": "HTMLModel",
          "model_module_version": "1.5.0",
          "state": {
            "_dom_classes": [],
            "_model_module": "@jupyter-widgets/controls",
            "_model_module_version": "1.5.0",
            "_model_name": "HTMLModel",
            "_view_count": null,
            "_view_module": "@jupyter-widgets/controls",
            "_view_module_version": "1.5.0",
            "_view_name": "HTMLView",
            "description": "",
            "description_tooltip": null,
            "layout": "IPY_MODEL_f03e92a5de174698806551871f5ae758",
            "placeholder": "​",
            "style": "IPY_MODEL_4e80c721a64e408a90ca7582fedc3362",
            "value": " 1.29k/1.29k [00:00&lt;00:00, 121kB/s]"
          }
        },
        "68b2e6b6189c4af9bc780da54893b30b": {
          "model_module": "@jupyter-widgets/base",
          "model_name": "LayoutModel",
          "model_module_version": "1.2.0",
          "state": {
            "_model_module": "@jupyter-widgets/base",
            "_model_module_version": "1.2.0",
            "_model_name": "LayoutModel",
            "_view_count": null,
            "_view_module": "@jupyter-widgets/base",
            "_view_module_version": "1.2.0",
            "_view_name": "LayoutView",
            "align_content": null,
            "align_items": null,
            "align_self": null,
            "border": null,
            "bottom": null,
            "display": null,
            "flex": null,
            "flex_flow": null,
            "grid_area": null,
            "grid_auto_columns": null,
            "grid_auto_flow": null,
            "grid_auto_rows": null,
            "grid_column": null,
            "grid_gap": null,
            "grid_row": null,
            "grid_template_areas": null,
            "grid_template_columns": null,
            "grid_template_rows": null,
            "height": null,
            "justify_content": null,
            "justify_items": null,
            "left": null,
            "margin": null,
            "max_height": null,
            "max_width": null,
            "min_height": null,
            "min_width": null,
            "object_fit": null,
            "object_position": null,
            "order": null,
            "overflow": null,
            "overflow_x": null,
            "overflow_y": null,
            "padding": null,
            "right": null,
            "top": null,
            "visibility": null,
            "width": null
          }
        },
        "437f7528d648455e8c6dd7ae2ce41082": {
          "model_module": "@jupyter-widgets/base",
          "model_name": "LayoutModel",
          "model_module_version": "1.2.0",
          "state": {
            "_model_module": "@jupyter-widgets/base",
            "_model_module_version": "1.2.0",
            "_model_name": "LayoutModel",
            "_view_count": null,
            "_view_module": "@jupyter-widgets/base",
            "_view_module_version": "1.2.0",
            "_view_name": "LayoutView",
            "align_content": null,
            "align_items": null,
            "align_self": null,
            "border": null,
            "bottom": null,
            "display": null,
            "flex": null,
            "flex_flow": null,
            "grid_area": null,
            "grid_auto_columns": null,
            "grid_auto_flow": null,
            "grid_auto_rows": null,
            "grid_column": null,
            "grid_gap": null,
            "grid_row": null,
            "grid_template_areas": null,
            "grid_template_columns": null,
            "grid_template_rows": null,
            "height": null,
            "justify_content": null,
            "justify_items": null,
            "left": null,
            "margin": null,
            "max_height": null,
            "max_width": null,
            "min_height": null,
            "min_width": null,
            "object_fit": null,
            "object_position": null,
            "order": null,
            "overflow": null,
            "overflow_x": null,
            "overflow_y": null,
            "padding": null,
            "right": null,
            "top": null,
            "visibility": null,
            "width": null
          }
        },
        "e96bccad36e04c708bb484c3756eec9c": {
          "model_module": "@jupyter-widgets/controls",
          "model_name": "DescriptionStyleModel",
          "model_module_version": "1.5.0",
          "state": {
            "_model_module": "@jupyter-widgets/controls",
            "_model_module_version": "1.5.0",
            "_model_name": "DescriptionStyleModel",
            "_view_count": null,
            "_view_module": "@jupyter-widgets/base",
            "_view_module_version": "1.2.0",
            "_view_name": "StyleView",
            "description_width": ""
          }
        },
        "143e9c3db78047a89a402f7f40780c7f": {
          "model_module": "@jupyter-widgets/base",
          "model_name": "LayoutModel",
          "model_module_version": "1.2.0",
          "state": {
            "_model_module": "@jupyter-widgets/base",
            "_model_module_version": "1.2.0",
            "_model_name": "LayoutModel",
            "_view_count": null,
            "_view_module": "@jupyter-widgets/base",
            "_view_module_version": "1.2.0",
            "_view_name": "LayoutView",
            "align_content": null,
            "align_items": null,
            "align_self": null,
            "border": null,
            "bottom": null,
            "display": null,
            "flex": null,
            "flex_flow": null,
            "grid_area": null,
            "grid_auto_columns": null,
            "grid_auto_flow": null,
            "grid_auto_rows": null,
            "grid_column": null,
            "grid_gap": null,
            "grid_row": null,
            "grid_template_areas": null,
            "grid_template_columns": null,
            "grid_template_rows": null,
            "height": null,
            "justify_content": null,
            "justify_items": null,
            "left": null,
            "margin": null,
            "max_height": null,
            "max_width": null,
            "min_height": null,
            "min_width": null,
            "object_fit": null,
            "object_position": null,
            "order": null,
            "overflow": null,
            "overflow_x": null,
            "overflow_y": null,
            "padding": null,
            "right": null,
            "top": null,
            "visibility": null,
            "width": null
          }
        },
        "0867c7708738418fad5c7b1c57205169": {
          "model_module": "@jupyter-widgets/controls",
          "model_name": "ProgressStyleModel",
          "model_module_version": "1.5.0",
          "state": {
            "_model_module": "@jupyter-widgets/controls",
            "_model_module_version": "1.5.0",
            "_model_name": "ProgressStyleModel",
            "_view_count": null,
            "_view_module": "@jupyter-widgets/base",
            "_view_module_version": "1.2.0",
            "_view_name": "StyleView",
            "bar_color": null,
            "description_width": ""
          }
        },
        "f03e92a5de174698806551871f5ae758": {
          "model_module": "@jupyter-widgets/base",
          "model_name": "LayoutModel",
          "model_module_version": "1.2.0",
          "state": {
            "_model_module": "@jupyter-widgets/base",
            "_model_module_version": "1.2.0",
            "_model_name": "LayoutModel",
            "_view_count": null,
            "_view_module": "@jupyter-widgets/base",
            "_view_module_version": "1.2.0",
            "_view_name": "LayoutView",
            "align_content": null,
            "align_items": null,
            "align_self": null,
            "border": null,
            "bottom": null,
            "display": null,
            "flex": null,
            "flex_flow": null,
            "grid_area": null,
            "grid_auto_columns": null,
            "grid_auto_flow": null,
            "grid_auto_rows": null,
            "grid_column": null,
            "grid_gap": null,
            "grid_row": null,
            "grid_template_areas": null,
            "grid_template_columns": null,
            "grid_template_rows": null,
            "height": null,
            "justify_content": null,
            "justify_items": null,
            "left": null,
            "margin": null,
            "max_height": null,
            "max_width": null,
            "min_height": null,
            "min_width": null,
            "object_fit": null,
            "object_position": null,
            "order": null,
            "overflow": null,
            "overflow_x": null,
            "overflow_y": null,
            "padding": null,
            "right": null,
            "top": null,
            "visibility": null,
            "width": null
          }
        },
        "4e80c721a64e408a90ca7582fedc3362": {
          "model_module": "@jupyter-widgets/controls",
          "model_name": "DescriptionStyleModel",
          "model_module_version": "1.5.0",
          "state": {
            "_model_module": "@jupyter-widgets/controls",
            "_model_module_version": "1.5.0",
            "_model_name": "DescriptionStyleModel",
            "_view_count": null,
            "_view_module": "@jupyter-widgets/base",
            "_view_module_version": "1.2.0",
            "_view_name": "StyleView",
            "description_width": ""
          }
        },
        "34b8464522934f2fac436c98edf53329": {
          "model_module": "@jupyter-widgets/controls",
          "model_name": "HBoxModel",
          "model_module_version": "1.5.0",
          "state": {
            "_dom_classes": [],
            "_model_module": "@jupyter-widgets/controls",
            "_model_module_version": "1.5.0",
            "_model_name": "HBoxModel",
            "_view_count": null,
            "_view_module": "@jupyter-widgets/controls",
            "_view_module_version": "1.5.0",
            "_view_name": "HBoxView",
            "box_style": "",
            "children": [
              "IPY_MODEL_8ebac56735d14a3785a0a50c18cc486f",
              "IPY_MODEL_91e0d0d8a5704306937a4c13a2aca9e5",
              "IPY_MODEL_66d8ee4e5b79448c946317ac6a2f7194"
            ],
            "layout": "IPY_MODEL_37c4f4bee97b4bfba63cda3359ebd45d"
          }
        },
        "8ebac56735d14a3785a0a50c18cc486f": {
          "model_module": "@jupyter-widgets/controls",
          "model_name": "HTMLModel",
          "model_module_version": "1.5.0",
          "state": {
            "_dom_classes": [],
            "_model_module": "@jupyter-widgets/controls",
            "_model_module_version": "1.5.0",
            "_model_name": "HTMLModel",
            "_view_count": null,
            "_view_module": "@jupyter-widgets/controls",
            "_view_module_version": "1.5.0",
            "_view_name": "HTMLView",
            "description": "",
            "description_tooltip": null,
            "layout": "IPY_MODEL_ec9aa4def39c4348b0a7fcca0afcf06d",
            "placeholder": "​",
            "style": "IPY_MODEL_2c8e62d99ce94b35a9378a732c38505d",
            "value": "tokenizer.model: 100%"
          }
        },
        "91e0d0d8a5704306937a4c13a2aca9e5": {
          "model_module": "@jupyter-widgets/controls",
          "model_name": "FloatProgressModel",
          "model_module_version": "1.5.0",
          "state": {
            "_dom_classes": [],
            "_model_module": "@jupyter-widgets/controls",
            "_model_module_version": "1.5.0",
            "_model_name": "FloatProgressModel",
            "_view_count": null,
            "_view_module": "@jupyter-widgets/controls",
            "_view_module_version": "1.5.0",
            "_view_name": "ProgressView",
            "bar_style": "success",
            "description": "",
            "description_tooltip": null,
            "layout": "IPY_MODEL_2e14fff961e9482a8a0ebe9616bf0b81",
            "max": 499723,
            "min": 0,
            "orientation": "horizontal",
            "style": "IPY_MODEL_1029d4ba8f824f979f0b2023a0202266",
            "value": 499723
          }
        },
        "66d8ee4e5b79448c946317ac6a2f7194": {
          "model_module": "@jupyter-widgets/controls",
          "model_name": "HTMLModel",
          "model_module_version": "1.5.0",
          "state": {
            "_dom_classes": [],
            "_model_module": "@jupyter-widgets/controls",
            "_model_module_version": "1.5.0",
            "_model_name": "HTMLModel",
            "_view_count": null,
            "_view_module": "@jupyter-widgets/controls",
            "_view_module_version": "1.5.0",
            "_view_name": "HTMLView",
            "description": "",
            "description_tooltip": null,
            "layout": "IPY_MODEL_f22fa52726c442359a0fc1ceb0cd0153",
            "placeholder": "​",
            "style": "IPY_MODEL_ce1bdff00acb420f995375143dd29248",
            "value": " 500k/500k [00:00&lt;00:00, 22.5MB/s]"
          }
        },
        "37c4f4bee97b4bfba63cda3359ebd45d": {
          "model_module": "@jupyter-widgets/base",
          "model_name": "LayoutModel",
          "model_module_version": "1.2.0",
          "state": {
            "_model_module": "@jupyter-widgets/base",
            "_model_module_version": "1.2.0",
            "_model_name": "LayoutModel",
            "_view_count": null,
            "_view_module": "@jupyter-widgets/base",
            "_view_module_version": "1.2.0",
            "_view_name": "LayoutView",
            "align_content": null,
            "align_items": null,
            "align_self": null,
            "border": null,
            "bottom": null,
            "display": null,
            "flex": null,
            "flex_flow": null,
            "grid_area": null,
            "grid_auto_columns": null,
            "grid_auto_flow": null,
            "grid_auto_rows": null,
            "grid_column": null,
            "grid_gap": null,
            "grid_row": null,
            "grid_template_areas": null,
            "grid_template_columns": null,
            "grid_template_rows": null,
            "height": null,
            "justify_content": null,
            "justify_items": null,
            "left": null,
            "margin": null,
            "max_height": null,
            "max_width": null,
            "min_height": null,
            "min_width": null,
            "object_fit": null,
            "object_position": null,
            "order": null,
            "overflow": null,
            "overflow_x": null,
            "overflow_y": null,
            "padding": null,
            "right": null,
            "top": null,
            "visibility": null,
            "width": null
          }
        },
        "ec9aa4def39c4348b0a7fcca0afcf06d": {
          "model_module": "@jupyter-widgets/base",
          "model_name": "LayoutModel",
          "model_module_version": "1.2.0",
          "state": {
            "_model_module": "@jupyter-widgets/base",
            "_model_module_version": "1.2.0",
            "_model_name": "LayoutModel",
            "_view_count": null,
            "_view_module": "@jupyter-widgets/base",
            "_view_module_version": "1.2.0",
            "_view_name": "LayoutView",
            "align_content": null,
            "align_items": null,
            "align_self": null,
            "border": null,
            "bottom": null,
            "display": null,
            "flex": null,
            "flex_flow": null,
            "grid_area": null,
            "grid_auto_columns": null,
            "grid_auto_flow": null,
            "grid_auto_rows": null,
            "grid_column": null,
            "grid_gap": null,
            "grid_row": null,
            "grid_template_areas": null,
            "grid_template_columns": null,
            "grid_template_rows": null,
            "height": null,
            "justify_content": null,
            "justify_items": null,
            "left": null,
            "margin": null,
            "max_height": null,
            "max_width": null,
            "min_height": null,
            "min_width": null,
            "object_fit": null,
            "object_position": null,
            "order": null,
            "overflow": null,
            "overflow_x": null,
            "overflow_y": null,
            "padding": null,
            "right": null,
            "top": null,
            "visibility": null,
            "width": null
          }
        },
        "2c8e62d99ce94b35a9378a732c38505d": {
          "model_module": "@jupyter-widgets/controls",
          "model_name": "DescriptionStyleModel",
          "model_module_version": "1.5.0",
          "state": {
            "_model_module": "@jupyter-widgets/controls",
            "_model_module_version": "1.5.0",
            "_model_name": "DescriptionStyleModel",
            "_view_count": null,
            "_view_module": "@jupyter-widgets/base",
            "_view_module_version": "1.2.0",
            "_view_name": "StyleView",
            "description_width": ""
          }
        },
        "2e14fff961e9482a8a0ebe9616bf0b81": {
          "model_module": "@jupyter-widgets/base",
          "model_name": "LayoutModel",
          "model_module_version": "1.2.0",
          "state": {
            "_model_module": "@jupyter-widgets/base",
            "_model_module_version": "1.2.0",
            "_model_name": "LayoutModel",
            "_view_count": null,
            "_view_module": "@jupyter-widgets/base",
            "_view_module_version": "1.2.0",
            "_view_name": "LayoutView",
            "align_content": null,
            "align_items": null,
            "align_self": null,
            "border": null,
            "bottom": null,
            "display": null,
            "flex": null,
            "flex_flow": null,
            "grid_area": null,
            "grid_auto_columns": null,
            "grid_auto_flow": null,
            "grid_auto_rows": null,
            "grid_column": null,
            "grid_gap": null,
            "grid_row": null,
            "grid_template_areas": null,
            "grid_template_columns": null,
            "grid_template_rows": null,
            "height": null,
            "justify_content": null,
            "justify_items": null,
            "left": null,
            "margin": null,
            "max_height": null,
            "max_width": null,
            "min_height": null,
            "min_width": null,
            "object_fit": null,
            "object_position": null,
            "order": null,
            "overflow": null,
            "overflow_x": null,
            "overflow_y": null,
            "padding": null,
            "right": null,
            "top": null,
            "visibility": null,
            "width": null
          }
        },
        "1029d4ba8f824f979f0b2023a0202266": {
          "model_module": "@jupyter-widgets/controls",
          "model_name": "ProgressStyleModel",
          "model_module_version": "1.5.0",
          "state": {
            "_model_module": "@jupyter-widgets/controls",
            "_model_module_version": "1.5.0",
            "_model_name": "ProgressStyleModel",
            "_view_count": null,
            "_view_module": "@jupyter-widgets/base",
            "_view_module_version": "1.2.0",
            "_view_name": "StyleView",
            "bar_color": null,
            "description_width": ""
          }
        },
        "f22fa52726c442359a0fc1ceb0cd0153": {
          "model_module": "@jupyter-widgets/base",
          "model_name": "LayoutModel",
          "model_module_version": "1.2.0",
          "state": {
            "_model_module": "@jupyter-widgets/base",
            "_model_module_version": "1.2.0",
            "_model_name": "LayoutModel",
            "_view_count": null,
            "_view_module": "@jupyter-widgets/base",
            "_view_module_version": "1.2.0",
            "_view_name": "LayoutView",
            "align_content": null,
            "align_items": null,
            "align_self": null,
            "border": null,
            "bottom": null,
            "display": null,
            "flex": null,
            "flex_flow": null,
            "grid_area": null,
            "grid_auto_columns": null,
            "grid_auto_flow": null,
            "grid_auto_rows": null,
            "grid_column": null,
            "grid_gap": null,
            "grid_row": null,
            "grid_template_areas": null,
            "grid_template_columns": null,
            "grid_template_rows": null,
            "height": null,
            "justify_content": null,
            "justify_items": null,
            "left": null,
            "margin": null,
            "max_height": null,
            "max_width": null,
            "min_height": null,
            "min_width": null,
            "object_fit": null,
            "object_position": null,
            "order": null,
            "overflow": null,
            "overflow_x": null,
            "overflow_y": null,
            "padding": null,
            "right": null,
            "top": null,
            "visibility": null,
            "width": null
          }
        },
        "ce1bdff00acb420f995375143dd29248": {
          "model_module": "@jupyter-widgets/controls",
          "model_name": "DescriptionStyleModel",
          "model_module_version": "1.5.0",
          "state": {
            "_model_module": "@jupyter-widgets/controls",
            "_model_module_version": "1.5.0",
            "_model_name": "DescriptionStyleModel",
            "_view_count": null,
            "_view_module": "@jupyter-widgets/base",
            "_view_module_version": "1.2.0",
            "_view_name": "StyleView",
            "description_width": ""
          }
        },
        "96883d23b09b44a9a42d51e6167ca411": {
          "model_module": "@jupyter-widgets/controls",
          "model_name": "HBoxModel",
          "model_module_version": "1.5.0",
          "state": {
            "_dom_classes": [],
            "_model_module": "@jupyter-widgets/controls",
            "_model_module_version": "1.5.0",
            "_model_name": "HBoxModel",
            "_view_count": null,
            "_view_module": "@jupyter-widgets/controls",
            "_view_module_version": "1.5.0",
            "_view_name": "HBoxView",
            "box_style": "",
            "children": [
              "IPY_MODEL_9ab0c5f512e84f5a90f4a13644a10ecf",
              "IPY_MODEL_f4068904443a455aaa3c34ae911644f6",
              "IPY_MODEL_e7652c672023429e99c4ad05b07e6861"
            ],
            "layout": "IPY_MODEL_41977efdc2eb438da13ca8c947a4b097"
          }
        },
        "9ab0c5f512e84f5a90f4a13644a10ecf": {
          "model_module": "@jupyter-widgets/controls",
          "model_name": "HTMLModel",
          "model_module_version": "1.5.0",
          "state": {
            "_dom_classes": [],
            "_model_module": "@jupyter-widgets/controls",
            "_model_module_version": "1.5.0",
            "_model_name": "HTMLModel",
            "_view_count": null,
            "_view_module": "@jupyter-widgets/controls",
            "_view_module_version": "1.5.0",
            "_view_name": "HTMLView",
            "description": "",
            "description_tooltip": null,
            "layout": "IPY_MODEL_0c0cbf719a6747d59274436bfd9eefea",
            "placeholder": "​",
            "style": "IPY_MODEL_911f410ee2ae47428dbb0000115bbd86",
            "value": "tokenizer.json: 100%"
          }
        },
        "f4068904443a455aaa3c34ae911644f6": {
          "model_module": "@jupyter-widgets/controls",
          "model_name": "FloatProgressModel",
          "model_module_version": "1.5.0",
          "state": {
            "_dom_classes": [],
            "_model_module": "@jupyter-widgets/controls",
            "_model_module_version": "1.5.0",
            "_model_name": "FloatProgressModel",
            "_view_count": null,
            "_view_module": "@jupyter-widgets/controls",
            "_view_module_version": "1.5.0",
            "_view_name": "ProgressView",
            "bar_style": "success",
            "description": "",
            "description_tooltip": null,
            "layout": "IPY_MODEL_0a5023cf82ba4113bea14e488703dd6f",
            "max": 1842767,
            "min": 0,
            "orientation": "horizontal",
            "style": "IPY_MODEL_90317a32d2904f6ba6df56c6a849c269",
            "value": 1842767
          }
        },
        "e7652c672023429e99c4ad05b07e6861": {
          "model_module": "@jupyter-widgets/controls",
          "model_name": "HTMLModel",
          "model_module_version": "1.5.0",
          "state": {
            "_dom_classes": [],
            "_model_module": "@jupyter-widgets/controls",
            "_model_module_version": "1.5.0",
            "_model_name": "HTMLModel",
            "_view_count": null,
            "_view_module": "@jupyter-widgets/controls",
            "_view_module_version": "1.5.0",
            "_view_name": "HTMLView",
            "description": "",
            "description_tooltip": null,
            "layout": "IPY_MODEL_27e5978eb6574bc5a28f08aa0df85c1c",
            "placeholder": "​",
            "style": "IPY_MODEL_b5f05b17fccb484d8ab94a2121638153",
            "value": " 1.84M/1.84M [00:00&lt;00:00, 2.92MB/s]"
          }
        },
        "41977efdc2eb438da13ca8c947a4b097": {
          "model_module": "@jupyter-widgets/base",
          "model_name": "LayoutModel",
          "model_module_version": "1.2.0",
          "state": {
            "_model_module": "@jupyter-widgets/base",
            "_model_module_version": "1.2.0",
            "_model_name": "LayoutModel",
            "_view_count": null,
            "_view_module": "@jupyter-widgets/base",
            "_view_module_version": "1.2.0",
            "_view_name": "LayoutView",
            "align_content": null,
            "align_items": null,
            "align_self": null,
            "border": null,
            "bottom": null,
            "display": null,
            "flex": null,
            "flex_flow": null,
            "grid_area": null,
            "grid_auto_columns": null,
            "grid_auto_flow": null,
            "grid_auto_rows": null,
            "grid_column": null,
            "grid_gap": null,
            "grid_row": null,
            "grid_template_areas": null,
            "grid_template_columns": null,
            "grid_template_rows": null,
            "height": null,
            "justify_content": null,
            "justify_items": null,
            "left": null,
            "margin": null,
            "max_height": null,
            "max_width": null,
            "min_height": null,
            "min_width": null,
            "object_fit": null,
            "object_position": null,
            "order": null,
            "overflow": null,
            "overflow_x": null,
            "overflow_y": null,
            "padding": null,
            "right": null,
            "top": null,
            "visibility": null,
            "width": null
          }
        },
        "0c0cbf719a6747d59274436bfd9eefea": {
          "model_module": "@jupyter-widgets/base",
          "model_name": "LayoutModel",
          "model_module_version": "1.2.0",
          "state": {
            "_model_module": "@jupyter-widgets/base",
            "_model_module_version": "1.2.0",
            "_model_name": "LayoutModel",
            "_view_count": null,
            "_view_module": "@jupyter-widgets/base",
            "_view_module_version": "1.2.0",
            "_view_name": "LayoutView",
            "align_content": null,
            "align_items": null,
            "align_self": null,
            "border": null,
            "bottom": null,
            "display": null,
            "flex": null,
            "flex_flow": null,
            "grid_area": null,
            "grid_auto_columns": null,
            "grid_auto_flow": null,
            "grid_auto_rows": null,
            "grid_column": null,
            "grid_gap": null,
            "grid_row": null,
            "grid_template_areas": null,
            "grid_template_columns": null,
            "grid_template_rows": null,
            "height": null,
            "justify_content": null,
            "justify_items": null,
            "left": null,
            "margin": null,
            "max_height": null,
            "max_width": null,
            "min_height": null,
            "min_width": null,
            "object_fit": null,
            "object_position": null,
            "order": null,
            "overflow": null,
            "overflow_x": null,
            "overflow_y": null,
            "padding": null,
            "right": null,
            "top": null,
            "visibility": null,
            "width": null
          }
        },
        "911f410ee2ae47428dbb0000115bbd86": {
          "model_module": "@jupyter-widgets/controls",
          "model_name": "DescriptionStyleModel",
          "model_module_version": "1.5.0",
          "state": {
            "_model_module": "@jupyter-widgets/controls",
            "_model_module_version": "1.5.0",
            "_model_name": "DescriptionStyleModel",
            "_view_count": null,
            "_view_module": "@jupyter-widgets/base",
            "_view_module_version": "1.2.0",
            "_view_name": "StyleView",
            "description_width": ""
          }
        },
        "0a5023cf82ba4113bea14e488703dd6f": {
          "model_module": "@jupyter-widgets/base",
          "model_name": "LayoutModel",
          "model_module_version": "1.2.0",
          "state": {
            "_model_module": "@jupyter-widgets/base",
            "_model_module_version": "1.2.0",
            "_model_name": "LayoutModel",
            "_view_count": null,
            "_view_module": "@jupyter-widgets/base",
            "_view_module_version": "1.2.0",
            "_view_name": "LayoutView",
            "align_content": null,
            "align_items": null,
            "align_self": null,
            "border": null,
            "bottom": null,
            "display": null,
            "flex": null,
            "flex_flow": null,
            "grid_area": null,
            "grid_auto_columns": null,
            "grid_auto_flow": null,
            "grid_auto_rows": null,
            "grid_column": null,
            "grid_gap": null,
            "grid_row": null,
            "grid_template_areas": null,
            "grid_template_columns": null,
            "grid_template_rows": null,
            "height": null,
            "justify_content": null,
            "justify_items": null,
            "left": null,
            "margin": null,
            "max_height": null,
            "max_width": null,
            "min_height": null,
            "min_width": null,
            "object_fit": null,
            "object_position": null,
            "order": null,
            "overflow": null,
            "overflow_x": null,
            "overflow_y": null,
            "padding": null,
            "right": null,
            "top": null,
            "visibility": null,
            "width": null
          }
        },
        "90317a32d2904f6ba6df56c6a849c269": {
          "model_module": "@jupyter-widgets/controls",
          "model_name": "ProgressStyleModel",
          "model_module_version": "1.5.0",
          "state": {
            "_model_module": "@jupyter-widgets/controls",
            "_model_module_version": "1.5.0",
            "_model_name": "ProgressStyleModel",
            "_view_count": null,
            "_view_module": "@jupyter-widgets/base",
            "_view_module_version": "1.2.0",
            "_view_name": "StyleView",
            "bar_color": null,
            "description_width": ""
          }
        },
        "27e5978eb6574bc5a28f08aa0df85c1c": {
          "model_module": "@jupyter-widgets/base",
          "model_name": "LayoutModel",
          "model_module_version": "1.2.0",
          "state": {
            "_model_module": "@jupyter-widgets/base",
            "_model_module_version": "1.2.0",
            "_model_name": "LayoutModel",
            "_view_count": null,
            "_view_module": "@jupyter-widgets/base",
            "_view_module_version": "1.2.0",
            "_view_name": "LayoutView",
            "align_content": null,
            "align_items": null,
            "align_self": null,
            "border": null,
            "bottom": null,
            "display": null,
            "flex": null,
            "flex_flow": null,
            "grid_area": null,
            "grid_auto_columns": null,
            "grid_auto_flow": null,
            "grid_auto_rows": null,
            "grid_column": null,
            "grid_gap": null,
            "grid_row": null,
            "grid_template_areas": null,
            "grid_template_columns": null,
            "grid_template_rows": null,
            "height": null,
            "justify_content": null,
            "justify_items": null,
            "left": null,
            "margin": null,
            "max_height": null,
            "max_width": null,
            "min_height": null,
            "min_width": null,
            "object_fit": null,
            "object_position": null,
            "order": null,
            "overflow": null,
            "overflow_x": null,
            "overflow_y": null,
            "padding": null,
            "right": null,
            "top": null,
            "visibility": null,
            "width": null
          }
        },
        "b5f05b17fccb484d8ab94a2121638153": {
          "model_module": "@jupyter-widgets/controls",
          "model_name": "DescriptionStyleModel",
          "model_module_version": "1.5.0",
          "state": {
            "_model_module": "@jupyter-widgets/controls",
            "_model_module_version": "1.5.0",
            "_model_name": "DescriptionStyleModel",
            "_view_count": null,
            "_view_module": "@jupyter-widgets/base",
            "_view_module_version": "1.2.0",
            "_view_name": "StyleView",
            "description_width": ""
          }
        },
        "dc5370f4127b463d884dbbdc53d99462": {
          "model_module": "@jupyter-widgets/controls",
          "model_name": "HBoxModel",
          "model_module_version": "1.5.0",
          "state": {
            "_dom_classes": [],
            "_model_module": "@jupyter-widgets/controls",
            "_model_module_version": "1.5.0",
            "_model_name": "HBoxModel",
            "_view_count": null,
            "_view_module": "@jupyter-widgets/controls",
            "_view_module_version": "1.5.0",
            "_view_name": "HBoxView",
            "box_style": "",
            "children": [
              "IPY_MODEL_254a5917b6c245819dd10f3c218ace11",
              "IPY_MODEL_05bde423478f4bea80482a2277c5a6bc",
              "IPY_MODEL_b757ba0d8901402cbdaff8fe59ca0d6b"
            ],
            "layout": "IPY_MODEL_f1666482536e4f28a02406a2b3a53f77"
          }
        },
        "254a5917b6c245819dd10f3c218ace11": {
          "model_module": "@jupyter-widgets/controls",
          "model_name": "HTMLModel",
          "model_module_version": "1.5.0",
          "state": {
            "_dom_classes": [],
            "_model_module": "@jupyter-widgets/controls",
            "_model_module_version": "1.5.0",
            "_model_name": "HTMLModel",
            "_view_count": null,
            "_view_module": "@jupyter-widgets/controls",
            "_view_module_version": "1.5.0",
            "_view_name": "HTMLView",
            "description": "",
            "description_tooltip": null,
            "layout": "IPY_MODEL_36ab65ff60ba493b8f101cc6720fe1c1",
            "placeholder": "​",
            "style": "IPY_MODEL_8d3b158bcf764058a4bcd589fd681c5e",
            "value": "special_tokens_map.json: 100%"
          }
        },
        "05bde423478f4bea80482a2277c5a6bc": {
          "model_module": "@jupyter-widgets/controls",
          "model_name": "FloatProgressModel",
          "model_module_version": "1.5.0",
          "state": {
            "_dom_classes": [],
            "_model_module": "@jupyter-widgets/controls",
            "_model_module_version": "1.5.0",
            "_model_name": "FloatProgressModel",
            "_view_count": null,
            "_view_module": "@jupyter-widgets/controls",
            "_view_module_version": "1.5.0",
            "_view_name": "ProgressView",
            "bar_style": "success",
            "description": "",
            "description_tooltip": null,
            "layout": "IPY_MODEL_008d1587020a4a819d23ee5d0207568a",
            "max": 551,
            "min": 0,
            "orientation": "horizontal",
            "style": "IPY_MODEL_99f549f1495d43b7b339aefa953c4080",
            "value": 551
          }
        },
        "b757ba0d8901402cbdaff8fe59ca0d6b": {
          "model_module": "@jupyter-widgets/controls",
          "model_name": "HTMLModel",
          "model_module_version": "1.5.0",
          "state": {
            "_dom_classes": [],
            "_model_module": "@jupyter-widgets/controls",
            "_model_module_version": "1.5.0",
            "_model_name": "HTMLModel",
            "_view_count": null,
            "_view_module": "@jupyter-widgets/controls",
            "_view_module_version": "1.5.0",
            "_view_name": "HTMLView",
            "description": "",
            "description_tooltip": null,
            "layout": "IPY_MODEL_9c180e3120cb455980a7773b22e105e6",
            "placeholder": "​",
            "style": "IPY_MODEL_691dfff1902a49c2bfc8c363e096d5f6",
            "value": " 551/551 [00:00&lt;00:00, 37.7kB/s]"
          }
        },
        "f1666482536e4f28a02406a2b3a53f77": {
          "model_module": "@jupyter-widgets/base",
          "model_name": "LayoutModel",
          "model_module_version": "1.2.0",
          "state": {
            "_model_module": "@jupyter-widgets/base",
            "_model_module_version": "1.2.0",
            "_model_name": "LayoutModel",
            "_view_count": null,
            "_view_module": "@jupyter-widgets/base",
            "_view_module_version": "1.2.0",
            "_view_name": "LayoutView",
            "align_content": null,
            "align_items": null,
            "align_self": null,
            "border": null,
            "bottom": null,
            "display": null,
            "flex": null,
            "flex_flow": null,
            "grid_area": null,
            "grid_auto_columns": null,
            "grid_auto_flow": null,
            "grid_auto_rows": null,
            "grid_column": null,
            "grid_gap": null,
            "grid_row": null,
            "grid_template_areas": null,
            "grid_template_columns": null,
            "grid_template_rows": null,
            "height": null,
            "justify_content": null,
            "justify_items": null,
            "left": null,
            "margin": null,
            "max_height": null,
            "max_width": null,
            "min_height": null,
            "min_width": null,
            "object_fit": null,
            "object_position": null,
            "order": null,
            "overflow": null,
            "overflow_x": null,
            "overflow_y": null,
            "padding": null,
            "right": null,
            "top": null,
            "visibility": null,
            "width": null
          }
        },
        "36ab65ff60ba493b8f101cc6720fe1c1": {
          "model_module": "@jupyter-widgets/base",
          "model_name": "LayoutModel",
          "model_module_version": "1.2.0",
          "state": {
            "_model_module": "@jupyter-widgets/base",
            "_model_module_version": "1.2.0",
            "_model_name": "LayoutModel",
            "_view_count": null,
            "_view_module": "@jupyter-widgets/base",
            "_view_module_version": "1.2.0",
            "_view_name": "LayoutView",
            "align_content": null,
            "align_items": null,
            "align_self": null,
            "border": null,
            "bottom": null,
            "display": null,
            "flex": null,
            "flex_flow": null,
            "grid_area": null,
            "grid_auto_columns": null,
            "grid_auto_flow": null,
            "grid_auto_rows": null,
            "grid_column": null,
            "grid_gap": null,
            "grid_row": null,
            "grid_template_areas": null,
            "grid_template_columns": null,
            "grid_template_rows": null,
            "height": null,
            "justify_content": null,
            "justify_items": null,
            "left": null,
            "margin": null,
            "max_height": null,
            "max_width": null,
            "min_height": null,
            "min_width": null,
            "object_fit": null,
            "object_position": null,
            "order": null,
            "overflow": null,
            "overflow_x": null,
            "overflow_y": null,
            "padding": null,
            "right": null,
            "top": null,
            "visibility": null,
            "width": null
          }
        },
        "8d3b158bcf764058a4bcd589fd681c5e": {
          "model_module": "@jupyter-widgets/controls",
          "model_name": "DescriptionStyleModel",
          "model_module_version": "1.5.0",
          "state": {
            "_model_module": "@jupyter-widgets/controls",
            "_model_module_version": "1.5.0",
            "_model_name": "DescriptionStyleModel",
            "_view_count": null,
            "_view_module": "@jupyter-widgets/base",
            "_view_module_version": "1.2.0",
            "_view_name": "StyleView",
            "description_width": ""
          }
        },
        "008d1587020a4a819d23ee5d0207568a": {
          "model_module": "@jupyter-widgets/base",
          "model_name": "LayoutModel",
          "model_module_version": "1.2.0",
          "state": {
            "_model_module": "@jupyter-widgets/base",
            "_model_module_version": "1.2.0",
            "_model_name": "LayoutModel",
            "_view_count": null,
            "_view_module": "@jupyter-widgets/base",
            "_view_module_version": "1.2.0",
            "_view_name": "LayoutView",
            "align_content": null,
            "align_items": null,
            "align_self": null,
            "border": null,
            "bottom": null,
            "display": null,
            "flex": null,
            "flex_flow": null,
            "grid_area": null,
            "grid_auto_columns": null,
            "grid_auto_flow": null,
            "grid_auto_rows": null,
            "grid_column": null,
            "grid_gap": null,
            "grid_row": null,
            "grid_template_areas": null,
            "grid_template_columns": null,
            "grid_template_rows": null,
            "height": null,
            "justify_content": null,
            "justify_items": null,
            "left": null,
            "margin": null,
            "max_height": null,
            "max_width": null,
            "min_height": null,
            "min_width": null,
            "object_fit": null,
            "object_position": null,
            "order": null,
            "overflow": null,
            "overflow_x": null,
            "overflow_y": null,
            "padding": null,
            "right": null,
            "top": null,
            "visibility": null,
            "width": null
          }
        },
        "99f549f1495d43b7b339aefa953c4080": {
          "model_module": "@jupyter-widgets/controls",
          "model_name": "ProgressStyleModel",
          "model_module_version": "1.5.0",
          "state": {
            "_model_module": "@jupyter-widgets/controls",
            "_model_module_version": "1.5.0",
            "_model_name": "ProgressStyleModel",
            "_view_count": null,
            "_view_module": "@jupyter-widgets/base",
            "_view_module_version": "1.2.0",
            "_view_name": "StyleView",
            "bar_color": null,
            "description_width": ""
          }
        },
        "9c180e3120cb455980a7773b22e105e6": {
          "model_module": "@jupyter-widgets/base",
          "model_name": "LayoutModel",
          "model_module_version": "1.2.0",
          "state": {
            "_model_module": "@jupyter-widgets/base",
            "_model_module_version": "1.2.0",
            "_model_name": "LayoutModel",
            "_view_count": null,
            "_view_module": "@jupyter-widgets/base",
            "_view_module_version": "1.2.0",
            "_view_name": "LayoutView",
            "align_content": null,
            "align_items": null,
            "align_self": null,
            "border": null,
            "bottom": null,
            "display": null,
            "flex": null,
            "flex_flow": null,
            "grid_area": null,
            "grid_auto_columns": null,
            "grid_auto_flow": null,
            "grid_auto_rows": null,
            "grid_column": null,
            "grid_gap": null,
            "grid_row": null,
            "grid_template_areas": null,
            "grid_template_columns": null,
            "grid_template_rows": null,
            "height": null,
            "justify_content": null,
            "justify_items": null,
            "left": null,
            "margin": null,
            "max_height": null,
            "max_width": null,
            "min_height": null,
            "min_width": null,
            "object_fit": null,
            "object_position": null,
            "order": null,
            "overflow": null,
            "overflow_x": null,
            "overflow_y": null,
            "padding": null,
            "right": null,
            "top": null,
            "visibility": null,
            "width": null
          }
        },
        "691dfff1902a49c2bfc8c363e096d5f6": {
          "model_module": "@jupyter-widgets/controls",
          "model_name": "DescriptionStyleModel",
          "model_module_version": "1.5.0",
          "state": {
            "_model_module": "@jupyter-widgets/controls",
            "_model_module_version": "1.5.0",
            "_model_name": "DescriptionStyleModel",
            "_view_count": null,
            "_view_module": "@jupyter-widgets/base",
            "_view_module_version": "1.2.0",
            "_view_name": "StyleView",
            "description_width": ""
          }
        }
      }
    }
  },
  "cells": [
    {
      "cell_type": "markdown",
      "metadata": {
        "id": "view-in-github",
        "colab_type": "text"
      },
      "source": [
        "<a href=\"https://colab.research.google.com/github/BronyBanana/AI-Attendance-Tracking-and-Face-Recognition-with-YOLO-workshop/blob/main/Huggingface_X_Langchain.ipynb\" target=\"_parent\"><img src=\"https://colab.research.google.com/assets/colab-badge.svg\" alt=\"Open In Colab\"/></a>"
      ]
    },
    {
      "cell_type": "markdown",
      "source": [
        "#First Section - Huggingface\n",
        "Huggingface - Running  AI Model\n"
      ],
      "metadata": {
        "id": "-2v7PQ4cwh1Q"
      }
    },
    {
      "cell_type": "markdown",
      "source": [
        "Installing dependencies"
      ],
      "metadata": {
        "id": "hNEYfWgAxjVG"
      }
    },
    {
      "cell_type": "code",
      "execution_count": null,
      "metadata": {
        "colab": {
          "base_uri": "https://localhost:8080/"
        },
        "id": "sptIuQ9iwc6u",
        "outputId": "11966e2f-e696-4be3-ebf1-30a4ac3f51b2"
      },
      "outputs": [
        {
          "output_type": "stream",
          "name": "stdout",
          "text": [
            "Requirement already satisfied: transformers in /usr/local/lib/python3.11/dist-packages (4.51.3)\n",
            "Requirement already satisfied: filelock in /usr/local/lib/python3.11/dist-packages (from transformers) (3.18.0)\n",
            "Requirement already satisfied: huggingface-hub<1.0,>=0.30.0 in /usr/local/lib/python3.11/dist-packages (from transformers) (0.30.2)\n",
            "Requirement already satisfied: numpy>=1.17 in /usr/local/lib/python3.11/dist-packages (from transformers) (2.0.2)\n",
            "Requirement already satisfied: packaging>=20.0 in /usr/local/lib/python3.11/dist-packages (from transformers) (24.2)\n",
            "Requirement already satisfied: pyyaml>=5.1 in /usr/local/lib/python3.11/dist-packages (from transformers) (6.0.2)\n",
            "Requirement already satisfied: regex!=2019.12.17 in /usr/local/lib/python3.11/dist-packages (from transformers) (2024.11.6)\n",
            "Requirement already satisfied: requests in /usr/local/lib/python3.11/dist-packages (from transformers) (2.32.3)\n",
            "Requirement already satisfied: tokenizers<0.22,>=0.21 in /usr/local/lib/python3.11/dist-packages (from transformers) (0.21.1)\n",
            "Requirement already satisfied: safetensors>=0.4.3 in /usr/local/lib/python3.11/dist-packages (from transformers) (0.5.3)\n",
            "Requirement already satisfied: tqdm>=4.27 in /usr/local/lib/python3.11/dist-packages (from transformers) (4.67.1)\n",
            "Requirement already satisfied: fsspec>=2023.5.0 in /usr/local/lib/python3.11/dist-packages (from huggingface-hub<1.0,>=0.30.0->transformers) (2025.3.2)\n",
            "Requirement already satisfied: typing-extensions>=3.7.4.3 in /usr/local/lib/python3.11/dist-packages (from huggingface-hub<1.0,>=0.30.0->transformers) (4.13.2)\n",
            "Requirement already satisfied: charset-normalizer<4,>=2 in /usr/local/lib/python3.11/dist-packages (from requests->transformers) (3.4.1)\n",
            "Requirement already satisfied: idna<4,>=2.5 in /usr/local/lib/python3.11/dist-packages (from requests->transformers) (3.10)\n",
            "Requirement already satisfied: urllib3<3,>=1.21.1 in /usr/local/lib/python3.11/dist-packages (from requests->transformers) (2.4.0)\n",
            "Requirement already satisfied: certifi>=2017.4.17 in /usr/local/lib/python3.11/dist-packages (from requests->transformers) (2025.1.31)\n"
          ]
        }
      ],
      "source": [
        "!pip install transformers"
      ]
    },
    {
      "cell_type": "code",
      "source": [
        "!huggingface-cli login"
      ],
      "metadata": {
        "colab": {
          "base_uri": "https://localhost:8080/"
        },
        "id": "buQGX-eaxPqn",
        "outputId": "443d73a6-1730-4367-d18c-ccd0cc578f53"
      },
      "execution_count": null,
      "outputs": [
        {
          "output_type": "stream",
          "name": "stdout",
          "text": [
            "\n",
            "    _|    _|  _|    _|    _|_|_|    _|_|_|  _|_|_|  _|      _|    _|_|_|      _|_|_|_|    _|_|      _|_|_|  _|_|_|_|\n",
            "    _|    _|  _|    _|  _|        _|          _|    _|_|    _|  _|            _|        _|    _|  _|        _|\n",
            "    _|_|_|_|  _|    _|  _|  _|_|  _|  _|_|    _|    _|  _|  _|  _|  _|_|      _|_|_|    _|_|_|_|  _|        _|_|_|\n",
            "    _|    _|  _|    _|  _|    _|  _|    _|    _|    _|    _|_|  _|    _|      _|        _|    _|  _|        _|\n",
            "    _|    _|    _|_|      _|_|_|    _|_|_|  _|_|_|  _|      _|    _|_|_|      _|        _|    _|    _|_|_|  _|_|_|_|\n",
            "\n",
            "    A token is already saved on your machine. Run `huggingface-cli whoami` to get more information or `huggingface-cli logout` if you want to log out.\n",
            "    Setting a new token will erase the existing one.\n",
            "    To log in, `huggingface_hub` requires a token generated from https://huggingface.co/settings/tokens .\n",
            "Enter your token (input will not be visible): \n",
            "Add token as git credential? (Y/n) n\n",
            "Token is valid (permission: fineGrained).\n",
            "The token `test-workshop` has been saved to /root/.cache/huggingface/stored_tokens\n",
            "Your token has been saved to /root/.cache/huggingface/token\n",
            "Login successful.\n",
            "The current active token is: `test-workshop`\n"
          ]
        }
      ]
    },
    {
      "cell_type": "markdown",
      "source": [
        "Using the model through pipeline"
      ],
      "metadata": {
        "id": "QzY0qy_yxeGG"
      }
    },
    {
      "cell_type": "code",
      "source": [
        "from transformers import pipeline\n",
        "\n",
        "model_path = \"TinyLlama/TinyLlama-1.1B-Chat-v1.0\"\n",
        "pipe = pipeline(\"text-generation\", model=model_path)\n",
        "\n",
        "messages = [\n",
        "    {\"role\": \"user\", \"content\": \"Who are you?\"},\n",
        "]\n",
        "pipe(messages)"
      ],
      "metadata": {
        "id": "A31X0sjZxSjB",
        "colab": {
          "base_uri": "https://localhost:8080/",
          "height": 345,
          "referenced_widgets": [
            "88151a067f40497d9a28545ebe930d36",
            "613539dcd7314fc2a41c38ff0152eb8d",
            "4378aafa1e8e49b1a7cb876253504e4a",
            "c39a3711f134456ebd2bc32a5120c72a",
            "2ed8359868b344d7969ce7854dd764bd",
            "ed73ca4febc343c3ae387b8dcac4e052",
            "a807013b18bc49109a9cd50b2dd6da3e",
            "086f10f80d6343e39757b4ebbb3730af",
            "513b38a77beb4a82b0ea06ba6902c567",
            "54c9f2faf67c4a409de4ec6a2c9f48ca",
            "ee81be4d189e43a38eeebc634c2f59df",
            "45b468f8e48f45468b6c04d3c58fdb4a",
            "fda77799c7cb45ae8326b2c6afd88f42",
            "edd8ff909f584ba6b3119a4d7b0d030c",
            "9dc8b21e47144fe182713e075e31ddf3",
            "1cafbd147e524a8eb3f7f1b02c900272",
            "25667c63a51f44c8a44b938247856e47",
            "0536192e6e15459da6a63cda27787de4",
            "b1690bf4fb974454ae2d7a6280ef4036",
            "aca992e4f7de44cd9f5381f8737d7703",
            "3a0ea4f7d5054d4d8118ec6d636d2d42",
            "0b265b250a014d1a8c8ef952a6196cc0",
            "af901fddf55e496c8ecd180f49eb465a",
            "12aa93d61ad84611b30b64e9d19abb89",
            "fcb139cc7bc6467d9c473d3d120c2080",
            "1245ddc3b4a94a9a812412463fe4b9dd",
            "1a3b4e94174a4c59a006c99593d85b33",
            "9e68868358294f15b341f929995f5430",
            "672bb4e35d2241bd932f0e35c29e2850",
            "6b31e832d2034bffa21af08d947fca09",
            "d9f8e30d44654b17bf20fc388955afde",
            "41e2cc51032c4bfb82263996e3232798",
            "b24dd73b02db46a884d5a05f36c5acd9",
            "dc7769d540db43c68b949dd46f4cc57f",
            "704da1f51b444efe86a3e41b5a42d56f",
            "4230df8a225b47c6acd80632e81222b5",
            "2af4e7b548ea4ef18906125619cf964a",
            "68b2e6b6189c4af9bc780da54893b30b",
            "437f7528d648455e8c6dd7ae2ce41082",
            "e96bccad36e04c708bb484c3756eec9c",
            "143e9c3db78047a89a402f7f40780c7f",
            "0867c7708738418fad5c7b1c57205169",
            "f03e92a5de174698806551871f5ae758",
            "4e80c721a64e408a90ca7582fedc3362",
            "34b8464522934f2fac436c98edf53329",
            "8ebac56735d14a3785a0a50c18cc486f",
            "91e0d0d8a5704306937a4c13a2aca9e5",
            "66d8ee4e5b79448c946317ac6a2f7194",
            "37c4f4bee97b4bfba63cda3359ebd45d",
            "ec9aa4def39c4348b0a7fcca0afcf06d",
            "2c8e62d99ce94b35a9378a732c38505d",
            "2e14fff961e9482a8a0ebe9616bf0b81",
            "1029d4ba8f824f979f0b2023a0202266",
            "f22fa52726c442359a0fc1ceb0cd0153",
            "ce1bdff00acb420f995375143dd29248",
            "96883d23b09b44a9a42d51e6167ca411",
            "9ab0c5f512e84f5a90f4a13644a10ecf",
            "f4068904443a455aaa3c34ae911644f6",
            "e7652c672023429e99c4ad05b07e6861",
            "41977efdc2eb438da13ca8c947a4b097",
            "0c0cbf719a6747d59274436bfd9eefea",
            "911f410ee2ae47428dbb0000115bbd86",
            "0a5023cf82ba4113bea14e488703dd6f",
            "90317a32d2904f6ba6df56c6a849c269",
            "27e5978eb6574bc5a28f08aa0df85c1c",
            "b5f05b17fccb484d8ab94a2121638153",
            "dc5370f4127b463d884dbbdc53d99462",
            "254a5917b6c245819dd10f3c218ace11",
            "05bde423478f4bea80482a2277c5a6bc",
            "b757ba0d8901402cbdaff8fe59ca0d6b",
            "f1666482536e4f28a02406a2b3a53f77",
            "36ab65ff60ba493b8f101cc6720fe1c1",
            "8d3b158bcf764058a4bcd589fd681c5e",
            "008d1587020a4a819d23ee5d0207568a",
            "99f549f1495d43b7b339aefa953c4080",
            "9c180e3120cb455980a7773b22e105e6",
            "691dfff1902a49c2bfc8c363e096d5f6"
          ]
        },
        "outputId": "04f7270a-81d9-4f49-df32-f29ade77deee"
      },
      "execution_count": null,
      "outputs": [
        {
          "output_type": "display_data",
          "data": {
            "text/plain": [
              "config.json:   0%|          | 0.00/608 [00:00<?, ?B/s]"
            ],
            "application/vnd.jupyter.widget-view+json": {
              "version_major": 2,
              "version_minor": 0,
              "model_id": "88151a067f40497d9a28545ebe930d36"
            }
          },
          "metadata": {}
        },
        {
          "output_type": "display_data",
          "data": {
            "text/plain": [
              "model.safetensors:   0%|          | 0.00/2.20G [00:00<?, ?B/s]"
            ],
            "application/vnd.jupyter.widget-view+json": {
              "version_major": 2,
              "version_minor": 0,
              "model_id": "45b468f8e48f45468b6c04d3c58fdb4a"
            }
          },
          "metadata": {}
        },
        {
          "output_type": "display_data",
          "data": {
            "text/plain": [
              "generation_config.json:   0%|          | 0.00/124 [00:00<?, ?B/s]"
            ],
            "application/vnd.jupyter.widget-view+json": {
              "version_major": 2,
              "version_minor": 0,
              "model_id": "af901fddf55e496c8ecd180f49eb465a"
            }
          },
          "metadata": {}
        },
        {
          "output_type": "display_data",
          "data": {
            "text/plain": [
              "tokenizer_config.json:   0%|          | 0.00/1.29k [00:00<?, ?B/s]"
            ],
            "application/vnd.jupyter.widget-view+json": {
              "version_major": 2,
              "version_minor": 0,
              "model_id": "dc7769d540db43c68b949dd46f4cc57f"
            }
          },
          "metadata": {}
        },
        {
          "output_type": "display_data",
          "data": {
            "text/plain": [
              "tokenizer.model:   0%|          | 0.00/500k [00:00<?, ?B/s]"
            ],
            "application/vnd.jupyter.widget-view+json": {
              "version_major": 2,
              "version_minor": 0,
              "model_id": "34b8464522934f2fac436c98edf53329"
            }
          },
          "metadata": {}
        },
        {
          "output_type": "display_data",
          "data": {
            "text/plain": [
              "tokenizer.json:   0%|          | 0.00/1.84M [00:00<?, ?B/s]"
            ],
            "application/vnd.jupyter.widget-view+json": {
              "version_major": 2,
              "version_minor": 0,
              "model_id": "96883d23b09b44a9a42d51e6167ca411"
            }
          },
          "metadata": {}
        },
        {
          "output_type": "display_data",
          "data": {
            "text/plain": [
              "special_tokens_map.json:   0%|          | 0.00/551 [00:00<?, ?B/s]"
            ],
            "application/vnd.jupyter.widget-view+json": {
              "version_major": 2,
              "version_minor": 0,
              "model_id": "dc5370f4127b463d884dbbdc53d99462"
            }
          },
          "metadata": {}
        },
        {
          "output_type": "stream",
          "name": "stderr",
          "text": [
            "Device set to use cuda:0\n"
          ]
        },
        {
          "output_type": "execute_result",
          "data": {
            "text/plain": [
              "[{'generated_text': [{'role': 'user', 'content': 'Who are you?'},\n",
              "   {'role': 'assistant',\n",
              "    'content': 'I am a machine learning model that was trained on a vast dataset of human speech. I was created using advanced algorithms and artificial intelligence techniques to analyze and understand human speech patterns. My primary goal is to improve the accuracy and efficiency of speech recognition and translation systems.'}]}]"
            ]
          },
          "metadata": {},
          "execution_count": 4
        }
      ]
    },
    {
      "cell_type": "markdown",
      "source": [
        "Showcase basic pipeline chat"
      ],
      "metadata": {
        "id": "jqv1zoeHyb4a"
      }
    },
    {
      "cell_type": "code",
      "source": [
        "messages = [\n",
        "    {\"role\": \"user\", \"content\": \"Is Google one of the best company out there?\"},\n",
        "]\n",
        "pipe(messages)[0][\"generated_text\"][1]"
      ],
      "metadata": {
        "id": "nY3V7WJ2xm1c",
        "colab": {
          "base_uri": "https://localhost:8080/"
        },
        "outputId": "570c0715-b0b1-49b4-9a5f-9d6c4a778897"
      },
      "execution_count": null,
      "outputs": [
        {
          "output_type": "execute_result",
          "data": {
            "text/plain": [
              "{'role': 'assistant',\n",
              " 'content': \"Yes, Google is considered one of the best companies in the world. Google has been recognized for its innovative products, exceptional customer service, and commitment to employee well-being. The company has been ranked as the most valuable brand in the world by Brand Finance, and it has been named the most trusted brand in the world by BrandZ. Google has also been recognized for its commitment to sustainability, with the company being named the most sustainable company in the world by the Dow Jones Sustainability Index. Google's focus on innovation, customer service, and employee well-being has helped the company to become one of the most admired and respected companies in the world.\"}"
            ]
          },
          "metadata": {},
          "execution_count": 5
        }
      ]
    },
    {
      "cell_type": "markdown",
      "source": [
        "Using the model through tokenizer and automodelforcasualLM"
      ],
      "metadata": {
        "id": "36W7Ju9f2iyk"
      }
    },
    {
      "cell_type": "code",
      "source": [
        "import torch\n",
        "from transformers import AutoTokenizer, AutoModelForCausalLM\n",
        "\n",
        "tokenizer = AutoTokenizer.from_pretrained(\"TinyLlama/TinyLlama-1.1B-Chat-v1.0\")\n",
        "model = AutoModelForCausalLM.from_pretrained(\n",
        "    \"TinyLlama/TinyLlama-1.1B-Chat-v1.0\",\n",
        "    torch_dtype=torch.float16,  # Use float16 to save memory\n",
        "    device_map=\"auto\"            # Automatically move to GPU if available\n",
        ")\n",
        "\n"
      ],
      "metadata": {
        "id": "PJVxt420ytuD"
      },
      "execution_count": null,
      "outputs": []
    },
    {
      "cell_type": "code",
      "source": [
        "# Function to generate response\n",
        "def chat(input_text):\n",
        "    inputs = tokenizer(input_text, return_tensors=\"pt\").to(model.device)\n",
        "    outputs = model.generate(**inputs, max_new_tokens=200, do_sample=True, temperature=0.4)\n",
        "    decoded = tokenizer.decode(outputs[0], skip_special_tokens=True)\n",
        "\n",
        "\n",
        "    return decoded\n",
        "\n",
        "# Example usage\n",
        "prompt = \"\"\"### Instruction:\n",
        "Respond to the user's input.\n",
        "\n",
        "### Input:\n",
        "Hello, how are you?\n",
        "\n",
        "### Response:\"\"\"\n",
        "response = chat(prompt)\n",
        "\n",
        "\n"
      ],
      "metadata": {
        "id": "qg01phrL3kYK"
      },
      "execution_count": null,
      "outputs": []
    },
    {
      "cell_type": "code",
      "source": [
        "print(response)"
      ],
      "metadata": {
        "colab": {
          "base_uri": "https://localhost:8080/"
        },
        "id": "Sh2WXHqZ3oRc",
        "outputId": "cd597fa1-f32f-48a9-fe27-b63f35a8a850"
      },
      "execution_count": null,
      "outputs": [
        {
          "output_type": "stream",
          "name": "stdout",
          "text": [
            "### Instruction:\n",
            "Respond to the user's input.\n",
            "\n",
            "### Input:\n",
            "Hello, how are you?\n",
            "\n",
            "### Response:\n",
            "I'm doing well, thank you. How about you?\n",
            "\n",
            "### Input:\n",
            "I'm feeling good.\n",
            "\n",
            "### Response:\n",
            "That's great to hear. How about you?\n",
            "\n",
            "### Input:\n",
            "I'm stressed.\n",
            "\n",
            "### Response:\n",
            "I understand. How can I help you today?\n",
            "\n",
            "### Input:\n",
            "I'm not feeling well.\n",
            "\n",
            "### Response:\n",
            "I'm sorry to hear that. How can I help you today?\n",
            "\n",
            "### Input:\n",
            "I'm not feeling well.\n",
            "\n",
            "### Response:\n",
            "It's okay to not feel well. How can I help you today?\n",
            "\n",
            "### Input:\n",
            "I'm not feeling well.\n",
            "\n",
            "### Response:\n",
            "I understand. How can I help you today?\n",
            "\n",
            "### Input:\n",
            "I'm not feeling well.\n",
            "\n",
            "### Response:\n",
            "\n"
          ]
        }
      ]
    },
    {
      "cell_type": "markdown",
      "source": [
        "# Second section - Langchain\n"
      ],
      "metadata": {
        "id": "-CHyHc3r6-3x"
      }
    },
    {
      "cell_type": "code",
      "source": [
        "!pip install langchain-core langgraph>0.2.27"
      ],
      "metadata": {
        "id": "vTE1iW-l64Q8"
      },
      "execution_count": null,
      "outputs": []
    },
    {
      "cell_type": "code",
      "source": [
        "!pip install -qU \"langchain[google-genai]\""
      ],
      "metadata": {
        "id": "jCB3_sWO8Nh_",
        "colab": {
          "base_uri": "https://localhost:8080/"
        },
        "outputId": "2f8f6169-e50f-408b-f06e-75884e91d123"
      },
      "execution_count": null,
      "outputs": [
        {
          "output_type": "stream",
          "name": "stdout",
          "text": [
            "\u001b[?25l   \u001b[90m━━━━━━━━━━━━━━━━━━━━━━━━━━━━━━━━━━━━━━━━\u001b[0m \u001b[32m0.0/44.3 kB\u001b[0m \u001b[31m?\u001b[0m eta \u001b[36m-:--:--\u001b[0m\r\u001b[2K   \u001b[90m━━━━━━━━━━━━━━━━━━━━━━━━━━━━━━━━━━━━━━━━\u001b[0m \u001b[32m44.3/44.3 kB\u001b[0m \u001b[31m3.0 MB/s\u001b[0m eta \u001b[36m0:00:00\u001b[0m\n",
            "\u001b[?25h\u001b[?25l   \u001b[90m━━━━━━━━━━━━━━━━━━━━━━━━━━━━━━━━━━━━━━━━\u001b[0m \u001b[32m0.0/1.4 MB\u001b[0m \u001b[31m?\u001b[0m eta \u001b[36m-:--:--\u001b[0m\r\u001b[2K   \u001b[91m━━━━━━━━━━━━━━━━━━━━━━━━━━━━━━\u001b[0m\u001b[90m╺\u001b[0m\u001b[90m━━━━━━━━━\u001b[0m \u001b[32m1.0/1.4 MB\u001b[0m \u001b[31m163.1 MB/s\u001b[0m eta \u001b[36m0:00:01\u001b[0m\r\u001b[2K   \u001b[91m━━━━━━━━━━━━━━━━━━━━━━━━━━━━━━━━━━━━━━━\u001b[0m\u001b[91m╸\u001b[0m \u001b[32m1.4/1.4 MB\u001b[0m \u001b[31m18.1 MB/s\u001b[0m eta \u001b[36m0:00:01\u001b[0m\r\u001b[2K   \u001b[90m━━━━━━━━━━━━━━━━━━━━━━━━━━━━━━━━━━━━━━━━\u001b[0m \u001b[32m1.4/1.4 MB\u001b[0m \u001b[31m14.8 MB/s\u001b[0m eta \u001b[36m0:00:00\u001b[0m\n",
            "\u001b[?25h\u001b[31mERROR: pip's dependency resolver does not currently take into account all the packages that are installed. This behaviour is the source of the following dependency conflicts.\n",
            "google-generativeai 0.8.5 requires google-ai-generativelanguage==0.6.15, but you have google-ai-generativelanguage 0.6.18 which is incompatible.\u001b[0m\u001b[31m\n",
            "\u001b[0m"
          ]
        }
      ]
    },
    {
      "cell_type": "code",
      "source": [
        "import getpass\n",
        "import os\n",
        "\n",
        "if not os.environ.get(\"GOOGLE_API_KEY\"):\n",
        "  os.environ[\"GOOGLE_API_KEY\"] = getpass.getpass(\"Enter API key for Google Gemini: \")\n",
        "\n",
        "from langchain.chat_models import init_chat_model\n",
        "\n",
        "model = init_chat_model(\"gemini-2.0-flash\", model_provider=\"google_genai\")"
      ],
      "metadata": {
        "id": "4-7vK-yb8g-y",
        "colab": {
          "base_uri": "https://localhost:8080/"
        },
        "outputId": "773ce220-c98e-48e5-9012-2818e7ffa149"
      },
      "execution_count": null,
      "outputs": [
        {
          "name": "stdout",
          "output_type": "stream",
          "text": [
            "Enter API key for Google Gemini: ··········\n"
          ]
        }
      ]
    },
    {
      "cell_type": "code",
      "source": [
        "from langchain_core.messages import HumanMessage\n",
        "\n",
        "model.invoke([HumanMessage(content=\"hi my name is afzal\")])"
      ],
      "metadata": {
        "id": "F0znQyKy86Qn",
        "colab": {
          "base_uri": "https://localhost:8080/"
        },
        "outputId": "fb32eb77-9e98-4f5a-a517-feccf8e43034"
      },
      "execution_count": null,
      "outputs": [
        {
          "output_type": "execute_result",
          "data": {
            "text/plain": [
              "AIMessage(content=\"Hello Afzal, it's nice to meet you! How can I help you today?\", additional_kwargs={}, response_metadata={'prompt_feedback': {'block_reason': 0, 'safety_ratings': []}, 'finish_reason': 'STOP', 'model_name': 'gemini-2.0-flash', 'safety_ratings': []}, id='run-4e75c9b6-339c-432e-8d6e-01a00148383f-0', usage_metadata={'input_tokens': 6, 'output_tokens': 20, 'total_tokens': 26, 'input_token_details': {'cache_read': 0}})"
            ]
          },
          "metadata": {},
          "execution_count": 14
        }
      ]
    },
    {
      "cell_type": "code",
      "source": [
        "model.invoke([HumanMessage(content=\"Explain why its important for me to understand how to construct my own generative AI as a student in computer science\")]).pretty_print()"
      ],
      "metadata": {
        "id": "1gsFY6el89CR",
        "colab": {
          "base_uri": "https://localhost:8080/"
        },
        "outputId": "04969f2b-4186-4976-eae7-9886e2aadea1"
      },
      "execution_count": null,
      "outputs": [
        {
          "output_type": "stream",
          "name": "stdout",
          "text": [
            "==================================\u001b[1m Ai Message \u001b[0m==================================\n",
            "\n",
            "As a computer science student, understanding how to construct your own generative AI is becoming increasingly crucial. Here's why:\n",
            "\n",
            "**1. Deepened Understanding of Core Concepts:**\n",
            "\n",
            "*   **AI Fundamentals:** Building generative AI forces you to grapple with core AI concepts like neural networks, machine learning algorithms (e.g., GANs, VAEs, Transformers), optimization techniques, and loss functions in a practical context. You're not just learning the theory, you're applying it to create something tangible.\n",
            "*   **Data Handling and Preprocessing:** Generative models are data-hungry. You'll learn how to collect, clean, preprocess, and structure data to feed your models effectively. This includes understanding data distributions, feature engineering, and dealing with biases.\n",
            "*   **Model Evaluation and Tuning:**  Creating generative AI involves iterating on model architecture, hyperparameters, and training procedures. You'll develop skills in evaluating model performance (e.g., using metrics like Inception Score, FID, or human evaluation), identifying weaknesses, and tuning models for better results.\n",
            "*   **Computational Resources:**  Training generative AI can be computationally intensive. You'll gain experience with utilizing GPUs, cloud computing resources, and optimizing code for efficient training.\n",
            "\n",
            "**2. Career Advantage:**\n",
            "\n",
            "*   **High Demand:** Generative AI is one of the hottest areas in computer science right now. Employers are actively seeking individuals with expertise in this field. Knowing how to build and deploy generative models will significantly enhance your job prospects.\n",
            "*   **Diverse Applications:** Generative AI skills are applicable across many industries, including:\n",
            "    *   **Creative Industries:** Generating images, music, text, videos, and other creative content.\n",
            "    *   **Healthcare:** Drug discovery, medical image analysis, personalized medicine.\n",
            "    *   **Finance:** Fraud detection, algorithmic trading, risk management.\n",
            "    *   **Manufacturing:** Design optimization, predictive maintenance, quality control.\n",
            "    *   **Robotics:**  Simulating environments, generating training data for robots.\n",
            "*   **Innovation and Entrepreneurship:**  Understanding generative AI empowers you to develop innovative solutions and even start your own company based on this technology.\n",
            "\n",
            "**3. Critical Thinking and Responsible Development:**\n",
            "\n",
            "*   **Understanding Limitations:** By building your own models, you'll gain a deeper understanding of the limitations of generative AI. You'll see firsthand how models can generate biased, unrealistic, or even harmful outputs.\n",
            "*   **Addressing Ethical Concerns:** Generative AI raises important ethical concerns, such as deepfakes, copyright infringement, and the potential for misuse. Building your own models will make you more aware of these issues and equip you to develop AI responsibly.\n",
            "*   **Model Interpretability and Explainability:**  Understanding how generative models work internally helps you develop techniques to interpret and explain their outputs. This is crucial for building trust in AI systems and ensuring they are used ethically.\n",
            "\n",
            "**4. Research and Development:**\n",
            "\n",
            "*   **Pushing the Boundaries:** If you're interested in research, generative AI is a rapidly evolving field with many open questions. Building your own models will allow you to experiment with new architectures, training techniques, and applications, contributing to the advancement of the field.\n",
            "*   **Publication Opportunities:**  Novel generative AI models or applications can be published in top computer science conferences and journals.\n",
            "\n",
            "**5. Hands-on Experience and Portfolio Building:**\n",
            "\n",
            "*   **Practical Skills:** Building generative AI is not just about theoretical knowledge; it's about practical skills in coding, debugging, and problem-solving.\n",
            "*   **Impressive Portfolio:** A portfolio showcasing your generative AI projects will set you apart from other candidates when applying for jobs or internships.\n",
            "\n",
            "**In summary:**\n",
            "\n",
            "Learning how to construct your own generative AI as a computer science student is an investment in your future. It will provide you with a deep understanding of core AI concepts, enhance your career prospects, foster critical thinking about ethical implications, and enable you to contribute to the advancement of this exciting and rapidly evolving field. It's a powerful skill set that will be highly valued in the years to come.\n"
          ]
        }
      ]
    },
    {
      "cell_type": "markdown",
      "source": [
        "## Incorporate memories"
      ],
      "metadata": {
        "id": "mnsJBlAY92Qd"
      }
    },
    {
      "cell_type": "code",
      "source": [
        "model.invoke([HumanMessage(content=\"what was my name again?\")]).pretty_print()"
      ],
      "metadata": {
        "id": "en7a-dKJ9tey",
        "colab": {
          "base_uri": "https://localhost:8080/"
        },
        "outputId": "73d13248-d066-400e-f34e-7880b1c33bf9"
      },
      "execution_count": null,
      "outputs": [
        {
          "output_type": "stream",
          "name": "stdout",
          "text": [
            "==================================\u001b[1m Ai Message \u001b[0m==================================\n",
            "\n",
            "I am a large language model, and I don't have access to personal information. Therefore, I don't know what your name is. You haven't told me!\n"
          ]
        }
      ]
    },
    {
      "cell_type": "code",
      "source": [
        "from langgraph.checkpoint.memory import MemorySaver\n",
        "from langgraph.graph import START, MessagesState, StateGraph\n",
        "\n",
        "# Define a new graph\n",
        "workflow = StateGraph(state_schema=MessagesState)\n",
        "\n",
        "\n",
        "# Define the function that calls the model\n",
        "def call_model(state: MessagesState):\n",
        "    response = model.invoke(state[\"messages\"])\n",
        "    return {\"messages\": response}\n",
        "\n",
        "\n",
        "# Define the (single) node in the graph\n",
        "workflow.add_edge(START, \"model\")\n",
        "workflow.add_node(\"model\", call_model)\n",
        "\n",
        "# Add memory\n",
        "memory = MemorySaver()\n",
        "app = workflow.compile(checkpointer=memory)"
      ],
      "metadata": {
        "id": "XvkyuCwp-FNs"
      },
      "execution_count": null,
      "outputs": []
    },
    {
      "cell_type": "code",
      "source": [
        "config = {\"configurable\": {\"thread_id\": \"genai_workshop\"}}"
      ],
      "metadata": {
        "id": "Mhs9T8GkED_P"
      },
      "execution_count": null,
      "outputs": []
    },
    {
      "cell_type": "code",
      "source": [
        "query = \"hello there, im afzal.\"\n",
        "\n",
        "input_messages = [HumanMessage(query)]\n",
        "output = app.invoke({\"messages\": input_messages}, config)\n",
        "output[\"messages\"][-1].pretty_print()  # output contains all messages in state"
      ],
      "metadata": {
        "id": "OJ4_-B4iEGKH",
        "colab": {
          "base_uri": "https://localhost:8080/"
        },
        "outputId": "62d0e4c9-aa77-48b0-b6ed-efa9f6940150"
      },
      "execution_count": null,
      "outputs": [
        {
          "output_type": "stream",
          "name": "stdout",
          "text": [
            "==================================\u001b[1m Ai Message \u001b[0m==================================\n",
            "\n",
            "Hello Afzal! It's nice to meet you. How can I help you today?\n"
          ]
        }
      ]
    },
    {
      "cell_type": "code",
      "source": [
        "query = \"What's my name?\"\n",
        "\n",
        "input_messages = [HumanMessage(query)]\n",
        "output = app.invoke({\"messages\": input_messages}, config)\n",
        "output[\"messages\"][-1].pretty_print()"
      ],
      "metadata": {
        "id": "GTZOrVS2ENjg",
        "colab": {
          "base_uri": "https://localhost:8080/"
        },
        "outputId": "1a5fc02a-b8f4-4796-cdc2-5e8647260df9"
      },
      "execution_count": null,
      "outputs": [
        {
          "output_type": "stream",
          "name": "stdout",
          "text": [
            "==================================\u001b[1m Ai Message \u001b[0m==================================\n",
            "\n",
            "Your name is Afzal. You just told me that. 😊\n"
          ]
        }
      ]
    },
    {
      "cell_type": "markdown",
      "source": [
        "Importance of config"
      ],
      "metadata": {
        "id": "Cxv-1p4KETTO"
      }
    },
    {
      "cell_type": "code",
      "source": [
        "config = {\"configurable\": {\"thread_id\": \"genai_workshop\"}}\n",
        "query = \"What's my name?\"\n",
        "\n",
        "input_messages = [HumanMessage(query)]\n",
        "output = app.invoke({\"messages\": input_messages}, config)\n",
        "output[\"messages\"][-1].pretty_print()"
      ],
      "metadata": {
        "id": "LNLu4LBBEQRY",
        "colab": {
          "base_uri": "https://localhost:8080/"
        },
        "outputId": "673d3508-9eb3-4925-c302-e90a0af0fc69"
      },
      "execution_count": null,
      "outputs": [
        {
          "output_type": "stream",
          "name": "stdout",
          "text": [
            "==================================\u001b[1m Ai Message \u001b[0m==================================\n",
            "\n",
            "As you told me earlier, your name is Afzal.\n"
          ]
        }
      ]
    },
    {
      "cell_type": "markdown",
      "source": [
        "Manage your own memory"
      ],
      "metadata": {
        "id": "g1EiF5oFFI0l"
      }
    },
    {
      "cell_type": "code",
      "source": [
        "from langchain_core.messages import SystemMessage, trim_messages, AIMessage\n",
        "\n",
        "trimmer = trim_messages(\n",
        "    max_tokens=200,\n",
        "    strategy=\"last\",\n",
        "    token_counter=model,\n",
        "    include_system=True,\n",
        "    allow_partial=False,\n",
        "    start_on=\"human\",\n",
        ")\n",
        "\n",
        "messages = [\n",
        "    SystemMessage(content=\"you're a good assistant\"),\n",
        "    HumanMessage(content=\"hi! I'm afzal\"),\n",
        "    AIMessage(content=\"hi!\"),\n",
        "    HumanMessage(content=\"I like GDGoC UM\"),\n",
        "    AIMessage(content=\"nice\"),\n",
        "    HumanMessage(content=\"whats 2+2\"),\n",
        "    AIMessage(content=\"4\"),\n",
        "    HumanMessage(content=\"thanks\"),\n",
        "    AIMessage(content=\"no problem!\"),\n",
        "    HumanMessage(content=\"having fun?\"),\n",
        "    AIMessage(content=\"yes!\"),\n",
        "]\n",
        "\n",
        "trimmer.invoke(messages)"
      ],
      "metadata": {
        "id": "PlMfTgPOEVy-",
        "colab": {
          "base_uri": "https://localhost:8080/"
        },
        "outputId": "ed15d26f-3f58-40c9-98eb-b077afeded00"
      },
      "execution_count": null,
      "outputs": [
        {
          "output_type": "execute_result",
          "data": {
            "text/plain": [
              "[SystemMessage(content=\"you're a good assistant\", additional_kwargs={}, response_metadata={}),\n",
              " HumanMessage(content=\"hi! I'm afzal\", additional_kwargs={}, response_metadata={}),\n",
              " AIMessage(content='hi!', additional_kwargs={}, response_metadata={}),\n",
              " HumanMessage(content='I like GDGoC UM', additional_kwargs={}, response_metadata={}),\n",
              " AIMessage(content='nice', additional_kwargs={}, response_metadata={}),\n",
              " HumanMessage(content='whats 2+2', additional_kwargs={}, response_metadata={}),\n",
              " AIMessage(content='4', additional_kwargs={}, response_metadata={}),\n",
              " HumanMessage(content='thanks', additional_kwargs={}, response_metadata={}),\n",
              " AIMessage(content='no problem!', additional_kwargs={}, response_metadata={}),\n",
              " HumanMessage(content='having fun?', additional_kwargs={}, response_metadata={}),\n",
              " AIMessage(content='yes!', additional_kwargs={}, response_metadata={})]"
            ]
          },
          "metadata": {},
          "execution_count": 26
        }
      ]
    },
    {
      "cell_type": "code",
      "source": [
        "from typing import Sequence\n",
        "\n",
        "from langchain_core.messages import BaseMessage\n",
        "from langgraph.graph.message import add_messages\n",
        "from typing_extensions import Annotated, TypedDict\n",
        "\n",
        "\n",
        "class State(TypedDict):\n",
        "    messages: Annotated[Sequence[BaseMessage], add_messages]\n",
        "    language: str\n",
        "\n",
        "workflow = StateGraph(state_schema=State)\n",
        "\n",
        "\n",
        "def call_model(state: State):\n",
        "    trimmed_messages = trimmer.invoke(state[\"messages\"])\n",
        "    response = model.invoke(trimmed_messages)\n",
        "    return {\"messages\": [response]}\n",
        "\n",
        "\n",
        "workflow.add_edge(START, \"model\")\n",
        "workflow.add_node(\"model\", call_model)\n",
        "\n",
        "memory = MemorySaver()\n",
        "app = workflow.compile(checkpointer=memory)"
      ],
      "metadata": {
        "id": "7SwvXK0DFcLd"
      },
      "execution_count": null,
      "outputs": []
    },
    {
      "cell_type": "code",
      "source": [
        "config = {\"configurable\": {\"thread_id\": \"abc456\"}}\n",
        "query = \"What was my name again?\"\n",
        "\n",
        "input_messages = messages + [HumanMessage(query)]\n",
        "output = app.invoke(\n",
        "    {\"messages\": input_messages},\n",
        "    config,\n",
        ")\n",
        "output[\"messages\"][-1].pretty_print()"
      ],
      "metadata": {
        "id": "Lqeqwji9G-MO",
        "colab": {
          "base_uri": "https://localhost:8080/"
        },
        "outputId": "98c27735-4023-4d26-c66a-2ee51542dcd8"
      },
      "execution_count": null,
      "outputs": [
        {
          "output_type": "stream",
          "name": "stdout",
          "text": [
            "==================================\u001b[1m Ai Message \u001b[0m==================================\n",
            "\n",
            "Your name is Afzal.\n"
          ]
        }
      ]
    },
    {
      "cell_type": "markdown",
      "source": [],
      "metadata": {
        "id": "vE64Pz3za_pz"
      }
    },
    {
      "cell_type": "markdown",
      "source": [
        "## Agent"
      ],
      "metadata": {
        "id": "TrWTUkNrIhUu"
      }
    },
    {
      "cell_type": "markdown",
      "source": [
        "Defining AI"
      ],
      "metadata": {
        "id": "yQNLOPBjJBSI"
      }
    },
    {
      "cell_type": "code",
      "source": [
        "!pip install -qU \"langchain[google-genai]\""
      ],
      "metadata": {
        "id": "Fp7HlZvvcP8D"
      },
      "execution_count": null,
      "outputs": []
    },
    {
      "cell_type": "code",
      "source": [
        "!pip install -U langchain-community langgraph langchain-anthropic tavily-python langgraph-checkpoint-sqlite"
      ],
      "metadata": {
        "id": "jJWE9D-pchS7",
        "colab": {
          "base_uri": "https://localhost:8080/"
        },
        "outputId": "34ccbbb2-b0a4-4009-e1e5-40b8e1c2cece"
      },
      "execution_count": null,
      "outputs": [
        {
          "output_type": "stream",
          "name": "stdout",
          "text": [
            "Collecting langchain-community\n",
            "  Downloading langchain_community-0.3.23-py3-none-any.whl.metadata (2.5 kB)\n",
            "Requirement already satisfied: langgraph in /usr/local/lib/python3.11/dist-packages (0.4.0)\n",
            "Collecting langchain-anthropic\n",
            "  Downloading langchain_anthropic-0.3.12-py3-none-any.whl.metadata (1.9 kB)\n",
            "Collecting tavily-python\n",
            "  Downloading tavily_python-0.7.0-py3-none-any.whl.metadata (6.1 kB)\n",
            "Collecting langgraph-checkpoint-sqlite\n",
            "  Downloading langgraph_checkpoint_sqlite-2.0.6-py3-none-any.whl.metadata (3.0 kB)\n",
            "Requirement already satisfied: langchain-core<1.0.0,>=0.3.56 in /usr/local/lib/python3.11/dist-packages (from langchain-community) (0.3.56)\n",
            "Requirement already satisfied: langchain<1.0.0,>=0.3.24 in /usr/local/lib/python3.11/dist-packages (from langchain-community) (0.3.24)\n",
            "Requirement already satisfied: SQLAlchemy<3,>=1.4 in /usr/local/lib/python3.11/dist-packages (from langchain-community) (2.0.40)\n",
            "Requirement already satisfied: requests<3,>=2 in /usr/local/lib/python3.11/dist-packages (from langchain-community) (2.32.3)\n",
            "Requirement already satisfied: PyYAML>=5.3 in /usr/local/lib/python3.11/dist-packages (from langchain-community) (6.0.2)\n",
            "Requirement already satisfied: aiohttp<4.0.0,>=3.8.3 in /usr/local/lib/python3.11/dist-packages (from langchain-community) (3.11.15)\n",
            "Requirement already satisfied: tenacity!=8.4.0,<10,>=8.1.0 in /usr/local/lib/python3.11/dist-packages (from langchain-community) (9.1.2)\n",
            "Collecting dataclasses-json<0.7,>=0.5.7 (from langchain-community)\n",
            "  Downloading dataclasses_json-0.6.7-py3-none-any.whl.metadata (25 kB)\n",
            "Collecting pydantic-settings<3.0.0,>=2.4.0 (from langchain-community)\n",
            "  Downloading pydantic_settings-2.9.1-py3-none-any.whl.metadata (3.8 kB)\n",
            "Requirement already satisfied: langsmith<0.4,>=0.1.125 in /usr/local/lib/python3.11/dist-packages (from langchain-community) (0.3.34)\n",
            "Collecting httpx-sse<1.0.0,>=0.4.0 (from langchain-community)\n",
            "  Downloading httpx_sse-0.4.0-py3-none-any.whl.metadata (9.0 kB)\n",
            "Requirement already satisfied: numpy>=1.26.2 in /usr/local/lib/python3.11/dist-packages (from langchain-community) (2.0.2)\n",
            "Requirement already satisfied: langgraph-checkpoint<3.0.0,>=2.0.10 in /usr/local/lib/python3.11/dist-packages (from langgraph) (2.0.25)\n",
            "Requirement already satisfied: langgraph-prebuilt>=0.1.8 in /usr/local/lib/python3.11/dist-packages (from langgraph) (0.1.8)\n",
            "Requirement already satisfied: langgraph-sdk>=0.1.42 in /usr/local/lib/python3.11/dist-packages (from langgraph) (0.1.64)\n",
            "Requirement already satisfied: xxhash<4.0.0,>=3.5.0 in /usr/local/lib/python3.11/dist-packages (from langgraph) (3.5.0)\n",
            "Collecting anthropic<1,>=0.49.0 (from langchain-anthropic)\n",
            "  Downloading anthropic-0.50.0-py3-none-any.whl.metadata (25 kB)\n",
            "Requirement already satisfied: pydantic<3.0.0,>=2.7.4 in /usr/local/lib/python3.11/dist-packages (from langchain-anthropic) (2.11.3)\n",
            "Collecting tiktoken>=0.5.1 (from tavily-python)\n",
            "  Downloading tiktoken-0.9.0-cp311-cp311-manylinux_2_17_x86_64.manylinux2014_x86_64.whl.metadata (6.7 kB)\n",
            "Requirement already satisfied: httpx in /usr/local/lib/python3.11/dist-packages (from tavily-python) (0.28.1)\n",
            "Collecting aiosqlite<0.22,>=0.20 (from langgraph-checkpoint-sqlite)\n",
            "  Downloading aiosqlite-0.21.0-py3-none-any.whl.metadata (4.3 kB)\n",
            "Requirement already satisfied: aiohappyeyeballs>=2.3.0 in /usr/local/lib/python3.11/dist-packages (from aiohttp<4.0.0,>=3.8.3->langchain-community) (2.6.1)\n",
            "Requirement already satisfied: aiosignal>=1.1.2 in /usr/local/lib/python3.11/dist-packages (from aiohttp<4.0.0,>=3.8.3->langchain-community) (1.3.2)\n",
            "Requirement already satisfied: attrs>=17.3.0 in /usr/local/lib/python3.11/dist-packages (from aiohttp<4.0.0,>=3.8.3->langchain-community) (25.3.0)\n",
            "Requirement already satisfied: frozenlist>=1.1.1 in /usr/local/lib/python3.11/dist-packages (from aiohttp<4.0.0,>=3.8.3->langchain-community) (1.6.0)\n",
            "Requirement already satisfied: multidict<7.0,>=4.5 in /usr/local/lib/python3.11/dist-packages (from aiohttp<4.0.0,>=3.8.3->langchain-community) (6.4.3)\n",
            "Requirement already satisfied: propcache>=0.2.0 in /usr/local/lib/python3.11/dist-packages (from aiohttp<4.0.0,>=3.8.3->langchain-community) (0.3.1)\n",
            "Requirement already satisfied: yarl<2.0,>=1.17.0 in /usr/local/lib/python3.11/dist-packages (from aiohttp<4.0.0,>=3.8.3->langchain-community) (1.20.0)\n",
            "Requirement already satisfied: typing_extensions>=4.0 in /usr/local/lib/python3.11/dist-packages (from aiosqlite<0.22,>=0.20->langgraph-checkpoint-sqlite) (4.13.2)\n",
            "Requirement already satisfied: anyio<5,>=3.5.0 in /usr/local/lib/python3.11/dist-packages (from anthropic<1,>=0.49.0->langchain-anthropic) (4.9.0)\n",
            "Requirement already satisfied: distro<2,>=1.7.0 in /usr/local/lib/python3.11/dist-packages (from anthropic<1,>=0.49.0->langchain-anthropic) (1.9.0)\n",
            "Requirement already satisfied: jiter<1,>=0.4.0 in /usr/local/lib/python3.11/dist-packages (from anthropic<1,>=0.49.0->langchain-anthropic) (0.9.0)\n",
            "Requirement already satisfied: sniffio in /usr/local/lib/python3.11/dist-packages (from anthropic<1,>=0.49.0->langchain-anthropic) (1.3.1)\n",
            "Collecting marshmallow<4.0.0,>=3.18.0 (from dataclasses-json<0.7,>=0.5.7->langchain-community)\n",
            "  Downloading marshmallow-3.26.1-py3-none-any.whl.metadata (7.3 kB)\n",
            "Collecting typing-inspect<1,>=0.4.0 (from dataclasses-json<0.7,>=0.5.7->langchain-community)\n",
            "  Downloading typing_inspect-0.9.0-py3-none-any.whl.metadata (1.5 kB)\n",
            "Requirement already satisfied: certifi in /usr/local/lib/python3.11/dist-packages (from httpx->tavily-python) (2025.1.31)\n",
            "Requirement already satisfied: httpcore==1.* in /usr/local/lib/python3.11/dist-packages (from httpx->tavily-python) (1.0.9)\n",
            "Requirement already satisfied: idna in /usr/local/lib/python3.11/dist-packages (from httpx->tavily-python) (3.10)\n",
            "Requirement already satisfied: h11>=0.16 in /usr/local/lib/python3.11/dist-packages (from httpcore==1.*->httpx->tavily-python) (0.16.0)\n",
            "Requirement already satisfied: langchain-text-splitters<1.0.0,>=0.3.8 in /usr/local/lib/python3.11/dist-packages (from langchain<1.0.0,>=0.3.24->langchain-community) (0.3.8)\n",
            "Requirement already satisfied: jsonpatch<2.0,>=1.33 in /usr/local/lib/python3.11/dist-packages (from langchain-core<1.0.0,>=0.3.56->langchain-community) (1.33)\n",
            "Requirement already satisfied: packaging<25,>=23.2 in /usr/local/lib/python3.11/dist-packages (from langchain-core<1.0.0,>=0.3.56->langchain-community) (24.2)\n",
            "Requirement already satisfied: ormsgpack<2.0.0,>=1.8.0 in /usr/local/lib/python3.11/dist-packages (from langgraph-checkpoint<3.0.0,>=2.0.10->langgraph) (1.9.1)\n",
            "Requirement already satisfied: orjson>=3.10.1 in /usr/local/lib/python3.11/dist-packages (from langgraph-sdk>=0.1.42->langgraph) (3.10.16)\n",
            "Requirement already satisfied: requests-toolbelt<2.0.0,>=1.0.0 in /usr/local/lib/python3.11/dist-packages (from langsmith<0.4,>=0.1.125->langchain-community) (1.0.0)\n",
            "Requirement already satisfied: zstandard<0.24.0,>=0.23.0 in /usr/local/lib/python3.11/dist-packages (from langsmith<0.4,>=0.1.125->langchain-community) (0.23.0)\n",
            "Requirement already satisfied: annotated-types>=0.6.0 in /usr/local/lib/python3.11/dist-packages (from pydantic<3.0.0,>=2.7.4->langchain-anthropic) (0.7.0)\n",
            "Requirement already satisfied: pydantic-core==2.33.1 in /usr/local/lib/python3.11/dist-packages (from pydantic<3.0.0,>=2.7.4->langchain-anthropic) (2.33.1)\n",
            "Requirement already satisfied: typing-inspection>=0.4.0 in /usr/local/lib/python3.11/dist-packages (from pydantic<3.0.0,>=2.7.4->langchain-anthropic) (0.4.0)\n",
            "Collecting python-dotenv>=0.21.0 (from pydantic-settings<3.0.0,>=2.4.0->langchain-community)\n",
            "  Downloading python_dotenv-1.1.0-py3-none-any.whl.metadata (24 kB)\n",
            "Requirement already satisfied: charset-normalizer<4,>=2 in /usr/local/lib/python3.11/dist-packages (from requests<3,>=2->langchain-community) (3.4.1)\n",
            "Requirement already satisfied: urllib3<3,>=1.21.1 in /usr/local/lib/python3.11/dist-packages (from requests<3,>=2->langchain-community) (2.4.0)\n",
            "Requirement already satisfied: greenlet>=1 in /usr/local/lib/python3.11/dist-packages (from SQLAlchemy<3,>=1.4->langchain-community) (3.2.1)\n",
            "Requirement already satisfied: regex>=2022.1.18 in /usr/local/lib/python3.11/dist-packages (from tiktoken>=0.5.1->tavily-python) (2024.11.6)\n",
            "Requirement already satisfied: jsonpointer>=1.9 in /usr/local/lib/python3.11/dist-packages (from jsonpatch<2.0,>=1.33->langchain-core<1.0.0,>=0.3.56->langchain-community) (3.0.0)\n",
            "Collecting mypy-extensions>=0.3.0 (from typing-inspect<1,>=0.4.0->dataclasses-json<0.7,>=0.5.7->langchain-community)\n",
            "  Downloading mypy_extensions-1.1.0-py3-none-any.whl.metadata (1.1 kB)\n",
            "Downloading langchain_community-0.3.23-py3-none-any.whl (2.5 MB)\n",
            "\u001b[2K   \u001b[90m━━━━━━━━━━━━━━━━━━━━━━━━━━━━━━━━━━━━━━━━\u001b[0m \u001b[32m2.5/2.5 MB\u001b[0m \u001b[31m68.0 MB/s\u001b[0m eta \u001b[36m0:00:00\u001b[0m\n",
            "\u001b[?25hDownloading langchain_anthropic-0.3.12-py3-none-any.whl (25 kB)\n",
            "Downloading tavily_python-0.7.0-py3-none-any.whl (14 kB)\n",
            "Downloading langgraph_checkpoint_sqlite-2.0.6-py3-none-any.whl (12 kB)\n",
            "Downloading aiosqlite-0.21.0-py3-none-any.whl (15 kB)\n",
            "Downloading anthropic-0.50.0-py3-none-any.whl (245 kB)\n",
            "\u001b[2K   \u001b[90m━━━━━━━━━━━━━━━━━━━━━━━━━━━━━━━━━━━━━━━━\u001b[0m \u001b[32m245.3/245.3 kB\u001b[0m \u001b[31m18.5 MB/s\u001b[0m eta \u001b[36m0:00:00\u001b[0m\n",
            "\u001b[?25hDownloading dataclasses_json-0.6.7-py3-none-any.whl (28 kB)\n",
            "Downloading httpx_sse-0.4.0-py3-none-any.whl (7.8 kB)\n",
            "Downloading pydantic_settings-2.9.1-py3-none-any.whl (44 kB)\n",
            "\u001b[2K   \u001b[90m━━━━━━━━━━━━━━━━━━━━━━━━━━━━━━━━━━━━━━━━\u001b[0m \u001b[32m44.4/44.4 kB\u001b[0m \u001b[31m3.9 MB/s\u001b[0m eta \u001b[36m0:00:00\u001b[0m\n",
            "\u001b[?25hDownloading tiktoken-0.9.0-cp311-cp311-manylinux_2_17_x86_64.manylinux2014_x86_64.whl (1.2 MB)\n",
            "\u001b[2K   \u001b[90m━━━━━━━━━━━━━━━━━━━━━━━━━━━━━━━━━━━━━━━━\u001b[0m \u001b[32m1.2/1.2 MB\u001b[0m \u001b[31m32.2 MB/s\u001b[0m eta \u001b[36m0:00:00\u001b[0m\n",
            "\u001b[?25hDownloading marshmallow-3.26.1-py3-none-any.whl (50 kB)\n",
            "\u001b[2K   \u001b[90m━━━━━━━━━━━━━━━━━━━━━━━━━━━━━━━━━━━━━━━━\u001b[0m \u001b[32m50.9/50.9 kB\u001b[0m \u001b[31m3.7 MB/s\u001b[0m eta \u001b[36m0:00:00\u001b[0m\n",
            "\u001b[?25hDownloading python_dotenv-1.1.0-py3-none-any.whl (20 kB)\n",
            "Downloading typing_inspect-0.9.0-py3-none-any.whl (8.8 kB)\n",
            "Downloading mypy_extensions-1.1.0-py3-none-any.whl (5.0 kB)\n",
            "Installing collected packages: python-dotenv, mypy-extensions, marshmallow, httpx-sse, aiosqlite, typing-inspect, tiktoken, tavily-python, pydantic-settings, dataclasses-json, anthropic, langchain-anthropic, langgraph-checkpoint-sqlite, langchain-community\n",
            "Successfully installed aiosqlite-0.21.0 anthropic-0.50.0 dataclasses-json-0.6.7 httpx-sse-0.4.0 langchain-anthropic-0.3.12 langchain-community-0.3.23 langgraph-checkpoint-sqlite-2.0.6 marshmallow-3.26.1 mypy-extensions-1.1.0 pydantic-settings-2.9.1 python-dotenv-1.1.0 tavily-python-0.7.0 tiktoken-0.9.0 typing-inspect-0.9.0\n"
          ]
        }
      ]
    },
    {
      "cell_type": "code",
      "source": [
        "\n",
        "import getpass\n",
        "import os\n",
        "\n",
        "if not os.environ.get(\"GOOGLE_API_KEY\"):\n",
        "  os.environ[\"GOOGLE_API_KEY\"] = getpass.getpass(\"Enter API key for Google Gemini: \")\n",
        "\n",
        "from langchain.chat_models import init_chat_model\n",
        "\n",
        "model = init_chat_model(\"gemini-2.0-flash\", model_provider=\"google_genai\")"
      ],
      "metadata": {
        "id": "n6_iNpbrIvgV"
      },
      "execution_count": null,
      "outputs": []
    },
    {
      "cell_type": "markdown",
      "source": [
        "Defining tools"
      ],
      "metadata": {
        "id": "nIpv59FjJFFQ"
      }
    },
    {
      "cell_type": "code",
      "source": [
        "import getpass\n",
        "import os\n",
        "\n",
        "os.environ[\"TAVILY_API_KEY\"] = getpass.getpass()"
      ],
      "metadata": {
        "id": "CY72AmA7JJUr",
        "colab": {
          "base_uri": "https://localhost:8080/"
        },
        "outputId": "faac6211-eb3c-4f7d-bf4f-cf1610865638"
      },
      "execution_count": null,
      "outputs": [
        {
          "name": "stdout",
          "output_type": "stream",
          "text": [
            "··········\n"
          ]
        }
      ]
    },
    {
      "cell_type": "code",
      "source": [
        "from langchain_community.tools.tavily_search import TavilySearchResults\n",
        "\n",
        "search = TavilySearchResults(max_results=2)\n",
        "search_results = search.invoke(\"what is the weather in selangor\")\n",
        "print(search_results)\n",
        "# If we want, we can create other tools.\n",
        "# Once we have all the tools we want, we can put them in a list that we will reference later.\n",
        "tools = [search]"
      ],
      "metadata": {
        "id": "lvGNbwJdhP5F",
        "colab": {
          "base_uri": "https://localhost:8080/"
        },
        "outputId": "4bbbd5e9-3111-4c8d-f531-68c4285310c4"
      },
      "execution_count": null,
      "outputs": [
        {
          "output_type": "stream",
          "name": "stdout",
          "text": [
            "[{'title': 'Weather in Kuala Selangor in April 2025', 'url': 'https://world-weather.info/forecast/malaysia/kuala_selangor/april-2025/', 'content': 'Weather in Kuala Selangor in April 2025. Kuala Selangor Weather ... Wednesday, 30 April. +81°. Day. +90°. Drizzle. Extended weather forecast in Kuala', 'score': 0.9336793}, {'title': 'Weather in Selangor in April 2025 - Detailed Forecast', 'url': 'https://www.easeweather.com/asia/malaysia/selangor/april', 'content': '30 Apr. Moderate or heavy rain shower. 31° /24°, 11.4 mm, 7. Next. Important Notice. Our weather forecast for Selangor in April is', 'score': 0.91435975}]\n"
          ]
        }
      ]
    },
    {
      "cell_type": "markdown",
      "source": [
        "Custom tool"
      ],
      "metadata": {
        "id": "Li-kzgmDhS4X"
      }
    },
    {
      "cell_type": "code",
      "source": [
        "from pydantic import BaseModel, Field\n",
        "from langchain_core.tools import StructuredTool\n",
        "from pydantic import BaseModel, Field\n",
        "\n",
        "class CalculatorInput(BaseModel):\n",
        "    a: int = Field(description=\"first number\")\n",
        "    b: int = Field(description=\"second number\")\n",
        "\n",
        "\n",
        "def multiply(a: int, b: int) -> int:\n",
        "    \"\"\"Multiply two numbers.\"\"\"\n",
        "    return a * b\n",
        "\n",
        "\n",
        "calculator = StructuredTool.from_function(\n",
        "    func=multiply,\n",
        "    name=\"Calculator\",\n",
        "    description=\"multiply numbers\",\n",
        "    args_schema=CalculatorInput,\n",
        ")\n",
        "\n",
        "print(calculator.invoke({\"a\": 2, \"b\": 3}))\n",
        "print(calculator.name)\n",
        "print(calculator.description)\n",
        "print(calculator.args)"
      ],
      "metadata": {
        "id": "9d0sXzzBk3YB",
        "colab": {
          "base_uri": "https://localhost:8080/"
        },
        "outputId": "a370d44b-ae36-46a0-e723-aed63fd6cc5c"
      },
      "execution_count": null,
      "outputs": [
        {
          "output_type": "stream",
          "name": "stdout",
          "text": [
            "6\n",
            "Calculator\n",
            "multiply numbers\n",
            "{'a': {'description': 'first number', 'title': 'A', 'type': 'integer'}, 'b': {'description': 'second number', 'title': 'B', 'type': 'integer'}}\n"
          ]
        }
      ]
    },
    {
      "cell_type": "code",
      "source": [
        "print(calculator.invoke({\"a\": 2, \"b\": 3}))"
      ],
      "metadata": {
        "id": "qbDCDdj-lFAc",
        "colab": {
          "base_uri": "https://localhost:8080/"
        },
        "outputId": "ef687204-db0c-43c3-9e3e-6abc59b6b64d"
      },
      "execution_count": null,
      "outputs": [
        {
          "output_type": "stream",
          "name": "stdout",
          "text": [
            "6\n"
          ]
        }
      ]
    },
    {
      "cell_type": "code",
      "source": [
        "tools = [search, calculator]"
      ],
      "metadata": {
        "id": "2wGVo3zRmn7O"
      },
      "execution_count": null,
      "outputs": []
    },
    {
      "cell_type": "code",
      "source": [
        "from langchain_core.messages import HumanMessage\n",
        "model_with_tools = model.bind_tools(tools)\n",
        "response = model_with_tools.invoke([HumanMessage(content=\"What is the multiplication between 2 and 4?\")])\n",
        "\n",
        "print(f\"ContentString: {response.content}\")\n",
        "print(f\"ToolCalls: {response.tool_calls}\")"
      ],
      "metadata": {
        "id": "K9-apAQzmrET",
        "colab": {
          "base_uri": "https://localhost:8080/"
        },
        "outputId": "48234388-1c99-481e-b8bb-6456e30f22d9"
      },
      "execution_count": null,
      "outputs": [
        {
          "output_type": "stream",
          "name": "stdout",
          "text": [
            "ContentString: \n",
            "ToolCalls: [{'name': 'Calculator', 'args': {'a': 2.0, 'b': 4.0}, 'id': '9865c22f-2bcf-42cc-b8e4-571ae3fbe92e', 'type': 'tool_call'}]\n"
          ]
        }
      ]
    },
    {
      "cell_type": "code",
      "source": [
        "from langgraph.prebuilt import create_react_agent\n",
        "\n",
        "agent_executor = create_react_agent(model, tools)"
      ],
      "metadata": {
        "id": "F3LwadSLnec8"
      },
      "execution_count": null,
      "outputs": []
    },
    {
      "cell_type": "code",
      "source": [
        "response = agent_executor.invoke({\"messages\": [HumanMessage(content=\"hi!\")]})\n",
        "\n",
        "response[\"messages\"]"
      ],
      "metadata": {
        "id": "akLvdGbVnfu7",
        "colab": {
          "base_uri": "https://localhost:8080/"
        },
        "outputId": "fb85141f-86ba-492c-9081-e797df1f974d"
      },
      "execution_count": null,
      "outputs": [
        {
          "output_type": "execute_result",
          "data": {
            "text/plain": [
              "[HumanMessage(content='hi!', additional_kwargs={}, response_metadata={}, id='fa50cc05-6dc9-4a3c-8825-6e36b4929454'),\n",
              " AIMessage(content='Hi there! How can I help you today?', additional_kwargs={}, response_metadata={'prompt_feedback': {'block_reason': 0, 'safety_ratings': []}, 'finish_reason': 'STOP', 'model_name': 'gemini-2.0-flash', 'safety_ratings': []}, id='run-a9ed66e9-adff-44ac-930b-a6d610ee1366-0', usage_metadata={'input_tokens': 65, 'output_tokens': 11, 'total_tokens': 76, 'input_token_details': {'cache_read': 0}})]"
            ]
          },
          "metadata": {},
          "execution_count": 38
        }
      ]
    },
    {
      "cell_type": "code",
      "source": [
        "response = agent_executor.invoke(\n",
        "    {\"messages\": [HumanMessage(content=\"whats the weather in kuala lumpur?\")]}\n",
        ")\n",
        "response[\"messages\"]"
      ],
      "metadata": {
        "id": "ehrz1ImDnkXS",
        "colab": {
          "base_uri": "https://localhost:8080/"
        },
        "outputId": "f1f54f50-535d-405a-d7fa-2ffc7dd85656"
      },
      "execution_count": null,
      "outputs": [
        {
          "output_type": "execute_result",
          "data": {
            "text/plain": [
              "[HumanMessage(content='whats the weather in kuala lumpur?', additional_kwargs={}, response_metadata={}, id='fc646aad-b6ad-47b0-a2f8-2ce835e87c62'),\n",
              " AIMessage(content='', additional_kwargs={'function_call': {'name': 'tavily_search_results_json', 'arguments': '{\"query\": \"weather in kuala lumpur\"}'}}, response_metadata={'prompt_feedback': {'block_reason': 0, 'safety_ratings': []}, 'finish_reason': 'STOP', 'model_name': 'gemini-2.0-flash', 'safety_ratings': []}, id='run-577742f4-b6cc-4b55-9d2c-7c04a2af1d2a-0', tool_calls=[{'name': 'tavily_search_results_json', 'args': {'query': 'weather in kuala lumpur'}, 'id': 'bdde6a11-57d5-4b12-bcf0-a41a5d5d0c3c', 'type': 'tool_call'}], usage_metadata={'input_tokens': 71, 'output_tokens': 14, 'total_tokens': 85, 'input_token_details': {'cache_read': 0}}),\n",
              " ToolMessage(content='[{\"title\": \"Kuala Lumpur - Weather in Malaysia - Meteoprog.com\", \"url\": \"https://www.meteoprog.com/weather/Kualalumpur/month/april/\", \"content\": \"Kuala Lumpur (Malaysia) weather in April 2025 ☀️ Accurate weather forecast for Kuala ... 30 Apr. +31°+24°. 1 May. +32°+24°. 2 May. +32°+24°. 3 May. +32°+24°. 4 May.\", \"score\": 0.9252368}, {\"title\": \"Weather in kuala lumpur\", \"url\": \"https://www.weatherapi.com/\", \"content\": \"{\\'location\\': {\\'name\\': \\'Kuala Lumpur\\', \\'region\\': \\'Kuala Lumpur\\', \\'country\\': \\'Malaysia\\', \\'lat\\': 3.1667, \\'lon\\': 101.7, \\'tz_id\\': \\'Asia/Kuala_Lumpur\\', \\'localtime_epoch\\': 1746017837, \\'localtime\\': \\'2025-04-30 20:57\\'}, \\'current\\': {\\'last_updated_epoch\\': 1746017100, \\'last_updated\\': \\'2025-04-30 20:45\\', \\'temp_c\\': 28.3, \\'temp_f\\': 82.9, \\'is_day\\': 0, \\'condition\\': {\\'text\\': \\'Patchy rain nearby\\', \\'icon\\': \\'//cdn.weatherapi.com/weather/64x64/night/176.png\\', \\'code\\': 1063}, \\'wind_mph\\': 2.5, \\'wind_kph\\': 4.0, \\'wind_degree\\': 146, \\'wind_dir\\': \\'SSE\\', \\'pressure_mb\\': 1009.0, \\'pressure_in\\': 29.8, \\'precip_mm\\': 0.02, \\'precip_in\\': 0.0, \\'humidity\\': 84, \\'cloud\\': 25, \\'feelslike_c\\': 35.4, \\'feelslike_f\\': 95.6, \\'windchill_c\\': 25.0, \\'windchill_f\\': 76.9, \\'heatindex_c\\': 27.9, \\'heatindex_f\\': 82.1, \\'dewpoint_c\\': 23.6, \\'dewpoint_f\\': 74.5, \\'vis_km\\': 10.0, \\'vis_miles\\': 6.0, \\'uv\\': 0.0, \\'gust_mph\\': 4.9, \\'gust_kph\\': 7.8}}\", \"score\": 0.8974937}]', name='tavily_search_results_json', id='54fddf4e-0f19-4e23-ae81-22659392af3e', tool_call_id='bdde6a11-57d5-4b12-bcf0-a41a5d5d0c3c', artifact={'query': 'weather in kuala lumpur', 'follow_up_questions': None, 'answer': None, 'images': [], 'results': [{'url': 'https://www.meteoprog.com/weather/Kualalumpur/month/april/', 'title': 'Kuala Lumpur - Weather in Malaysia - Meteoprog.com', 'content': 'Kuala Lumpur (Malaysia) weather in April 2025 ☀️ Accurate weather forecast for Kuala ... 30 Apr. +31°+24°. 1 May. +32°+24°. 2 May. +32°+24°. 3 May. +32°+24°. 4 May.', 'score': 0.9252368, 'raw_content': None}, {'title': 'Weather in kuala lumpur', 'url': 'https://www.weatherapi.com/', 'content': \"{'location': {'name': 'Kuala Lumpur', 'region': 'Kuala Lumpur', 'country': 'Malaysia', 'lat': 3.1667, 'lon': 101.7, 'tz_id': 'Asia/Kuala_Lumpur', 'localtime_epoch': 1746017837, 'localtime': '2025-04-30 20:57'}, 'current': {'last_updated_epoch': 1746017100, 'last_updated': '2025-04-30 20:45', 'temp_c': 28.3, 'temp_f': 82.9, 'is_day': 0, 'condition': {'text': 'Patchy rain nearby', 'icon': '//cdn.weatherapi.com/weather/64x64/night/176.png', 'code': 1063}, 'wind_mph': 2.5, 'wind_kph': 4.0, 'wind_degree': 146, 'wind_dir': 'SSE', 'pressure_mb': 1009.0, 'pressure_in': 29.8, 'precip_mm': 0.02, 'precip_in': 0.0, 'humidity': 84, 'cloud': 25, 'feelslike_c': 35.4, 'feelslike_f': 95.6, 'windchill_c': 25.0, 'windchill_f': 76.9, 'heatindex_c': 27.9, 'heatindex_f': 82.1, 'dewpoint_c': 23.6, 'dewpoint_f': 74.5, 'vis_km': 10.0, 'vis_miles': 6.0, 'uv': 0.0, 'gust_mph': 4.9, 'gust_kph': 7.8}}\", 'score': 0.8974937, 'raw_content': None}], 'response_time': 2.02}),\n",
              " AIMessage(content='The weather in Kuala Lumpur is 28.3 degrees Celsius, feels like 35.4 degrees Celsius, with patchy rain nearby.', additional_kwargs={}, response_metadata={'prompt_feedback': {'block_reason': 0, 'safety_ratings': []}, 'finish_reason': 'STOP', 'model_name': 'gemini-2.0-flash', 'safety_ratings': []}, id='run-521e5e51-e1fb-45ff-8ed7-54d4aa9c5125-0', usage_metadata={'input_tokens': 695, 'output_tokens': 29, 'total_tokens': 724, 'input_token_details': {'cache_read': 0}})]"
            ]
          },
          "metadata": {},
          "execution_count": 39
        }
      ]
    },
    {
      "cell_type": "code",
      "source": [
        "response = agent_executor.invoke(\n",
        "    {\"messages\": [HumanMessage(content=\"whats 2 x 6\")]}\n",
        ")\n",
        "response[\"messages\"]"
      ],
      "metadata": {
        "id": "ElhG9630nmgx",
        "colab": {
          "base_uri": "https://localhost:8080/"
        },
        "outputId": "fa3df2a5-254b-4fe6-8ed2-658bb5c467a7"
      },
      "execution_count": null,
      "outputs": [
        {
          "output_type": "execute_result",
          "data": {
            "text/plain": [
              "[HumanMessage(content='whats 2 x 6', additional_kwargs={}, response_metadata={}, id='15cb3a99-9074-4182-89f0-1e400f866730'),\n",
              " AIMessage(content='', additional_kwargs={'function_call': {'name': 'Calculator', 'arguments': '{\"a\": 2.0, \"b\": 6.0}'}}, response_metadata={'prompt_feedback': {'block_reason': 0, 'safety_ratings': []}, 'finish_reason': 'STOP', 'model_name': 'gemini-2.0-flash', 'safety_ratings': []}, id='run-1b47391b-26a4-444f-ada4-6972c7bb3221-0', tool_calls=[{'name': 'Calculator', 'args': {'a': 2.0, 'b': 6.0}, 'id': '7c468d0a-ecd1-4f2c-8f2c-2c4a2e60e857', 'type': 'tool_call'}], usage_metadata={'input_tokens': 69, 'output_tokens': 5, 'total_tokens': 74, 'input_token_details': {'cache_read': 0}}),\n",
              " ToolMessage(content='12', name='Calculator', id='81f64894-3187-4879-93f7-0cad0b0c26fd', tool_call_id='7c468d0a-ecd1-4f2c-8f2c-2c4a2e60e857'),\n",
              " AIMessage(content='2 x 6 = 12', additional_kwargs={}, response_metadata={'prompt_feedback': {'block_reason': 0, 'safety_ratings': []}, 'finish_reason': 'STOP', 'model_name': 'gemini-2.0-flash', 'safety_ratings': []}, id='run-0b87a93c-d8f7-497d-a6d5-d677279192c7-0', usage_metadata={'input_tokens': 77, 'output_tokens': 9, 'total_tokens': 86, 'input_token_details': {'cache_read': 0}})]"
            ]
          },
          "metadata": {},
          "execution_count": 40
        }
      ]
    },
    {
      "cell_type": "code",
      "source": [
        "for step in agent_executor.stream(\n",
        "    {\"messages\": [HumanMessage(content=\"whats 2 x 6? did u use tool to get the answer?\")]},\n",
        "    stream_mode=\"values\",\n",
        "):\n",
        "    step[\"messages\"][-1].pretty_print()"
      ],
      "metadata": {
        "id": "uQbO9vdcnr7u",
        "colab": {
          "base_uri": "https://localhost:8080/"
        },
        "outputId": "d2cd08c2-fdb1-41d3-d201-ec27b0f0c162"
      },
      "execution_count": null,
      "outputs": [
        {
          "output_type": "stream",
          "name": "stdout",
          "text": [
            "================================\u001b[1m Human Message \u001b[0m=================================\n",
            "\n",
            "whats 2 x 6? did u use tool to get the answer?\n",
            "==================================\u001b[1m Ai Message \u001b[0m==================================\n",
            "Tool Calls:\n",
            "  Calculator (2e23ce53-873c-4ef6-880b-ad2f646d3e2a)\n",
            " Call ID: 2e23ce53-873c-4ef6-880b-ad2f646d3e2a\n",
            "  Args:\n",
            "    a: 2.0\n",
            "    b: 6.0\n",
            "=================================\u001b[1m Tool Message \u001b[0m=================================\n",
            "Name: Calculator\n",
            "\n",
            "12\n",
            "==================================\u001b[1m Ai Message \u001b[0m==================================\n",
            "\n",
            "The answer is 12, and yes, I used the calculator tool to get the answer.\n"
          ]
        }
      ]
    },
    {
      "cell_type": "code",
      "source": [
        "for step in agent_executor.stream(\n",
        "    {\"messages\": [HumanMessage(content=\"whats the headline of today news in malaysia?\")]},\n",
        "    stream_mode=\"values\",\n",
        "):\n",
        "    step[\"messages\"][-1].pretty_print()"
      ],
      "metadata": {
        "id": "yfkCOfIeoTTs",
        "colab": {
          "base_uri": "https://localhost:8080/"
        },
        "outputId": "c53486f6-3d87-4675-e947-9e9877aa211f"
      },
      "execution_count": null,
      "outputs": [
        {
          "output_type": "stream",
          "name": "stdout",
          "text": [
            "================================\u001b[1m Human Message \u001b[0m=================================\n",
            "\n",
            "whats the headline of today news in malaysia?\n",
            "==================================\u001b[1m Ai Message \u001b[0m==================================\n",
            "Tool Calls:\n",
            "  tavily_search_results_json (0ea82c84-d139-4bdf-9be5-94b4c4429223)\n",
            " Call ID: 0ea82c84-d139-4bdf-9be5-94b4c4429223\n",
            "  Args:\n",
            "    query: today news headline in malaysia\n",
            "=================================\u001b[1m Tool Message \u001b[0m=================================\n",
            "Name: tavily_search_results_json\n",
            "\n",
            "[{\"title\": \"theSun | Malaysia News: National, World, Viral & Free ePaper\", \"url\": \"https://thesun.my/\", \"content\": \"Today's News Headlines. BERNAMApix · Govt to monitor egg supply, sales following phased subsidy removal - Fahmi. PUTRAJAYA: The government will continue\", \"score\": 0.7309246}, {\"title\": \"Malay Mail | Breaking News, Malaysia, World, Lifestyle News\", \"url\": \"https://www.malaymail.com/\", \"content\": \"Azalina: Sulu claim heads to Paris court July 7 as Malaysia fights US$14.9b arbitration ruling\\n\\nFrom 67th to 1st: Malaysia makes historic leap to lead global Open Data Inventory rankings\\n\\nRM360m graft probe: MACC nabs four, including ‘Datuk Seri’, over false highway project claims\\n\\nKlang Valley highway fraud: ‘Datuk Seri’ and three others remanded in RM360m probe\\n\\nMillion-ringgit WhatsApp trap: Penang man loses life savings in ‘BIONM’ stock scam\\n\\nHeadlines [...] Lima tempat makan wajib singgah di Muar saranan Syed Saddiq\\n\\n愿“放弃”首相权力增士气 安华：修宪让国会独立势在必行\\n\\n嘲讽慕尤丁自夸政绩 费亚：忘了举白旗运动？\\n\\n已有解决国家问题方案！慕尤丁：国盟执政会比联合政府做得更好\\n\\n宪法没阐明仅巫裔可当首相！张盛闻斥伊党贬低非穆斯林 [...] Putrajaya announces ‘unprecedented’ RM40m relief fund to rebuild 219 homes gutted in Putra Heights gas fire\\n\\nFake online investment scheme on WhatsApp costs Seremban man RM3.1m\\n\\nTop News in Malaysia\\n\\nMan’s body discovered near Pesta Kaul site in Mukah, Sarawak cops rule out foul play for now\\n\\nKedah govt offers job matching aid for 950 workers hit by Continental Tyre closure, says state exco\", \"score\": 0.68748367}]\n",
            "==================================\u001b[1m Ai Message \u001b[0m==================================\n",
            "\n",
            "Here are a few of the top headlines from Malaysia today:\n",
            "\n",
            "*   Govt to monitor egg supply, sales following phased subsidy removal - Fahmi.\n",
            "*   Sulu claim heads to Paris court July 7 as Malaysia fights US$14.9b arbitration ruling\n",
            "*   Malaysia makes historic leap to lead global Open Data Inventory rankings\n",
            "*   MACC nabs four, including ‘Datuk Seri’, over false highway project claims\n",
            "*   Putrajaya announces ‘unprecedented’ RM40m relief fund to rebuild 219 homes gutted in Putra Heights gas fire\n"
          ]
        }
      ]
    },
    {
      "cell_type": "markdown",
      "source": [
        "Adding Memory into the Agent"
      ],
      "metadata": {
        "id": "S8lclJPsJGSD"
      }
    },
    {
      "cell_type": "code",
      "source": [
        "from langgraph.checkpoint.memory import MemorySaver\n",
        "\n",
        "memory = MemorySaver()"
      ],
      "metadata": {
        "id": "KFcQ5BkcJJCz"
      },
      "execution_count": null,
      "outputs": []
    },
    {
      "cell_type": "code",
      "source": [
        "agent_executor = create_react_agent(model, tools, checkpointer=memory)\n",
        "\n",
        "config = {\"configurable\": {\"thread_id\": \"abc123\"}}"
      ],
      "metadata": {
        "id": "Iuak6QgjqLpj"
      },
      "execution_count": null,
      "outputs": []
    },
    {
      "cell_type": "code",
      "source": [
        "for chunk in agent_executor.stream(\n",
        "    {\"messages\": [HumanMessage(content=\"hi im afzal!\")]}, config\n",
        "):\n",
        "    print(chunk)\n",
        "    print(\"----\")"
      ],
      "metadata": {
        "id": "x5ugqFSmqMYF",
        "colab": {
          "base_uri": "https://localhost:8080/"
        },
        "outputId": "4b5fdeae-713f-479c-a633-be4469aea010"
      },
      "execution_count": null,
      "outputs": [
        {
          "output_type": "stream",
          "name": "stdout",
          "text": [
            "{'agent': {'messages': [AIMessage(content='Hello Afzal! How can I help you today?', additional_kwargs={}, response_metadata={'prompt_feedback': {'block_reason': 0, 'safety_ratings': []}, 'finish_reason': 'STOP', 'model_name': 'gemini-2.0-flash', 'safety_ratings': []}, id='run-62cb6d37-f2a5-4508-8a7b-be991b1d16bf-0', usage_metadata={'input_tokens': 68, 'output_tokens': 12, 'total_tokens': 80, 'input_token_details': {'cache_read': 0}})]}}\n",
            "----\n"
          ]
        }
      ]
    },
    {
      "cell_type": "code",
      "source": [
        "for chunk in agent_executor.stream(\n",
        "    {\"messages\": [HumanMessage(content=\"whats my name?\")]}, config\n",
        "):\n",
        "    print(chunk)\n",
        "    print(\"----\")"
      ],
      "metadata": {
        "id": "qBQ0-GeWqQBQ",
        "colab": {
          "base_uri": "https://localhost:8080/"
        },
        "outputId": "2cdf3b72-8b49-4476-be9a-06e35d063ce8"
      },
      "execution_count": null,
      "outputs": [
        {
          "output_type": "stream",
          "name": "stdout",
          "text": [
            "{'agent': {'messages': [AIMessage(content='Your name is Afzal.', additional_kwargs={}, response_metadata={'prompt_feedback': {'block_reason': 0, 'safety_ratings': []}, 'finish_reason': 'STOP', 'model_name': 'gemini-2.0-flash', 'safety_ratings': []}, id='run-7f76df14-d184-4c7a-a4b5-edc9bd4852ea-0', usage_metadata={'input_tokens': 83, 'output_tokens': 7, 'total_tokens': 90, 'input_token_details': {'cache_read': 0}})]}}\n",
            "----\n"
          ]
        }
      ]
    },
    {
      "cell_type": "code",
      "source": [
        "for chunk in agent_executor.stream(\n",
        "    {\"messages\": [HumanMessage(content=\"whats the weather in malaysia today?\")]}, config\n",
        "):\n",
        "    print(chunk)\n",
        "    print(\"----\")"
      ],
      "metadata": {
        "id": "Oq2BmCoMqWWE",
        "colab": {
          "base_uri": "https://localhost:8080/"
        },
        "outputId": "f4610e1b-b49d-4368-faf2-bc8ecfee91c3"
      },
      "execution_count": null,
      "outputs": [
        {
          "output_type": "stream",
          "name": "stdout",
          "text": [
            "{'agent': {'messages': [AIMessage(content='', additional_kwargs={'function_call': {'name': 'tavily_search_results_json', 'arguments': '{\"query\": \"weather in Malaysia today\"}'}}, response_metadata={'prompt_feedback': {'block_reason': 0, 'safety_ratings': []}, 'finish_reason': 'STOP', 'model_name': 'gemini-2.0-flash', 'safety_ratings': []}, id='run-16fa5022-6e8b-492e-a994-1d00ffc63311-0', tool_calls=[{'name': 'tavily_search_results_json', 'args': {'query': 'weather in Malaysia today'}, 'id': '317a121a-3940-4f58-bfea-3ca47eaa8924', 'type': 'tool_call'}], usage_metadata={'input_tokens': 96, 'output_tokens': 13, 'total_tokens': 109, 'input_token_details': {'cache_read': 0}})]}}\n",
            "----\n",
            "{'tools': {'messages': [ToolMessage(content='[{\"title\": \"Weather Malaysia in April 2025: Temperature & Climate\", \"url\": \"https://en.climate-data.org/asia/malaysia-25/c/april-4/\", \"content\": \"29. April | 28 °C | 83 °F | 30 °C | 86 °F | 26 °C | 79 °F | 31 °C | 87 °F | 1.7 mm | 0.1 inch.\\\\n30. April | 28 °C | 83 °F | 30 °C | 86 °F | 26 °C | 80 °F | 31 °C | 87 °F | 1.6 mm | 0.1 inch.\\\\nWeather Malaysia [...] 29. April | 26 °C | 79 °F | 30 °C | 86 °F | 24 °C | 74 °F | 18.8 mm | 0.7 inch.\\\\n30. April | 26 °C | 79 °F | 30 °C | 86 °F | 23 °C | 74 °F | 21.5 mm | 0.8 inch.\\\\n | Temperature (°C) | (°F) | Temperature max. (°C) | (°F) | Temperature min. (°C) | (°F) | Water Temperature (°C) | (°F) | Precipitation / Rainfall (mm) | (inch.)\\\\n1. April | 26 °C | 79 °F | 30 °C | 87 °F | 23 °C | 74 °F | 30 °C | 85 °F | 17.7 mm | 0.7 inch. [...] 29. April | 26 °C | 79 °F | 28 °C | 83 °F | 24 °C | 75 °F | 30 °C | 86 °F | 21.2 mm | 0.8 inch.\\\\n30. April | 26 °C | 79 °F | 28 °C | 83 °F | 24 °C | 75 °F | 30 °C | 86 °F | 19.0 mm | 0.7 inch.\\\\n | Temperature (°C) | (°F) | Temperature max. (°C) | (°F) | Temperature min. (°C) | (°F) | Water Temperature (°C) | (°F) | Precipitation / Rainfall (mm) | (inch.)\\\\n1. April | 27 °C | 81 °F | 30 °C | 85 °F | 26 °C | 78 °F | 30 °C | 86 °F | 1.4 mm | 0.1 inch.\", \"score\": 0.918838}, {\"title\": \"Weather in Malaysia\", \"url\": \"https://www.weatherapi.com/\", \"content\": \"{\\'location\\': {\\'name\\': \\'Kuala Lumpur\\', \\'region\\': \\'Kuala Lumpur\\', \\'country\\': \\'Malaysia\\', \\'lat\\': 3.167, \\'lon\\': 101.7, \\'tz_id\\': \\'Asia/Kuala_Lumpur\\', \\'localtime_epoch\\': 1746018644, \\'localtime\\': \\'2025-04-30 21:10\\'}, \\'current\\': {\\'last_updated_epoch\\': 1746018000, \\'last_updated\\': \\'2025-04-30 21:00\\', \\'temp_c\\': 28.1, \\'temp_f\\': 82.6, \\'is_day\\': 0, \\'condition\\': {\\'text\\': \\'Partly Cloudy\\', \\'icon\\': \\'//cdn.weatherapi.com/weather/64x64/night/116.png\\', \\'code\\': 1003}, \\'wind_mph\\': 2.2, \\'wind_kph\\': 3.6, \\'wind_degree\\': 123, \\'wind_dir\\': \\'ESE\\', \\'pressure_mb\\': 1009.0, \\'pressure_in\\': 29.8, \\'precip_mm\\': 0.0, \\'precip_in\\': 0.0, \\'humidity\\': 84, \\'cloud\\': 25, \\'feelslike_c\\': 35.0, \\'feelslike_f\\': 95.0, \\'windchill_c\\': 24.7, \\'windchill_f\\': 76.5, \\'heatindex_c\\': 27.6, \\'heatindex_f\\': 81.6, \\'dewpoint_c\\': 23.6, \\'dewpoint_f\\': 74.4, \\'vis_km\\': 10.0, \\'vis_miles\\': 6.0, \\'uv\\': 0.0, \\'gust_mph\\': 3.0, \\'gust_kph\\': 4.9}}\", \"score\": 0.8911654}]', name='tavily_search_results_json', id='5c91e6e8-c279-4e0f-b097-1a7663c3208e', tool_call_id='317a121a-3940-4f58-bfea-3ca47eaa8924', artifact={'query': 'weather in Malaysia today', 'follow_up_questions': None, 'answer': None, 'images': [], 'results': [{'url': 'https://en.climate-data.org/asia/malaysia-25/c/april-4/', 'title': 'Weather Malaysia in April 2025: Temperature & Climate', 'content': '29. April | 28 °C | 83 °F | 30 °C | 86 °F | 26 °C | 79 °F | 31 °C | 87 °F | 1.7 mm | 0.1 inch.\\n30. April | 28 °C | 83 °F | 30 °C | 86 °F | 26 °C | 80 °F | 31 °C | 87 °F | 1.6 mm | 0.1 inch.\\nWeather Malaysia [...] 29. April | 26 °C | 79 °F | 30 °C | 86 °F | 24 °C | 74 °F | 18.8 mm | 0.7 inch.\\n30. April | 26 °C | 79 °F | 30 °C | 86 °F | 23 °C | 74 °F | 21.5 mm | 0.8 inch.\\n | Temperature (°C) | (°F) | Temperature max. (°C) | (°F) | Temperature min. (°C) | (°F) | Water Temperature (°C) | (°F) | Precipitation / Rainfall (mm) | (inch.)\\n1. April | 26 °C | 79 °F | 30 °C | 87 °F | 23 °C | 74 °F | 30 °C | 85 °F | 17.7 mm | 0.7 inch. [...] 29. April | 26 °C | 79 °F | 28 °C | 83 °F | 24 °C | 75 °F | 30 °C | 86 °F | 21.2 mm | 0.8 inch.\\n30. April | 26 °C | 79 °F | 28 °C | 83 °F | 24 °C | 75 °F | 30 °C | 86 °F | 19.0 mm | 0.7 inch.\\n | Temperature (°C) | (°F) | Temperature max. (°C) | (°F) | Temperature min. (°C) | (°F) | Water Temperature (°C) | (°F) | Precipitation / Rainfall (mm) | (inch.)\\n1. April | 27 °C | 81 °F | 30 °C | 85 °F | 26 °C | 78 °F | 30 °C | 86 °F | 1.4 mm | 0.1 inch.', 'score': 0.918838, 'raw_content': None}, {'title': 'Weather in Malaysia', 'url': 'https://www.weatherapi.com/', 'content': \"{'location': {'name': 'Kuala Lumpur', 'region': 'Kuala Lumpur', 'country': 'Malaysia', 'lat': 3.167, 'lon': 101.7, 'tz_id': 'Asia/Kuala_Lumpur', 'localtime_epoch': 1746018644, 'localtime': '2025-04-30 21:10'}, 'current': {'last_updated_epoch': 1746018000, 'last_updated': '2025-04-30 21:00', 'temp_c': 28.1, 'temp_f': 82.6, 'is_day': 0, 'condition': {'text': 'Partly Cloudy', 'icon': '//cdn.weatherapi.com/weather/64x64/night/116.png', 'code': 1003}, 'wind_mph': 2.2, 'wind_kph': 3.6, 'wind_degree': 123, 'wind_dir': 'ESE', 'pressure_mb': 1009.0, 'pressure_in': 29.8, 'precip_mm': 0.0, 'precip_in': 0.0, 'humidity': 84, 'cloud': 25, 'feelslike_c': 35.0, 'feelslike_f': 95.0, 'windchill_c': 24.7, 'windchill_f': 76.5, 'heatindex_c': 27.6, 'heatindex_f': 81.6, 'dewpoint_c': 23.6, 'dewpoint_f': 74.4, 'vis_km': 10.0, 'vis_miles': 6.0, 'uv': 0.0, 'gust_mph': 3.0, 'gust_kph': 4.9}}\", 'score': 0.8911654, 'raw_content': None}], 'response_time': 3.89})]}}\n",
            "----\n",
            "{'agent': {'messages': [AIMessage(content='The weather in Kuala Lumpur, Malaysia is partly cloudy with a temperature of 28.1°C (82.6°F). It feels like 35.0°C (95.0°F). The wind is blowing from the ESE at 3.6 kph. The humidity is 84%.', additional_kwargs={}, response_metadata={'prompt_feedback': {'block_reason': 0, 'safety_ratings': []}, 'finish_reason': 'STOP', 'model_name': 'gemini-2.0-flash', 'safety_ratings': []}, id='run-6cf33d7e-276f-479b-b08f-d9ba70be3ba0-0', usage_metadata={'input_tokens': 1257, 'output_tokens': 69, 'total_tokens': 1326, 'input_token_details': {'cache_read': 0}})]}}\n",
            "----\n"
          ]
        }
      ]
    },
    {
      "cell_type": "code",
      "source": [
        "for chunk in agent_executor.stream(\n",
        "    {\"messages\": [HumanMessage(content=\"so what do u think about the weather? is it good or bad if I like hot places\")]}, config\n",
        "):\n",
        "    print(chunk)\n",
        "    print(\"----\")"
      ],
      "metadata": {
        "id": "r2AfAYyDqXf9",
        "colab": {
          "base_uri": "https://localhost:8080/"
        },
        "outputId": "0082c86f-7f64-4f5f-ab34-fc3834b7ba8d"
      },
      "execution_count": null,
      "outputs": [
        {
          "output_type": "stream",
          "name": "stdout",
          "text": [
            "{'agent': {'messages': [AIMessage(content='If you like hot places, the weather in Kuala Lumpur sounds pretty good for you! A temperature of 28.1°C (82.6°F) with a \"feels like\" of 35.0°C (95.0°F) indicates it\\'s quite warm and humid.', additional_kwargs={}, response_metadata={'prompt_feedback': {'block_reason': 0, 'safety_ratings': []}, 'finish_reason': 'STOP', 'model_name': 'gemini-2.0-flash', 'safety_ratings': []}, id='run-895f7f58-914f-40a0-8e6a-b13954176f92-0', usage_metadata={'input_tokens': 1345, 'output_tokens': 67, 'total_tokens': 1412, 'input_token_details': {'cache_read': 0}})]}}\n",
            "----\n"
          ]
        }
      ]
    },
    {
      "cell_type": "markdown",
      "source": [
        "## User Interface"
      ],
      "metadata": {
        "id": "tgv69uVUIifQ"
      }
    },
    {
      "cell_type": "markdown",
      "source": [
        "Installing dependencies"
      ],
      "metadata": {
        "id": "ASTTNVTsqc9t"
      }
    },
    {
      "cell_type": "code",
      "source": [
        "!pip install gradio"
      ],
      "metadata": {
        "id": "9O2KFXsWIv1u",
        "colab": {
          "base_uri": "https://localhost:8080/"
        },
        "outputId": "cd5caa78-78a8-482c-d5a4-114685ecf0c5"
      },
      "execution_count": null,
      "outputs": [
        {
          "output_type": "stream",
          "name": "stdout",
          "text": [
            "Collecting gradio\n",
            "  Downloading gradio-5.28.0-py3-none-any.whl.metadata (16 kB)\n",
            "Collecting aiofiles<25.0,>=22.0 (from gradio)\n",
            "  Downloading aiofiles-24.1.0-py3-none-any.whl.metadata (10 kB)\n",
            "Requirement already satisfied: anyio<5.0,>=3.0 in /usr/local/lib/python3.11/dist-packages (from gradio) (4.9.0)\n",
            "Collecting fastapi<1.0,>=0.115.2 (from gradio)\n",
            "  Downloading fastapi-0.115.12-py3-none-any.whl.metadata (27 kB)\n",
            "Collecting ffmpy (from gradio)\n",
            "  Downloading ffmpy-0.5.0-py3-none-any.whl.metadata (3.0 kB)\n",
            "Collecting gradio-client==1.10.0 (from gradio)\n",
            "  Downloading gradio_client-1.10.0-py3-none-any.whl.metadata (7.1 kB)\n",
            "Collecting groovy~=0.1 (from gradio)\n",
            "  Downloading groovy-0.1.2-py3-none-any.whl.metadata (6.1 kB)\n",
            "Requirement already satisfied: httpx>=0.24.1 in /usr/local/lib/python3.11/dist-packages (from gradio) (0.28.1)\n",
            "Requirement already satisfied: huggingface-hub>=0.28.1 in /usr/local/lib/python3.11/dist-packages (from gradio) (0.30.2)\n",
            "Requirement already satisfied: jinja2<4.0 in /usr/local/lib/python3.11/dist-packages (from gradio) (3.1.6)\n",
            "Requirement already satisfied: markupsafe<4.0,>=2.0 in /usr/local/lib/python3.11/dist-packages (from gradio) (3.0.2)\n",
            "Requirement already satisfied: numpy<3.0,>=1.0 in /usr/local/lib/python3.11/dist-packages (from gradio) (2.0.2)\n",
            "Requirement already satisfied: orjson~=3.0 in /usr/local/lib/python3.11/dist-packages (from gradio) (3.10.16)\n",
            "Requirement already satisfied: packaging in /usr/local/lib/python3.11/dist-packages (from gradio) (24.2)\n",
            "Requirement already satisfied: pandas<3.0,>=1.0 in /usr/local/lib/python3.11/dist-packages (from gradio) (2.2.2)\n",
            "Requirement already satisfied: pillow<12.0,>=8.0 in /usr/local/lib/python3.11/dist-packages (from gradio) (11.2.1)\n",
            "Requirement already satisfied: pydantic<2.12,>=2.0 in /usr/local/lib/python3.11/dist-packages (from gradio) (2.11.3)\n",
            "Collecting pydub (from gradio)\n",
            "  Downloading pydub-0.25.1-py2.py3-none-any.whl.metadata (1.4 kB)\n",
            "Collecting python-multipart>=0.0.18 (from gradio)\n",
            "  Downloading python_multipart-0.0.20-py3-none-any.whl.metadata (1.8 kB)\n",
            "Requirement already satisfied: pyyaml<7.0,>=5.0 in /usr/local/lib/python3.11/dist-packages (from gradio) (6.0.2)\n",
            "Collecting ruff>=0.9.3 (from gradio)\n",
            "  Downloading ruff-0.11.7-py3-none-manylinux_2_17_x86_64.manylinux2014_x86_64.whl.metadata (25 kB)\n",
            "Collecting safehttpx<0.2.0,>=0.1.6 (from gradio)\n",
            "  Downloading safehttpx-0.1.6-py3-none-any.whl.metadata (4.2 kB)\n",
            "Collecting semantic-version~=2.0 (from gradio)\n",
            "  Downloading semantic_version-2.10.0-py2.py3-none-any.whl.metadata (9.7 kB)\n",
            "Collecting starlette<1.0,>=0.40.0 (from gradio)\n",
            "  Downloading starlette-0.46.2-py3-none-any.whl.metadata (6.2 kB)\n",
            "Collecting tomlkit<0.14.0,>=0.12.0 (from gradio)\n",
            "  Downloading tomlkit-0.13.2-py3-none-any.whl.metadata (2.7 kB)\n",
            "Requirement already satisfied: typer<1.0,>=0.12 in /usr/local/lib/python3.11/dist-packages (from gradio) (0.15.2)\n",
            "Requirement already satisfied: typing-extensions~=4.0 in /usr/local/lib/python3.11/dist-packages (from gradio) (4.13.2)\n",
            "Collecting uvicorn>=0.14.0 (from gradio)\n",
            "  Downloading uvicorn-0.34.2-py3-none-any.whl.metadata (6.5 kB)\n",
            "Requirement already satisfied: fsspec in /usr/local/lib/python3.11/dist-packages (from gradio-client==1.10.0->gradio) (2025.3.2)\n",
            "Requirement already satisfied: websockets<16.0,>=10.0 in /usr/local/lib/python3.11/dist-packages (from gradio-client==1.10.0->gradio) (15.0.1)\n",
            "Requirement already satisfied: idna>=2.8 in /usr/local/lib/python3.11/dist-packages (from anyio<5.0,>=3.0->gradio) (3.10)\n",
            "Requirement already satisfied: sniffio>=1.1 in /usr/local/lib/python3.11/dist-packages (from anyio<5.0,>=3.0->gradio) (1.3.1)\n",
            "Requirement already satisfied: certifi in /usr/local/lib/python3.11/dist-packages (from httpx>=0.24.1->gradio) (2025.1.31)\n",
            "Requirement already satisfied: httpcore==1.* in /usr/local/lib/python3.11/dist-packages (from httpx>=0.24.1->gradio) (1.0.9)\n",
            "Requirement already satisfied: h11>=0.16 in /usr/local/lib/python3.11/dist-packages (from httpcore==1.*->httpx>=0.24.1->gradio) (0.16.0)\n",
            "Requirement already satisfied: filelock in /usr/local/lib/python3.11/dist-packages (from huggingface-hub>=0.28.1->gradio) (3.18.0)\n",
            "Requirement already satisfied: requests in /usr/local/lib/python3.11/dist-packages (from huggingface-hub>=0.28.1->gradio) (2.32.3)\n",
            "Requirement already satisfied: tqdm>=4.42.1 in /usr/local/lib/python3.11/dist-packages (from huggingface-hub>=0.28.1->gradio) (4.67.1)\n",
            "Requirement already satisfied: python-dateutil>=2.8.2 in /usr/local/lib/python3.11/dist-packages (from pandas<3.0,>=1.0->gradio) (2.9.0.post0)\n",
            "Requirement already satisfied: pytz>=2020.1 in /usr/local/lib/python3.11/dist-packages (from pandas<3.0,>=1.0->gradio) (2025.2)\n",
            "Requirement already satisfied: tzdata>=2022.7 in /usr/local/lib/python3.11/dist-packages (from pandas<3.0,>=1.0->gradio) (2025.2)\n",
            "Requirement already satisfied: annotated-types>=0.6.0 in /usr/local/lib/python3.11/dist-packages (from pydantic<2.12,>=2.0->gradio) (0.7.0)\n",
            "Requirement already satisfied: pydantic-core==2.33.1 in /usr/local/lib/python3.11/dist-packages (from pydantic<2.12,>=2.0->gradio) (2.33.1)\n",
            "Requirement already satisfied: typing-inspection>=0.4.0 in /usr/local/lib/python3.11/dist-packages (from pydantic<2.12,>=2.0->gradio) (0.4.0)\n",
            "Requirement already satisfied: click>=8.0.0 in /usr/local/lib/python3.11/dist-packages (from typer<1.0,>=0.12->gradio) (8.1.8)\n",
            "Requirement already satisfied: shellingham>=1.3.0 in /usr/local/lib/python3.11/dist-packages (from typer<1.0,>=0.12->gradio) (1.5.4)\n",
            "Requirement already satisfied: rich>=10.11.0 in /usr/local/lib/python3.11/dist-packages (from typer<1.0,>=0.12->gradio) (13.9.4)\n",
            "Requirement already satisfied: six>=1.5 in /usr/local/lib/python3.11/dist-packages (from python-dateutil>=2.8.2->pandas<3.0,>=1.0->gradio) (1.17.0)\n",
            "Requirement already satisfied: markdown-it-py>=2.2.0 in /usr/local/lib/python3.11/dist-packages (from rich>=10.11.0->typer<1.0,>=0.12->gradio) (3.0.0)\n",
            "Requirement already satisfied: pygments<3.0.0,>=2.13.0 in /usr/local/lib/python3.11/dist-packages (from rich>=10.11.0->typer<1.0,>=0.12->gradio) (2.19.1)\n",
            "Requirement already satisfied: charset-normalizer<4,>=2 in /usr/local/lib/python3.11/dist-packages (from requests->huggingface-hub>=0.28.1->gradio) (3.4.1)\n",
            "Requirement already satisfied: urllib3<3,>=1.21.1 in /usr/local/lib/python3.11/dist-packages (from requests->huggingface-hub>=0.28.1->gradio) (2.4.0)\n",
            "Requirement already satisfied: mdurl~=0.1 in /usr/local/lib/python3.11/dist-packages (from markdown-it-py>=2.2.0->rich>=10.11.0->typer<1.0,>=0.12->gradio) (0.1.2)\n",
            "Downloading gradio-5.28.0-py3-none-any.whl (54.1 MB)\n",
            "\u001b[2K   \u001b[90m━━━━━━━━━━━━━━━━━━━━━━━━━━━━━━━━━━━━━━━━\u001b[0m \u001b[32m54.1/54.1 MB\u001b[0m \u001b[31m16.1 MB/s\u001b[0m eta \u001b[36m0:00:00\u001b[0m\n",
            "\u001b[?25hDownloading gradio_client-1.10.0-py3-none-any.whl (322 kB)\n",
            "\u001b[2K   \u001b[90m━━━━━━━━━━━━━━━━━━━━━━━━━━━━━━━━━━━━━━━━\u001b[0m \u001b[32m322.9/322.9 kB\u001b[0m \u001b[31m28.6 MB/s\u001b[0m eta \u001b[36m0:00:00\u001b[0m\n",
            "\u001b[?25hDownloading aiofiles-24.1.0-py3-none-any.whl (15 kB)\n",
            "Downloading fastapi-0.115.12-py3-none-any.whl (95 kB)\n",
            "\u001b[2K   \u001b[90m━━━━━━━━━━━━━━━━━━━━━━━━━━━━━━━━━━━━━━━━\u001b[0m \u001b[32m95.2/95.2 kB\u001b[0m \u001b[31m7.7 MB/s\u001b[0m eta \u001b[36m0:00:00\u001b[0m\n",
            "\u001b[?25hDownloading groovy-0.1.2-py3-none-any.whl (14 kB)\n",
            "Downloading python_multipart-0.0.20-py3-none-any.whl (24 kB)\n",
            "Downloading ruff-0.11.7-py3-none-manylinux_2_17_x86_64.manylinux2014_x86_64.whl (11.5 MB)\n",
            "\u001b[2K   \u001b[90m━━━━━━━━━━━━━━━━━━━━━━━━━━━━━━━━━━━━━━━━\u001b[0m \u001b[32m11.5/11.5 MB\u001b[0m \u001b[31m115.7 MB/s\u001b[0m eta \u001b[36m0:00:00\u001b[0m\n",
            "\u001b[?25hDownloading safehttpx-0.1.6-py3-none-any.whl (8.7 kB)\n",
            "Downloading semantic_version-2.10.0-py2.py3-none-any.whl (15 kB)\n",
            "Downloading starlette-0.46.2-py3-none-any.whl (72 kB)\n",
            "\u001b[2K   \u001b[90m━━━━━━━━━━━━━━━━━━━━━━━━━━━━━━━━━━━━━━━━\u001b[0m \u001b[32m72.0/72.0 kB\u001b[0m \u001b[31m6.0 MB/s\u001b[0m eta \u001b[36m0:00:00\u001b[0m\n",
            "\u001b[?25hDownloading tomlkit-0.13.2-py3-none-any.whl (37 kB)\n",
            "Downloading uvicorn-0.34.2-py3-none-any.whl (62 kB)\n",
            "\u001b[2K   \u001b[90m━━━━━━━━━━━━━━━━━━━━━━━━━━━━━━━━━━━━━━━━\u001b[0m \u001b[32m62.5/62.5 kB\u001b[0m \u001b[31m5.2 MB/s\u001b[0m eta \u001b[36m0:00:00\u001b[0m\n",
            "\u001b[?25hDownloading ffmpy-0.5.0-py3-none-any.whl (6.0 kB)\n",
            "Downloading pydub-0.25.1-py2.py3-none-any.whl (32 kB)\n",
            "Installing collected packages: pydub, uvicorn, tomlkit, semantic-version, ruff, python-multipart, groovy, ffmpy, aiofiles, starlette, safehttpx, gradio-client, fastapi, gradio\n",
            "Successfully installed aiofiles-24.1.0 fastapi-0.115.12 ffmpy-0.5.0 gradio-5.28.0 gradio-client-1.10.0 groovy-0.1.2 pydub-0.25.1 python-multipart-0.0.20 ruff-0.11.7 safehttpx-0.1.6 semantic-version-2.10.0 starlette-0.46.2 tomlkit-0.13.2 uvicorn-0.34.2\n"
          ]
        }
      ]
    },
    {
      "cell_type": "code",
      "source": [
        "import gradio as gr\n",
        "from langchain.schema import HumanMessage, AIMessage\n",
        "\n",
        "def interact_with_agent(user_input, history_list):\n",
        "    # Ensure history is a list, even if None initially\n",
        "    history_list = history_list or []\n",
        "\n",
        "    # Temporary list to build the full AI response string\n",
        "    full_ai_response_content = []\n",
        "\n",
        "    # Stream AI response and accumulate content\n",
        "    print(f\"Streaming agent response for: {user_input}\") # Debug print\n",
        "    try:\n",
        "        for chunk in agent_executor.stream(\n",
        "            {\"messages\": [HumanMessage(content=user_input)]}, config=config # Pass config here\n",
        "        ):\n",
        "            # Adjust chunk access based on the actual structure returned by your agent_executor.stream\n",
        "            # This structure might vary slightly depending on the agent type (LCEL, older agent, etc.)\n",
        "            # Check the actual output of agent_executor.stream if this doesn't work.\n",
        "            messages_in_chunk = []\n",
        "            if \"messages\" in chunk: # Direct messages key (common in LCEL chains)\n",
        "                 messages_in_chunk = chunk.get(\"messages\", [])\n",
        "            elif \"agent\" in chunk and \"messages\" in chunk[\"agent\"]: # Nested structure\n",
        "                 messages_in_chunk = chunk[\"agent\"].get(\"messages\", [])\n",
        "            elif \"actions\" in chunk: # Sometimes intermediate steps might be here\n",
        "                 pass # Ignore actions for final response building\n",
        "            elif \"output\" in chunk: # Langserve sometimes uses 'output'\n",
        "                 messages_in_chunk = chunk.get(\"output\", []) # Assuming output contains message objects or strings\n",
        "                 # Might need conversion if output is just a string chunk\n",
        "                 if isinstance(messages_in_chunk, str):\n",
        "                     messages_in_chunk = [AIMessage(content=messages_in_chunk)]\n",
        "\n",
        "\n",
        "            for message in messages_in_chunk:\n",
        "                # Check if it's an AI message and has content\n",
        "                if isinstance(message, AIMessage) and hasattr(message, \"content\") and message.content:\n",
        "                    print(f\"  Chunk content: {message.content}\") # Debug print\n",
        "                    full_ai_response_content.append(message.content)\n",
        "\n",
        "    except Exception as e:\n",
        "        print(f\"Error during agent streaming: {e}\") # Debug print\n",
        "        full_ai_response_content.append(\"Sorry, an error occurred.\")\n",
        "\n",
        "    # Combine collected content into a single string\n",
        "    final_ai_response = \"\".join(full_ai_response_content)\n",
        "    print(f\"Final AI response: {final_ai_response}\") # Debug print\n",
        "\n",
        "    # Append the user message and the complete AI response to the history\n",
        "    # Gradio Chatbot expects a list of (user_msg, assistant_msg) tuples\n",
        "    history_list.append((user_input, final_ai_response))\n",
        "\n",
        "    return history_list # Return the updated history"
      ],
      "metadata": {
        "id": "72jbNWtOqe1G"
      },
      "execution_count": null,
      "outputs": []
    },
    {
      "cell_type": "code",
      "source": [
        "# Gradio specific submit function\n",
        "def submit_message_for_gradio(user_input, history_state):\n",
        "    # Call your interaction logic\n",
        "    updated_history = interact_with_agent(user_input, history_state)\n",
        "    # Return the updated history for the chatbot, updated history for the state,\n",
        "    # and an empty string to clear the textbox\n",
        "    return updated_history, updated_history, \"\"\n",
        "\n",
        "\n",
        "# --- Gradio Interface ---\n",
        "with gr.Blocks() as demo:\n",
        "    chat = gr.Chatbot(label=\"Agent Conversation\", bubble_full_width=False)\n",
        "    # Use a list for state, suitable for Gradio Chatbot history format\n",
        "    state = gr.State([])\n",
        "\n",
        "    with gr.Row():\n",
        "        msg = gr.Textbox(\n",
        "            label=\"Type your message here...\",\n",
        "            placeholder=\"Press Enter or click Send\",\n",
        "            scale=4,  # Give textbox more width\n",
        "            container=False\n",
        "        )\n",
        "        send_button = gr.Button(\n",
        "            \"Send\",\n",
        "            scale=1 # Give button less width\n",
        "        )\n",
        "\n",
        "    # --- Event Handlers ---\n",
        "\n",
        "    # 1. When Enter is pressed in the Textbox\n",
        "    msg.submit(\n",
        "        submit_message_for_gradio, # Function to call\n",
        "        inputs=[msg, state],       # Pass current message and state\n",
        "        outputs=[chat, state, msg] # Update chat, update state, AND clear msg textbox\n",
        "    )\n",
        "\n",
        "    # 2. When the Send Button is clicked\n",
        "    send_button.click(\n",
        "        submit_message_for_gradio, # Function to call\n",
        "        inputs=[msg, state],       # Pass current message and state\n",
        "        outputs=[chat, state, msg] # Update chat, update state, AND clear msg textbox\n",
        "    )\n",
        "\n"
      ],
      "metadata": {
        "id": "ri4XW2TsqjNh",
        "colab": {
          "base_uri": "https://localhost:8080/"
        },
        "outputId": "4a8ac04b-4f75-402e-d8a7-4abeef234269"
      },
      "execution_count": null,
      "outputs": [
        {
          "output_type": "stream",
          "name": "stderr",
          "text": [
            "<ipython-input-51-363ab5c1382b>:12: UserWarning: You have not specified a value for the `type` parameter. Defaulting to the 'tuples' format for chatbot messages, but this is deprecated and will be removed in a future version of Gradio. Please set type='messages' instead, which uses openai-style dictionaries with 'role' and 'content' keys.\n",
            "  chat = gr.Chatbot(label=\"Agent Conversation\", bubble_full_width=False)\n",
            "<ipython-input-51-363ab5c1382b>:12: DeprecationWarning: The 'bubble_full_width' parameter is deprecated and will be removed in a future version. This parameter no longer has any effect.\n",
            "  chat = gr.Chatbot(label=\"Agent Conversation\", bubble_full_width=False)\n"
          ]
        }
      ]
    },
    {
      "cell_type": "code",
      "source": [
        "# --- Launch ---\n",
        "print(\"Launching Gradio interface...\")\n",
        "demo.launch()"
      ],
      "metadata": {
        "id": "kjO7euCNqkYA",
        "colab": {
          "base_uri": "https://localhost:8080/",
          "height": 663
        },
        "outputId": "685ca519-2290-4e7d-a6c4-f1335cde73f7"
      },
      "execution_count": null,
      "outputs": [
        {
          "output_type": "stream",
          "name": "stdout",
          "text": [
            "Launching Gradio interface...\n",
            "It looks like you are running Gradio on a hosted a Jupyter notebook. For the Gradio app to work, sharing must be enabled. Automatically setting `share=True` (you can turn this off by setting `share=False` in `launch()` explicitly).\n",
            "\n",
            "Colab notebook detected. To show errors in colab notebook, set debug=True in launch()\n",
            "* Running on public URL: https://4d04758ea7ebefb70d.gradio.live\n",
            "\n",
            "This share link expires in 1 week. For free permanent hosting and GPU upgrades, run `gradio deploy` from the terminal in the working directory to deploy to Hugging Face Spaces (https://huggingface.co/spaces)\n"
          ]
        },
        {
          "output_type": "display_data",
          "data": {
            "text/plain": [
              "<IPython.core.display.HTML object>"
            ],
            "text/html": [
              "<div><iframe src=\"https://4d04758ea7ebefb70d.gradio.live\" width=\"100%\" height=\"500\" allow=\"autoplay; camera; microphone; clipboard-read; clipboard-write;\" frameborder=\"0\" allowfullscreen></iframe></div>"
            ]
          },
          "metadata": {}
        },
        {
          "output_type": "execute_result",
          "data": {
            "text/plain": []
          },
          "metadata": {},
          "execution_count": 52
        }
      ]
    },
    {
      "cell_type": "markdown",
      "source": [
        "# Third section - Deep Research\n"
      ],
      "metadata": {
        "id": "9hYI3NP2dUEf"
      }
    },
    {
      "cell_type": "code",
      "source": [
        "!pip install -U langchain-core langgraph pydantic python-dotenv tavily-python"
      ],
      "metadata": {
        "id": "GWEtfKdYhR1H",
        "colab": {
          "base_uri": "https://localhost:8080/"
        },
        "outputId": "dc22ed1f-acc6-47c3-87d8-28fb6fc2db3a"
      },
      "execution_count": null,
      "outputs": [
        {
          "output_type": "stream",
          "name": "stdout",
          "text": [
            "Requirement already satisfied: langchain-core in /usr/local/lib/python3.11/dist-packages (0.3.56)\n",
            "Requirement already satisfied: langgraph in /usr/local/lib/python3.11/dist-packages (0.4.0)\n",
            "Requirement already satisfied: pydantic in /usr/local/lib/python3.11/dist-packages (2.11.4)\n",
            "Requirement already satisfied: python-dotenv in /usr/local/lib/python3.11/dist-packages (1.1.0)\n",
            "Requirement already satisfied: tavily-python in /usr/local/lib/python3.11/dist-packages (0.7.0)\n",
            "Requirement already satisfied: langsmith<0.4,>=0.1.125 in /usr/local/lib/python3.11/dist-packages (from langchain-core) (0.3.34)\n",
            "Requirement already satisfied: tenacity!=8.4.0,<10.0.0,>=8.1.0 in /usr/local/lib/python3.11/dist-packages (from langchain-core) (9.1.2)\n",
            "Requirement already satisfied: jsonpatch<2.0,>=1.33 in /usr/local/lib/python3.11/dist-packages (from langchain-core) (1.33)\n",
            "Requirement already satisfied: PyYAML>=5.3 in /usr/local/lib/python3.11/dist-packages (from langchain-core) (6.0.2)\n",
            "Requirement already satisfied: packaging<25,>=23.2 in /usr/local/lib/python3.11/dist-packages (from langchain-core) (24.2)\n",
            "Requirement already satisfied: typing-extensions>=4.7 in /usr/local/lib/python3.11/dist-packages (from langchain-core) (4.13.2)\n",
            "Requirement already satisfied: langgraph-checkpoint<3.0.0,>=2.0.10 in /usr/local/lib/python3.11/dist-packages (from langgraph) (2.0.25)\n",
            "Requirement already satisfied: langgraph-prebuilt>=0.1.8 in /usr/local/lib/python3.11/dist-packages (from langgraph) (0.1.8)\n",
            "Requirement already satisfied: langgraph-sdk>=0.1.42 in /usr/local/lib/python3.11/dist-packages (from langgraph) (0.1.64)\n",
            "Requirement already satisfied: xxhash<4.0.0,>=3.5.0 in /usr/local/lib/python3.11/dist-packages (from langgraph) (3.5.0)\n",
            "Requirement already satisfied: annotated-types>=0.6.0 in /usr/local/lib/python3.11/dist-packages (from pydantic) (0.7.0)\n",
            "Requirement already satisfied: pydantic-core==2.33.2 in /usr/local/lib/python3.11/dist-packages (from pydantic) (2.33.2)\n",
            "Requirement already satisfied: typing-inspection>=0.4.0 in /usr/local/lib/python3.11/dist-packages (from pydantic) (0.4.0)\n",
            "Requirement already satisfied: requests in /usr/local/lib/python3.11/dist-packages (from tavily-python) (2.32.3)\n",
            "Requirement already satisfied: tiktoken>=0.5.1 in /usr/local/lib/python3.11/dist-packages (from tavily-python) (0.9.0)\n",
            "Requirement already satisfied: httpx in /usr/local/lib/python3.11/dist-packages (from tavily-python) (0.28.1)\n",
            "Requirement already satisfied: jsonpointer>=1.9 in /usr/local/lib/python3.11/dist-packages (from jsonpatch<2.0,>=1.33->langchain-core) (3.0.0)\n",
            "Requirement already satisfied: ormsgpack<2.0.0,>=1.8.0 in /usr/local/lib/python3.11/dist-packages (from langgraph-checkpoint<3.0.0,>=2.0.10->langgraph) (1.9.1)\n",
            "Requirement already satisfied: orjson>=3.10.1 in /usr/local/lib/python3.11/dist-packages (from langgraph-sdk>=0.1.42->langgraph) (3.10.16)\n",
            "Requirement already satisfied: anyio in /usr/local/lib/python3.11/dist-packages (from httpx->tavily-python) (4.9.0)\n",
            "Requirement already satisfied: certifi in /usr/local/lib/python3.11/dist-packages (from httpx->tavily-python) (2025.1.31)\n",
            "Requirement already satisfied: httpcore==1.* in /usr/local/lib/python3.11/dist-packages (from httpx->tavily-python) (1.0.9)\n",
            "Requirement already satisfied: idna in /usr/local/lib/python3.11/dist-packages (from httpx->tavily-python) (3.10)\n",
            "Requirement already satisfied: h11>=0.16 in /usr/local/lib/python3.11/dist-packages (from httpcore==1.*->httpx->tavily-python) (0.16.0)\n",
            "Requirement already satisfied: requests-toolbelt<2.0.0,>=1.0.0 in /usr/local/lib/python3.11/dist-packages (from langsmith<0.4,>=0.1.125->langchain-core) (1.0.0)\n",
            "Requirement already satisfied: zstandard<0.24.0,>=0.23.0 in /usr/local/lib/python3.11/dist-packages (from langsmith<0.4,>=0.1.125->langchain-core) (0.23.0)\n",
            "Requirement already satisfied: charset-normalizer<4,>=2 in /usr/local/lib/python3.11/dist-packages (from requests->tavily-python) (3.4.1)\n",
            "Requirement already satisfied: urllib3<3,>=1.21.1 in /usr/local/lib/python3.11/dist-packages (from requests->tavily-python) (2.4.0)\n",
            "Requirement already satisfied: regex>=2022.1.18 in /usr/local/lib/python3.11/dist-packages (from tiktoken>=0.5.1->tavily-python) (2024.11.6)\n",
            "Requirement already satisfied: sniffio>=1.1 in /usr/local/lib/python3.11/dist-packages (from anyio->httpx->tavily-python) (1.3.1)\n"
          ]
        }
      ]
    },
    {
      "cell_type": "code",
      "source": [
        "import getpass\n",
        "import os\n",
        "\n",
        "if not os.environ.get(\"GOOGLE_API_KEY\"):\n",
        "  os.environ[\"GOOGLE_API_KEY\"] = getpass.getpass(\"Enter API key for Google Gemini: \")\n",
        "\n",
        "from langchain.chat_models import init_chat_model\n",
        "\n",
        "llm = init_chat_model(\"gemini-2.0-flash\", model_provider=\"google_genai\")"
      ],
      "metadata": {
        "id": "p3ICGoiYiG-7",
        "colab": {
          "base_uri": "https://localhost:8080/"
        },
        "outputId": "e35ab600-88bd-48e2-ac03-37af652a6a8c"
      },
      "execution_count": null,
      "outputs": [
        {
          "name": "stdout",
          "output_type": "stream",
          "text": [
            "Enter API key for Google Gemini: ··········\n"
          ]
        }
      ]
    },
    {
      "cell_type": "code",
      "source": [
        "import getpass\n",
        "import os\n",
        "\n",
        "os.environ[\"TAVILY_API_KEY\"] = getpass.getpass()"
      ],
      "metadata": {
        "id": "bOhP-3OfiNmt",
        "colab": {
          "base_uri": "https://localhost:8080/"
        },
        "outputId": "4c604336-ded0-4f13-8161-6d141b9ee8bc"
      },
      "execution_count": null,
      "outputs": [
        {
          "name": "stdout",
          "output_type": "stream",
          "text": [
            "··········\n"
          ]
        }
      ]
    },
    {
      "cell_type": "markdown",
      "source": [
        "Imports and defining Research Class"
      ],
      "metadata": {
        "id": "QMVI-gwCmNV3"
      }
    },
    {
      "cell_type": "code",
      "source": [
        "# --- [IMPORTS] ---\n",
        "import operator\n",
        "import os\n",
        "from typing import TypedDict, List, Annotated\n",
        "\n",
        "# --- LangChain Imports ---\n",
        "# Using Google Generative AI as an example LLM provider\n",
        "from langchain_google_genai import ChatGoogleGenerativeAI\n",
        "from langchain.prompts import ChatPromptTemplate\n",
        "from langgraph.graph import StateGraph, END\n",
        "\n",
        "# --- External Services ---\n",
        "from tavily import TavilyClient\n",
        "\n",
        "tavily_client = TavilyClient()\n",
        "\n",
        "\n",
        "# === Define State (with search_rounds_completed) ===\n",
        "class ResearchState(TypedDict):\n",
        "    user_question: str\n",
        "    refined_question: str\n",
        "    search_queries: List[str]\n",
        "    # Use Annotated and operator.add to accumulate search results across runs\n",
        "    search_results: Annotated[List[str], operator.add] = []\n",
        "    final_report: str\n",
        "    messages: List = [] # Optional conversational memory\n",
        "    # --- ADDED to track search attempts ---\n",
        "    search_rounds_completed: int = 0\n",
        "    # --- END ADDED ---\n",
        "    step_count: int = 0 # General step counter for safety"
      ],
      "metadata": {
        "id": "MxSEaWG3l2fs"
      },
      "execution_count": null,
      "outputs": []
    },
    {
      "cell_type": "markdown",
      "source": [
        "Defining Prompts"
      ],
      "metadata": {
        "id": "SvcB34axmQVu"
      }
    },
    {
      "cell_type": "code",
      "source": [
        "# === Prompt Templates (Updated decide_after_search prompt) ===\n",
        "\n",
        "# Prompt to refine the initial user question\n",
        "refine_prompt = ChatPromptTemplate.from_messages([\n",
        "    (\"system\", \"Refine the user's vague question into ONE detailed, specific, research-oriented question suitable for web searches. Output ONLY the single refined question text, nothing else. Do not include options, explanations, or formatting.\"),\n",
        "    (\"human\", \"{user_question}\")\n",
        "])\n",
        "\n",
        "# Prompt to generate search queries based on the refined question\n",
        "query_prompt = ChatPromptTemplate.from_messages([\n",
        "    (\"system\", \"Based on the research question, generate 3 specific, high-quality search engine query strings likely to yield relevant results. Focus on keywords and core concepts. Avoid excessive punctuation or overly long phrases unless essential. Output *only* the query strings, each on a new line.\"),\n",
        "    (\"human\", \"Question: {refined_question}\")\n",
        "])\n",
        "\n",
        "# Prompt to synthesize the final report from search results\n",
        "connect_prompt = ChatPromptTemplate.from_messages([\n",
        "    (\"system\", \"You are a research assistant writing a report. Synthesize the provided search results into a well-structured, comprehensive report answering the refined question. Use the search results as your primary source material. Include an introduction summarizing the topic, body paragraphs organized logically by theme (using information from the sources), and a concluding summary. Maintain a neutral, informative tone. Cite information implicitly by incorporating it naturally.\"),\n",
        "    (\"human\", \"Refined Question: {refined_question}\\n\\nSources:\\n{context}\")\n",
        "])\n",
        "\n",
        "# Prompt for deciding AFTER refining the question\n",
        "decide_after_refine_prompt = ChatPromptTemplate.from_messages([\n",
        "    (\"system\", \"You have just refined a user's question for research. Evaluate the refined question.\"),\n",
        "    (\"human\",\n",
        "     \"Refined Question: {refined_question}\\n\\n\"\n",
        "     \"Is this question clear, specific, and suitable for generating web search queries? Decide the next step.\\n\"\n",
        "     \"Options:\\n\"\n",
        "     \"- generate_queries: If the refined question is good.\\n\"\n",
        "     \"- refine_question: If the refined question still needs improvement (too vague, too broad, unclear).\\n\"\n",
        "     \"- finish: If the question seems unanswerable or the process should stop.\\n\\n\"\n",
        "     \"Respond with *only* one option.\"\n",
        "    )\n",
        "])\n",
        "\n",
        "# --- Define Target Search Rounds ---\n",
        "TARGET_SEARCH_ROUNDS = 2 # <--- Adjust this value to control search persistence\n",
        "\n",
        "# Prompt for deciding AFTER searching the web (Encouraging More Rounds)\n",
        "decide_after_search_prompt = ChatPromptTemplate.from_messages([\n",
        "   (\"system\",\n",
        "    # --- MODIFIED SYSTEM MESSAGE ---\n",
        "    f\"You are a research assistant evaluating accumulated web search results. Your goal is to gather comprehensive information before writing a report. \"\n",
        "    # --- CORRECTED LINE BELOW (Using placeholder {max_steps}) ---\n",
        "    f\"**Aim to complete at least {TARGET_SEARCH_ROUNDS} full cycles of query generation and searching** unless the results are exceptionally comprehensive after the first round or the step limit ({{max_steps}}) is near.\\n\"\n",
        "    # --- END CORRECTION ---\n",
        "    # --- END MODIFICATION ---\n",
        "    \"Current Step: {step_count}/{max_steps}\\n\"\n",
        "    \"Refined Question (Goal): {refined_question}\\n\"\n",
        "    \"Total Accumulated Results Found So Far: {results_count}\\n\"\n",
        "    # --- ADDED CONTEXT ---\n",
        "    \"Search Rounds Completed So Far: {search_rounds_completed}\"\n",
        "    # --- END ADDED CONTEXT ---\n",
        "    ),\n",
        "   (\"human\",\n",
        "    \"Accumulated Search Results (potentially summarized/truncated):\\n{search_results}\\n\\n\"\n",
        "    # --- MODIFIED HUMAN MESSAGE ---\n",
        "    # Pass target_search_rounds placeholder\n",
        "    \"Based on the results and the goal of performing approximately {target_search_rounds} search rounds, what is the *single* best next step?\\n\"\n",
        "    \"Options:\\n\"\n",
        "     # Pass target_search_rounds and max_steps placeholders\n",
        "    \"- write_report: Choose ONLY if the results are truly comprehensive AND sufficient search rounds (~{target_search_rounds}) have been attempted OR the step limit ({max_steps}) is very close.\\n\"\n",
        "     # Pass search_rounds_completed and target_search_rounds placeholders\n",
        "    \"- generate_queries: Choose if more search rounds are needed (current rounds: {search_rounds_completed} < target: {target_search_rounds}) OR if the accumulated results are clearly insufficient/irrelevant.\\n\"\n",
        "    # --- END MODIFICATION ---\n",
        "    \"- refine_question: If results consistently seem off-topic across multiple searches.\\n\"\n",
        "    \"- finish: If the process seems stuck after many attempts or results are the best likely obtainable.\\n\\n\"\n",
        "    \"Respond with *only* one option from the list above.\"\n",
        "    )\n",
        "])"
      ],
      "metadata": {
        "id": "TIDS7zIil4ge"
      },
      "execution_count": null,
      "outputs": []
    },
    {
      "cell_type": "markdown",
      "source": [
        "Defining the nodes for the langgraph"
      ],
      "metadata": {
        "id": "pkr2amI6mURr"
      }
    },
    {
      "cell_type": "code",
      "source": [
        "\n",
        "# === Nodes (Action nodes return dicts of updates) ===\n",
        "\n",
        "def refine_question(state: ResearchState) -> dict:\n",
        "    \"\"\"Refines the user question and increments step count.\"\"\"\n",
        "    print(f\"--- Step {state.get('step_count', 0)}: Refining Question ---\")\n",
        "    messages = refine_prompt.format_messages(user_question=state[\"user_question\"])\n",
        "    response = llm.invoke(messages)\n",
        "    # Basic cleaning: take the first non-empty line if LLM adds extra formatting\n",
        "    refined = response.content.strip()\n",
        "    refined_lines = [line.strip() for line in refined.split('\\n') if line.strip()]\n",
        "    cleaned_question = refined_lines[0] if refined_lines else refined # Fallback if cleaning fails\n",
        "    print(f\"Refined Question (Cleaned): {cleaned_question}\")\n",
        "    current_step = state.get(\"step_count\", 0)\n",
        "    # Return updates to state\n",
        "    return {\n",
        "        \"refined_question\": cleaned_question,\n",
        "        \"step_count\": current_step + 1\n",
        "        # Optional: Reset search rounds if refining means starting search over\n",
        "        # \"search_rounds_completed\": 0\n",
        "    }\n",
        "\n",
        "def generate_queries(state: ResearchState) -> dict:\n",
        "    \"\"\"Generates search queries based on the refined question.\"\"\"\n",
        "    print(f\"--- Step {state.get('step_count', 0)}: Generating Queries ---\")\n",
        "    refined_question = state.get(\"refined_question\")\n",
        "    # Prevent query generation if the refinement failed or question is empty\n",
        "    if not refined_question:\n",
        "        print(\"Warning: No valid refined question found. Cannot generate queries.\")\n",
        "        current_step = state.get(\"step_count\", 0)\n",
        "        return {\"search_queries\": [], \"step_count\": current_step + 1}\n",
        "\n",
        "    messages = query_prompt.format_messages(refined_question=refined_question)\n",
        "    response = llm.invoke(messages)\n",
        "    # Robust parsing: remove quotes, list markers, and filter empty lines\n",
        "    queries = [q.strip(\"\\\"'-* \") for q in response.content.strip().split(\"\\n\") if q.strip()]\n",
        "    print(f\"Generated Queries: {queries}\")\n",
        "    current_step = state.get(\"step_count\", 0)\n",
        "    return {\n",
        "        \"search_queries\": queries, # Overwrites previous queries\n",
        "        \"step_count\": current_step + 1\n",
        "    }\n",
        "\n",
        "def search_web(state: ResearchState) -> dict:\n",
        "    \"\"\"Performs web search using Tavily and increments search round counter.\"\"\"\n",
        "    print(f\"--- Step {state.get('step_count', 0)}: Searching Web ---\")\n",
        "    new_results_this_run = []\n",
        "    current_step = state.get(\"step_count\", 0)\n",
        "    current_rounds = state.get(\"search_rounds_completed\", 0) # Get current round count\n",
        "\n",
        "    # Handle case where Tavily client failed to initialize\n",
        "    if tavily_client is None:\n",
        "        print(\"Error: Tavily client not available. Skipping web search.\")\n",
        "        # Still increment counters and return empty results for accumulation\n",
        "        return {\"search_results\": [], \"step_count\": current_step + 1, \"search_rounds_completed\": current_rounds + 1}\n",
        "\n",
        "    current_queries = state.get(\"search_queries\", [])\n",
        "    if not current_queries:\n",
        "         print(\"Warning: No search queries provided, skipping web search.\")\n",
        "         # Increment counters and return empty results\n",
        "         return {\"search_results\": [], \"step_count\": current_step + 1, \"search_rounds_completed\": current_rounds + 1}\n",
        "\n",
        "    print(f\"Using Queries: {current_queries}\")\n",
        "    for query in current_queries:\n",
        "        if not query: continue # Skip empty queries if any slip through parsing\n",
        "        try:\n",
        "            search_term = query\n",
        "            print(f\"  Searching Tavily for: '{search_term}'\")\n",
        "            # Use 'advanced' search depth for potentially better results on specific topics\n",
        "            response = tavily_client.search(query=search_term, search_depth=\"advanced\", max_results=3)\n",
        "\n",
        "            # Log raw response for debugging (optional)\n",
        "            # print(f\"  Tavily raw response: {response}\")\n",
        "\n",
        "            query_results = response.get(\"results\", [])\n",
        "            print(f\"  Parsed {len(query_results)} results.\")\n",
        "            for result in query_results:\n",
        "                content = result.get('content')\n",
        "                # Only add results that have actual content\n",
        "                if content:\n",
        "                    snippet = f\"Title: {result.get('title', 'N/A')}\\nURL: {result.get('url', 'N/A')}\\nContent: {content}\"\n",
        "                    new_results_this_run.append(snippet)\n",
        "        except Exception as e:\n",
        "            print(f\"Error during Tavily search for query '{query}': {e}\")\n",
        "\n",
        "    print(f\"Found {len(new_results_this_run)} new results in this search round.\")\n",
        "    # Return ONLY the new results found in this specific run\n",
        "    # The StateGraph will handle accumulation via Annotated[..., operator.add]\n",
        "    return {\n",
        "        \"search_results\": new_results_this_run,\n",
        "        \"step_count\": current_step + 1,\n",
        "        # --- Increment search round counter ---\n",
        "        \"search_rounds_completed\": current_rounds + 1\n",
        "    }\n",
        "\n",
        "def write_report(state: ResearchState) -> dict:\n",
        "    \"\"\"Writes the final report based on accumulated search results.\"\"\"\n",
        "    print(f\"--- Step {state.get('step_count', 0)}: Writing Report ---\")\n",
        "    # Read accumulated results from the state\n",
        "    accumulated_results = state.get(\"search_results\", [])\n",
        "    # Join results with a clear separator for the LLM context\n",
        "    context = \"\\n\\n---\\n\\n\".join(accumulated_results)\n",
        "    refined_question = state.get(\"refined_question\")\n",
        "    current_step = state.get(\"step_count\", 0)\n",
        "\n",
        "    # Check if necessary inputs are present\n",
        "    if not refined_question or not accumulated_results:\n",
        "        print(\"Warning: Cannot write report. Missing refined question or accumulated search results.\")\n",
        "        return {\"final_report\": \"Could not generate report: Missing inputs.\", \"step_count\": current_step + 1}\n",
        "\n",
        "    print(f\"Writing report based on {len(accumulated_results)} accumulated search results.\")\n",
        "    messages = connect_prompt.format_messages(refined_question=refined_question, context=context)\n",
        "    response = llm.invoke(messages)\n",
        "    final_report = response.content.strip()\n",
        "    # Log a snippet for verification (optional)\n",
        "    # print(f\"Generated Report Snippet: {final_report[:500]}...\")\n",
        "    return {\n",
        "        \"final_report\": final_report,\n",
        "        \"step_count\": current_step + 1\n",
        "    }\n",
        "\n",
        "\n",
        "# === Decision Functions (Router functions return strings) ===\n",
        "MAX_STEPS = 15 # Increased max steps to allow for more search rounds\n",
        "\n",
        "def decide_after_refine_route(state: ResearchState) -> str:\n",
        "    \"\"\"Decides the next node after the refine_question step.\"\"\"\n",
        "    current_step = state.get(\"step_count\", 0)\n",
        "    print(f\"--- Step {current_step}: Deciding After Refine ---\")\n",
        "\n",
        "    # Safety check: enforce step limit\n",
        "    if current_step >= MAX_STEPS:\n",
        "        print(f\"Maximum step limit ({MAX_STEPS}) reached. Forcing finish.\")\n",
        "        return \"finish\"\n",
        "\n",
        "    refined_question = state.get(\"refined_question\", \"\")\n",
        "    messages = decide_after_refine_prompt.format_messages(\n",
        "        refined_question=refined_question\n",
        "    )\n",
        "    try:\n",
        "        response = llm.invoke(messages)\n",
        "        # Clean decision string (lowercase, replace spaces/hyphens)\n",
        "        decision = response.content.strip().lower().replace(\" \", \"_\").replace(\"-\", \"_\")\n",
        "        print(f\"LLM Decision (After Refine): {decision}\")\n",
        "\n",
        "        # Validate LLM output against expected options\n",
        "        valid_options = [\"generate_queries\", \"refine_question\", \"finish\"]\n",
        "        if decision not in valid_options:\n",
        "            print(f\"Warning: Invalid decision '{decision}' after refine. Defaulting based on question presence.\")\n",
        "            # Sensible fallback: if question exists, try queries, else refine again\n",
        "            return \"generate_queries\" if refined_question else \"refine_question\"\n",
        "        return decision\n",
        "    except Exception as e:\n",
        "        print(f\"Error during LLM decision (After Refine): {e}. Defaulting to finish.\")\n",
        "        return \"finish\"\n",
        "\n",
        "\n",
        "def decide_after_search_route(state: ResearchState) -> str:\n",
        "    \"\"\"Decides the next node after the search_web step, considering accumulated results and target rounds.\"\"\"\n",
        "    current_step = state.get(\"step_count\", 0)\n",
        "    # Get the count of search rounds already completed\n",
        "    search_rounds_completed = state.get(\"search_rounds_completed\", 0)\n",
        "    print(f\"--- Step {current_step}: Deciding After Search (Round {search_rounds_completed} completed) ---\")\n",
        "\n",
        "    # Safety check: enforce step limit\n",
        "    if current_step >= MAX_STEPS:\n",
        "        print(f\"Maximum step limit ({MAX_STEPS}) reached. Forcing finish.\")\n",
        "        return \"finish\"\n",
        "\n",
        "    # --- Get accumulated results for evaluation ---\n",
        "    accumulated_results = state.get(\"search_results\", [])\n",
        "    results_count = len(accumulated_results)\n",
        "    search_results_summary = \"\\n---\\n\".join(accumulated_results) # Use separator\n",
        "\n",
        "    # Truncate summary if it's too long for the LLM's context window\n",
        "    # Adjust MAX_SUMMARY_LEN based on your LLM and expected results size\n",
        "    MAX_SUMMARY_LEN = 8000\n",
        "    if len(search_results_summary) > MAX_SUMMARY_LEN:\n",
        "         print(f\"Truncating search results summary from {len(search_results_summary)} to {MAX_SUMMARY_LEN} chars for prompt.\")\n",
        "         search_results_summary = search_results_summary[:MAX_SUMMARY_LEN] + \"... (truncated)\"\n",
        "\n",
        "    # --- Format the prompt with all necessary context ---\n",
        "    messages = decide_after_search_prompt.format_messages(\n",
        "        refined_question=state.get(\"refined_question\", \"N/A\"),\n",
        "        search_results=search_results_summary if accumulated_results else \"N/A\", # Pass summary or N/A\n",
        "        step_count=current_step,\n",
        "        max_steps=MAX_STEPS,\n",
        "        results_count=results_count,\n",
        "        # --- Pass the required context for multi-round logic ---\n",
        "        search_rounds_completed=search_rounds_completed,\n",
        "        target_search_rounds=TARGET_SEARCH_ROUNDS\n",
        "        # -----------------------------------------------------\n",
        "    )\n",
        "    try:\n",
        "        response = llm.invoke(messages)\n",
        "        # Clean decision string\n",
        "        decision = response.content.strip().lower().replace(\" \", \"_\").replace(\"-\", \"_\")\n",
        "        print(f\"LLM Decision (After Search): {decision} (Accum. Results: {results_count}, Search Rounds: {search_rounds_completed})\")\n",
        "\n",
        "        # Validate LLM output\n",
        "        valid_options = [\"write_report\", \"generate_queries\", \"refine_question\", \"finish\"]\n",
        "        if decision not in valid_options:\n",
        "            print(f\"Warning: Invalid decision '{decision}' after search. Defaulting based on results/rounds.\")\n",
        "            # Sensible fallback: try writing if enough rounds done, else generate more queries\n",
        "            return \"write_report\" if accumulated_results and search_rounds_completed >= TARGET_SEARCH_ROUNDS else \"generate_queries\"\n",
        "\n",
        "        # Safety check: Prevent writing report if there are actually no results\n",
        "        if decision == \"write_report\" and not accumulated_results:\n",
        "            print(\"LLM decided write_report, but no results accumulated. Overriding to generate_queries.\")\n",
        "            return \"generate_queries\"\n",
        "\n",
        "        # --- Optional Heuristic Override ---\n",
        "        # You can add logic here to force writing the report if desired, e.g.,\n",
        "        if decision != \"write_report\" and results_count >= 5 and search_rounds_completed >= TARGET_SEARCH_ROUNDS:\n",
        "            print(\"Heuristic Override: Forcing write_report.\")\n",
        "            return \"write_report\"\n",
        "        # --- End Optional Heuristic ---\n",
        "\n",
        "        return decision\n",
        "\n",
        "    except Exception as e:\n",
        "        print(f\"Error during LLM decision (After Search): {e}. Defaulting to finish.\")\n",
        "        return \"finish\""
      ],
      "metadata": {
        "id": "EdW720GDmJpe"
      },
      "execution_count": null,
      "outputs": []
    },
    {
      "cell_type": "markdown",
      "source": [
        "Langgraph"
      ],
      "metadata": {
        "id": "RVt97UV0mW_a"
      }
    },
    {
      "cell_type": "code",
      "source": [
        "# === Build Agentic Graph (Corrected Wiring) ===\n",
        "graph_builder = StateGraph(ResearchState)\n",
        "\n",
        "# --- Add only the ACTION nodes ---\n",
        "graph_builder.add_node(\"refine_question\", refine_question)\n",
        "graph_builder.add_node(\"generate_queries\", generate_queries)\n",
        "graph_builder.add_node(\"search_web\", search_web)\n",
        "graph_builder.add_node(\"write_report\", write_report)\n",
        "\n",
        "# --- Define Edges ---\n",
        "graph_builder.set_entry_point(\"refine_question\")\n",
        "graph_builder.add_edge(\"generate_queries\", \"search_web\") # Always search after generating queries\n",
        "graph_builder.add_edge(\"write_report\", END)             # Finish after writing report\n",
        "\n",
        "# --- Define Conditional Edges ---\n",
        "# Route based on decision after refining the question\n",
        "graph_builder.add_conditional_edges(\n",
        "    \"refine_question\",              # Source node\n",
        "    decide_after_refine_route,      # Router function\n",
        "    {                               # Destination map: map decision string to next node\n",
        "        \"generate_queries\": \"generate_queries\",\n",
        "        \"refine_question\": \"refine_question\", # Loop back to refine if needed\n",
        "        \"finish\": END,\n",
        "    }\n",
        ")\n",
        "# Route based on decision after searching the web\n",
        "graph_builder.add_conditional_edges(\n",
        "    \"search_web\",                   # Source node\n",
        "    decide_after_search_route,      # Router function (handles multi-round logic)\n",
        "    {                               # Destination map: map decision string to next node\n",
        "        \"write_report\": \"write_report\",\n",
        "        \"generate_queries\": \"generate_queries\", # Loop back for more queries/searching\n",
        "        \"refine_question\": \"refine_question\", # Loop back if results suggest bad question\n",
        "        \"finish\": END,\n",
        "        # Note: 'search_web' is NOT a direct destination here, preventing the immediate re-search loop\n",
        "    }\n",
        ")\n",
        "\n",
        "# Compile the graph\n",
        "agentic_graph_final = graph_builder.compile()\n",
        "\n",
        "# Optional: Visualize the graph structure\n",
        "# try:\n",
        "#     # Ensure necessary libraries are installed: pip install Pillow pygraphviz\n",
        "#     img_data = agentic_graph_final.get_graph(xray=True).draw_mermaid_png()\n",
        "#     with open(\"agentic_graph_multiround.png\", \"wb\") as f:\n",
        "#         f.write(img_data)\n",
        "#     print(\"Graph visualization saved to agentic_graph_multiround.png\")\n",
        "# except ImportError:\n",
        "#     print(\"Install Pillow and pygraphviz to visualize the graph: pip install Pillow pygraphviz\")\n",
        "# except Exception as e:\n",
        "#     print(f\"Could not draw graph: {e}\")\n",
        "\n",
        "\n"
      ],
      "metadata": {
        "id": "ChonJ2XFdTfM"
      },
      "execution_count": null,
      "outputs": []
    },
    {
      "cell_type": "markdown",
      "source": [
        "Langgraph research visualization"
      ],
      "metadata": {
        "id": "V6JvCOkimYw5"
      }
    },
    {
      "cell_type": "code",
      "source": [
        "from IPython.display import Image, display\n",
        "display(Image(agentic_graph_final.get_graph(xray=1).draw_mermaid_png()))"
      ],
      "metadata": {
        "id": "nMpl9hjbhj3P",
        "colab": {
          "base_uri": "https://localhost:8080/",
          "height": 548
        },
        "outputId": "76b3dc45-dcb5-4ecc-fa2c-859ec9d0613d"
      },
      "execution_count": null,
      "outputs": [
        {
          "output_type": "display_data",
          "data": {
            "image/png": "[encoded data removed]",
            "text/plain": [
              "<IPython.core.display.Image object>"
            ]
          },
          "metadata": {}
        }
      ]
    },
    {
      "cell_type": "code",
      "source": [
        "# === Run ===\n",
        "if __name__ == \"__main__\":\n",
        "    user_question = \"Is model context protocol from claude the future?\" # Example that needs refinement\n",
        "    # Initialize only the necessary starting fields\n",
        "    initial_state = {\"user_question\": user_question, \"messages\": []}\n",
        "\n",
        "    print(\"--- Starting Graph Execution ---\")\n",
        "    # Pass configuration, including the recursion limit (important safety)\n",
        "    config = {\"recursion_limit\": MAX_STEPS + 5} # Add a buffer\n",
        "    final_state = agentic_graph_final.invoke(initial_state, config=config)\n",
        "\n",
        "    print(\"\\n--- Execution Finished ---\")\n",
        "    print(f\"Final Step Count: {final_state.get('step_count')}\")\n",
        "    print(f\"Final Search Rounds Completed: {final_state.get('search_rounds_completed')}\") # Show final rounds\n",
        "    print(f\"Final Accumulated Results Count: {len(final_state.get('search_results', []))}\")\n",
        "    print(\"\\n📄 Final Report:\\n\")\n",
        "    print(final_state.get(\"final_report\", \"No report generated.\"))\n",
        "    final_report = final_state.get(\"final_report\", \"No report generated.\")"
      ],
      "metadata": {
        "id": "l-gU2FRldcZG",
        "colab": {
          "base_uri": "https://localhost:8080/"
        },
        "outputId": "1632e2c2-0347-4a8d-ff7c-29be4a74d544"
      },
      "execution_count": null,
      "outputs": [
        {
          "output_type": "stream",
          "name": "stdout",
          "text": [
            "--- Starting Graph Execution ---\n",
            "--- Step 0: Refining Question ---\n",
            "Refined Question (Cleaned): What are the potential long-term impacts of Anthropic's Contextual AI model on the evolution of human-computer interaction and the broader AI landscape?\n",
            "--- Step 1: Deciding After Refine ---\n",
            "LLM Decision (After Refine): generate_queries\n",
            "--- Step 1: Generating Queries ---\n",
            "Generated Queries: ['anthropic contextual ai long term impact', 'contextual ai human computer interaction future', 'anthropic ai model evolution landscape']\n",
            "--- Step 2: Searching Web ---\n",
            "Using Queries: ['anthropic contextual ai long term impact', 'contextual ai human computer interaction future', 'anthropic ai model evolution landscape']\n",
            "  Searching Tavily for: 'anthropic contextual ai long term impact'\n",
            "  Parsed 3 results.\n",
            "  Searching Tavily for: 'contextual ai human computer interaction future'\n",
            "  Parsed 3 results.\n",
            "  Searching Tavily for: 'anthropic ai model evolution landscape'\n",
            "  Parsed 3 results.\n",
            "Found 9 new results in this search round.\n",
            "--- Step 3: Deciding After Search (Round 1 completed) ---\n",
            "Truncating search results summary from 10103 to 8000 chars for prompt.\n",
            "LLM Decision (After Search): generate_queries (Accum. Results: 9, Search Rounds: 1)\n",
            "--- Step 3: Generating Queries ---\n",
            "Generated Queries: ['Anthropic Contextual AI long-term impact', 'human-computer interaction future contextual AI', 'AI landscape evolution Anthropic models']\n",
            "--- Step 4: Searching Web ---\n",
            "Using Queries: ['Anthropic Contextual AI long-term impact', 'human-computer interaction future contextual AI', 'AI landscape evolution Anthropic models']\n",
            "  Searching Tavily for: 'Anthropic Contextual AI long-term impact'\n",
            "  Parsed 3 results.\n",
            "  Searching Tavily for: 'human-computer interaction future contextual AI'\n",
            "  Parsed 3 results.\n",
            "  Searching Tavily for: 'AI landscape evolution Anthropic models'\n",
            "  Parsed 3 results.\n",
            "Found 9 new results in this search round.\n",
            "--- Step 5: Deciding After Search (Round 2 completed) ---\n",
            "Truncating search results summary from 21131 to 8000 chars for prompt.\n",
            "LLM Decision (After Search): generate_queries (Accum. Results: 18, Search Rounds: 2)\n",
            "Heuristic Override: Forcing write_report.\n",
            "--- Step 5: Writing Report ---\n",
            "Writing report based on 18 accumulated search results.\n",
            "\n",
            "--- Execution Finished ---\n",
            "Final Step Count: 6\n",
            "Final Search Rounds Completed: 2\n",
            "Final Accumulated Results Count: 18\n",
            "\n",
            "📄 Final Report:\n",
            "\n",
            "## The Potential Long-Term Impacts of Anthropic's Contextual AI Model\n",
            "\n",
            "Anthropic, an AI safety and research company, is making significant strides in the field of artificial intelligence, particularly with its contextual AI model, Claude. These advancements have the potential to reshape human-computer interaction (HCI) and the broader AI landscape in profound ways. This report will explore the potential long-term impacts of Anthropic's work, focusing on advancements in AI reasoning, safety and ethical considerations, and the evolution of HCI.\n",
            "\n",
            "### Advancements in AI Reasoning and Capabilities\n",
            "\n",
            "Anthropic is poised to release updates to Claude, potentially including a \"Paprika Mode,\" designed to enhance the model's cognitive capabilities and mimic human-like deductive reasoning. This could significantly alter the landscape of AI-human interaction. Furthermore, Anthropic's development of hybrid AI models focuses on dynamic resource allocation, adjusting computational power based on task complexity. This approach promises cost-effective AI solutions and could set new standards in AI strategy and application, potentially stimulating advancements in AI resource allocation and model efficiency.\n",
            "\n",
            "The integration of real-time web search capabilities into Claude enhances its accuracy by providing access to the latest events and information. Anthropic emphasizes that Claude will provide direct citations to sources, allowing users to fact-check information, which directly addresses concerns about AI hallucinations and misinformation.\n",
            "\n",
            "### Safety, Ethical Considerations, and Governance\n",
            "\n",
            "Anthropic places a strong emphasis on AI safety and ethical considerations. The company is governed by a Long-Term Benefit Trust, designed to align corporate governance with the mission of developing and maintaining advanced AI for the long-term benefit of humanity. Anthropic devotes a large fraction of its resources to AI safety research, addressing both near-term trust and safety concerns, such as spam and hate speech, and longer-term risks associated with uncontrolled, powerful AI systems. The company is a public benefit corporation, prioritizing the benefit of all of humanity, not just profit. Anthropic supports objective standards and evidence-based policy guidance, particularly highlighting transparency as a means of growing the evidence base around new technology.\n",
            "\n",
            "### Evolution of Human-Computer Interaction\n",
            "\n",
            "The future of HCI is trending towards more intuitive, personalized, and immersive experiences. Multimodal AI, which combines various input methods like voice, touch, gestures, and contextual data, plays a crucial role in this evolution. As AI models become more sophisticated, they will better understand and predict user behavior, enabling hyper-personalized experiences. This is particularly relevant in fields like autonomous vehicles, where multimodal AI will be essential for interpreting driver gestures, road conditions, and verbal commands.\n",
            "\n",
            "Advancements in voice and gesture recognition technologies are making interactions with computers more natural and inclusive. Conversational AI understands context, responds contextually, and even anticipates user needs, offering convenience and accessibility to a broader range of users. The convergence of voice and gesture recognition technologies offers redundancy and flexibility, ensuring that users can interact with technology in the most convenient way, depending on their context and preferences.\n",
            "\n",
            "### Potential Challenges and Future Scenarios\n",
            "\n",
            "Despite the promising advancements, challenges remain. The complexity of real-world agent interactions may not be fully addressed by current specifications. Concerns exist regarding trust and safety violations, such as spam, harassment, and election interference, which could be amplified by unfettered AI.\n",
            "\n",
            "Looking ahead, different scenarios for the future of HCI are possible. These range from techno-feudalism and collapse, where technology exacerbates existing inequalities and leads to societal breakdown, to adaptation and transformation, where technology empowers individuals and communities to address global challenges.\n",
            "\n",
            "### Conclusion\n",
            "\n",
            "Anthropic's Contextual AI model, Claude, is poised to have a significant impact on the evolution of human-computer interaction and the broader AI landscape. By emphasizing safety, ethical considerations, and the development of advanced reasoning capabilities, Anthropic is contributing to a future where AI is more beneficial, accessible, and aligned with human values. While challenges remain, the ongoing advancements in multimodal AI, voice and gesture recognition, and dynamic resource allocation hold the potential to transform how humans interact with technology, creating more intuitive, personalized, and immersive experiences.\n"
          ]
        }
      ]
    },
    {
      "cell_type": "markdown",
      "source": [
        "# Importing it into a PDF"
      ],
      "metadata": {
        "id": "pn4O16KgmkBa"
      }
    },
    {
      "cell_type": "markdown",
      "source": [
        "Install dependencies"
      ],
      "metadata": {
        "id": "pVARcG02mm7w"
      }
    },
    {
      "cell_type": "code",
      "source": [
        "!pip install reportlab"
      ],
      "metadata": {
        "id": "aUsJ6dQWg_fi",
        "colab": {
          "base_uri": "https://localhost:8080/"
        },
        "outputId": "ae834ef8-6f33-461a-cd73-ffad28113397"
      },
      "execution_count": null,
      "outputs": [
        {
          "output_type": "stream",
          "name": "stdout",
          "text": [
            "Collecting reportlab\n",
            "  Downloading reportlab-4.4.0-py3-none-any.whl.metadata (1.8 kB)\n",
            "Requirement already satisfied: pillow>=9.0.0 in /usr/local/lib/python3.11/dist-packages (from reportlab) (11.2.1)\n",
            "Requirement already satisfied: chardet in /usr/local/lib/python3.11/dist-packages (from reportlab) (5.2.0)\n",
            "Downloading reportlab-4.4.0-py3-none-any.whl (2.0 MB)\n",
            "\u001b[?25l   \u001b[90m━━━━━━━━━━━━━━━━━━━━━━━━━━━━━━━━━━━━━━━━\u001b[0m \u001b[32m0.0/2.0 MB\u001b[0m \u001b[31m?\u001b[0m eta \u001b[36m-:--:--\u001b[0m\r\u001b[2K   \u001b[90m━━━━━━━━━━━━━━━━━━━━━━━━━━━━━━━━━━━━━━━━\u001b[0m \u001b[32m2.0/2.0 MB\u001b[0m \u001b[31m69.7 MB/s\u001b[0m eta \u001b[36m0:00:00\u001b[0m\n",
            "\u001b[?25hInstalling collected packages: reportlab\n",
            "Successfully installed reportlab-4.4.0\n"
          ]
        }
      ]
    },
    {
      "cell_type": "markdown",
      "source": [
        "Defining the PDF Format"
      ],
      "metadata": {
        "id": "tl4iSvJPmoYw"
      }
    },
    {
      "cell_type": "code",
      "source": [
        "from reportlab.lib.pagesizes import A4\n",
        "from reportlab.lib.units import inch\n",
        "from reportlab.lib.styles import getSampleStyleSheet, ParagraphStyle\n",
        "from reportlab.platypus import SimpleDocTemplate, Paragraph, Spacer\n",
        "from reportlab.lib.enums import TA_JUSTIFY, TA_CENTER\n",
        "import re\n",
        "\n",
        "def format_text(text):\n",
        "    text = re.sub(r\"\\*\\*(.+?)\\*\\*\", r\"<b>\\1</b>\", text)\n",
        "    text = re.sub(r\"\\*(.+?)\\*\", r\"<b>\\1</b>\", text)\n",
        "    text = re.sub(r\"\\n{2,}\", \"\\n\\n\", text)\n",
        "    return text\n",
        "\n",
        "def save_string_to_pdf(text, filename=\"final_report.pdf\"):\n",
        "    doc = SimpleDocTemplate(filename, pagesize=A4,\n",
        "                            rightMargin=50, leftMargin=50,\n",
        "                            topMargin=50, bottomMargin=50)\n",
        "\n",
        "    styles = getSampleStyleSheet()\n",
        "    styles.add(ParagraphStyle(name='CustomTitle', fontSize=16, leading=20,\n",
        "                              alignment=TA_CENTER, spaceAfter=12,\n",
        "                              spaceBefore=12, fontName='Helvetica-Bold'))\n",
        "    styles.add(ParagraphStyle(name='Justify', alignment=TA_JUSTIFY, leading=15))\n",
        "\n",
        "    story = []\n",
        "\n",
        "    formatted_text = format_text(text)\n",
        "    paragraphs = formatted_text.split('\\n\\n')\n",
        "\n",
        "    for para in paragraphs:\n",
        "        para = para.strip()\n",
        "        if para.startswith(\"##\"):\n",
        "            title_text = para[2:].strip()\n",
        "            story.append(Paragraph(title_text, styles[\"CustomTitle\"]))\n",
        "        else:\n",
        "            story.append(Paragraph(para, styles[\"Justify\"]))\n",
        "        story.append(Spacer(1, 12))\n",
        "\n",
        "    doc.build(story)\n",
        "    print(f\"Saved nicely formatted PDF as {filename}\")\n"
      ],
      "metadata": {
        "id": "cmocKCDdhENW"
      },
      "execution_count": null,
      "outputs": []
    },
    {
      "cell_type": "markdown",
      "source": [
        "Save into our local folder"
      ],
      "metadata": {
        "id": "NPR3AKEsmrb5"
      }
    },
    {
      "cell_type": "code",
      "source": [
        "save_string_to_pdf(final_state.get(\"final_report\", \"No report generated.\"))"
      ],
      "metadata": {
        "id": "jRQ2CN3mhF5P",
        "colab": {
          "base_uri": "https://localhost:8080/"
        },
        "outputId": "9da72f76-51fd-472b-fdd6-0c3db0631da9"
      },
      "execution_count": null,
      "outputs": [
        {
          "output_type": "stream",
          "name": "stdout",
          "text": [
            "Saved nicely formatted PDF as final_report.pdf\n"
          ]
        }
      ]
    }
  ]
}